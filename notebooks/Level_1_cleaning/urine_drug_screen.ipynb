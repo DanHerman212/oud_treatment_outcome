{
 "cells": [
  {
   "cell_type": "code",
   "execution_count": 1,
   "metadata": {},
   "outputs": [],
   "source": [
    "import pandas as pd\n",
    "import numpy as np"
   ]
  },
  {
   "cell_type": "code",
   "execution_count": null,
   "metadata": {},
   "outputs": [],
   "source": [
    "uds = pd.read_csv('../data/T_FRUDSAB.csv')\n",
    "\n",
    "uds.head()\n"
   ]
  },
  {
   "cell_type": "code",
   "execution_count": 3,
   "metadata": {},
   "outputs": [
    {
     "data": {
      "text/plain": [
       "Index(['PATIENTNUMBER', 'SITE', 'VISIT', 'PATIENTID', 'VISITID', 'UDS013',\n",
       "       'UDS013_UNIT', 'UDS013_NORM', 'UDS013A', 'UDS005', 'UDS005_UNIT',\n",
       "       'UDS005_NORM', 'UDS005A', 'AB001', 'AB001_UNIT', 'AB001_NORM', 'AB001A',\n",
       "       'AB001B', 'AB001B_UNIT', 'AB001B_NORM', 'AB002', 'UDS001',\n",
       "       'UDS001_UNIT', 'UDS001_NORM', 'UDS001A', 'UDS001A_UNIT', 'UDS001A_NORM',\n",
       "       'UDS001B', 'UDS002', 'UDS003', 'UDS003_UNIT', 'UDS003_NORM', 'UDS004',\n",
       "       'UDS004_UNIT', 'UDS004_NORM', 'UDS011A', 'UDS012', 'UDS012_UNIT',\n",
       "       'UDS012_NORM', 'UDS012A', 'UDS006', 'UDS006_UNIT', 'UDS006_NORM',\n",
       "       'UDS006A', 'UDS007', 'UDS007_UNIT', 'UDS007_NORM', 'UDS007A', 'UDS008',\n",
       "       'UDS008_UNIT', 'UDS008_NORM', 'UDS008A', 'UDS009', 'UDS009_UNIT',\n",
       "       'UDS009_NORM', 'UDS009A', 'UDS010', 'UDS010_UNIT', 'UDS010_NORM',\n",
       "       'UDS010A', 'UDS011', 'UDS011_UNIT', 'UDS011_NORM', 'UDS002_dt',\n",
       "       'AB001A_dt', 'patdeid'],\n",
       "      dtype='object')"
      ]
     },
     "execution_count": 3,
     "metadata": {},
     "output_type": "execute_result"
    }
   ],
   "source": [
    "uds.columns"
   ]
  },
  {
   "cell_type": "code",
   "execution_count": 4,
   "metadata": {},
   "outputs": [
    {
     "data": {
      "text/html": [
       "<div>\n",
       "<style scoped>\n",
       "    .dataframe tbody tr th:only-of-type {\n",
       "        vertical-align: middle;\n",
       "    }\n",
       "\n",
       "    .dataframe tbody tr th {\n",
       "        vertical-align: top;\n",
       "    }\n",
       "\n",
       "    .dataframe thead th {\n",
       "        text-align: right;\n",
       "    }\n",
       "</style>\n",
       "<table border=\"1\" class=\"dataframe\">\n",
       "  <thead>\n",
       "    <tr style=\"text-align: right;\">\n",
       "      <th></th>\n",
       "      <th>PATIENTNUMBER</th>\n",
       "      <th>SITE</th>\n",
       "      <th>VISIT</th>\n",
       "      <th>PATIENTID</th>\n",
       "      <th>VISITID</th>\n",
       "      <th>UDS013</th>\n",
       "      <th>UDS013_UNIT</th>\n",
       "      <th>UDS013_NORM</th>\n",
       "      <th>UDS013A</th>\n",
       "      <th>UDS005</th>\n",
       "      <th>...</th>\n",
       "      <th>UDS010</th>\n",
       "      <th>UDS010_UNIT</th>\n",
       "      <th>UDS010_NORM</th>\n",
       "      <th>UDS010A</th>\n",
       "      <th>UDS011</th>\n",
       "      <th>UDS011_UNIT</th>\n",
       "      <th>UDS011_NORM</th>\n",
       "      <th>UDS002_dt</th>\n",
       "      <th>AB001A_dt</th>\n",
       "      <th>patdeid</th>\n",
       "    </tr>\n",
       "  </thead>\n",
       "  <tbody>\n",
       "    <tr>\n",
       "      <th>0</th>\n",
       "      <td>NaN</td>\n",
       "      <td>NaN</td>\n",
       "      <td>BASELINE</td>\n",
       "      <td>NaN</td>\n",
       "      <td>15031</td>\n",
       "      <td>0.0</td>\n",
       "      <td>NaN</td>\n",
       "      <td>0.0</td>\n",
       "      <td>NaN</td>\n",
       "      <td>0.0</td>\n",
       "      <td>...</td>\n",
       "      <td>0.0</td>\n",
       "      <td>NaN</td>\n",
       "      <td>0.0</td>\n",
       "      <td>NaN</td>\n",
       "      <td>1.0</td>\n",
       "      <td>NaN</td>\n",
       "      <td>1.0</td>\n",
       "      <td>-2.0</td>\n",
       "      <td>-2.0</td>\n",
       "      <td>1</td>\n",
       "    </tr>\n",
       "  </tbody>\n",
       "</table>\n",
       "<p>1 rows × 66 columns</p>\n",
       "</div>"
      ],
      "text/plain": [
       "   PATIENTNUMBER  SITE     VISIT  PATIENTID  VISITID  UDS013  UDS013_UNIT  \\\n",
       "0            NaN   NaN  BASELINE        NaN    15031     0.0          NaN   \n",
       "\n",
       "   UDS013_NORM  UDS013A  UDS005  ...  UDS010  UDS010_UNIT  UDS010_NORM  \\\n",
       "0          0.0      NaN     0.0  ...     0.0          NaN          0.0   \n",
       "\n",
       "   UDS010A  UDS011  UDS011_UNIT  UDS011_NORM  UDS002_dt AB001A_dt  patdeid  \n",
       "0      NaN     1.0          NaN          1.0       -2.0      -2.0        1  \n",
       "\n",
       "[1 rows x 66 columns]"
      ]
     },
     "execution_count": 4,
     "metadata": {},
     "output_type": "execute_result"
    }
   ],
   "source": [
    "uds.head(1)"
   ]
  },
  {
   "cell_type": "code",
   "execution_count": 5,
   "metadata": {},
   "outputs": [],
   "source": [
    "# drop columns that aren't being used for this project\n",
    "\n",
    "uds = uds.drop(columns=[col for col in uds.columns if col not in ['AB001','AB001B','UDS001','UDS001A','UDS001B', 'UDS003', 'UDS004', 'UDS005', 'UDS006', 'UDS007', 'UDS008', 'UDS009', 'UDS010', 'UDS011', 'UDS012', 'UDS013']])"
   ]
  },
  {
   "cell_type": "code",
   "execution_count": 7,
   "metadata": {},
   "outputs": [],
   "source": [
    "new_column_names = {'AB001':'t_alcohol','AB001B':'alc_result','UDS001':'urine_test','UDS001A':'refuse_reason','UDS001B':'other_reason', 'UDS003':'urine_temp','UDS004':'supervised','UDS005':'t_Amphetamines', 'UDS006':'t_Benzodiazapines','UDS007':'t_Methadone', 'UDS008':'t_Oxycodone', 'UDS009':'t_Cocaine', 'UDS010':'t_Methamphetamine', 'UDS011':'t_Opiate300', 'UDS012':'t_Cannabinoids', 'UDS013':'t_Propoxyphene'}"
   ]
  },
  {
   "cell_type": "code",
   "execution_count": 8,
   "metadata": {},
   "outputs": [
    {
     "data": {
      "text/html": [
       "<div>\n",
       "<style scoped>\n",
       "    .dataframe tbody tr th:only-of-type {\n",
       "        vertical-align: middle;\n",
       "    }\n",
       "\n",
       "    .dataframe tbody tr th {\n",
       "        vertical-align: top;\n",
       "    }\n",
       "\n",
       "    .dataframe thead th {\n",
       "        text-align: right;\n",
       "    }\n",
       "</style>\n",
       "<table border=\"1\" class=\"dataframe\">\n",
       "  <thead>\n",
       "    <tr style=\"text-align: right;\">\n",
       "      <th></th>\n",
       "      <th>t_Propoxyphene</th>\n",
       "      <th>t_Amphetamines</th>\n",
       "      <th>t_alcohol</th>\n",
       "      <th>alc_result</th>\n",
       "      <th>urine_test</th>\n",
       "      <th>refuse_reason</th>\n",
       "      <th>other_reason</th>\n",
       "      <th>urine_temp</th>\n",
       "      <th>supervised</th>\n",
       "      <th>t_Cannabinoids</th>\n",
       "      <th>t_Benzodiazapines</th>\n",
       "      <th>t_Methadone</th>\n",
       "      <th>t_Oxycodone</th>\n",
       "      <th>t_Cocaine</th>\n",
       "      <th>t_Methamphetamine</th>\n",
       "      <th>t_Opiate300</th>\n",
       "    </tr>\n",
       "  </thead>\n",
       "  <tbody>\n",
       "    <tr>\n",
       "      <th>0</th>\n",
       "      <td>0.0</td>\n",
       "      <td>0.0</td>\n",
       "      <td>1.0</td>\n",
       "      <td>0.0</td>\n",
       "      <td>1.0</td>\n",
       "      <td>NaN</td>\n",
       "      <td>NaN</td>\n",
       "      <td>1.0</td>\n",
       "      <td>0.0</td>\n",
       "      <td>0.0</td>\n",
       "      <td>0.0</td>\n",
       "      <td>0.0</td>\n",
       "      <td>0.0</td>\n",
       "      <td>0.0</td>\n",
       "      <td>0.0</td>\n",
       "      <td>1.0</td>\n",
       "    </tr>\n",
       "  </tbody>\n",
       "</table>\n",
       "</div>"
      ],
      "text/plain": [
       "   t_Propoxyphene  t_Amphetamines  t_alcohol  alc_result  urine_test  \\\n",
       "0             0.0             0.0        1.0         0.0         1.0   \n",
       "\n",
       "   refuse_reason other_reason  urine_temp  supervised  t_Cannabinoids  \\\n",
       "0            NaN          NaN         1.0         0.0             0.0   \n",
       "\n",
       "   t_Benzodiazapines  t_Methadone  t_Oxycodone  t_Cocaine  t_Methamphetamine  \\\n",
       "0                0.0          0.0          0.0        0.0                0.0   \n",
       "\n",
       "   t_Opiate300  \n",
       "0          1.0  "
      ]
     },
     "execution_count": 8,
     "metadata": {},
     "output_type": "execute_result"
    }
   ],
   "source": [
    "uds = uds.rename(columns=new_column_names)\n",
    "\n",
    "uds.head(1)"
   ]
  },
  {
   "cell_type": "code",
   "execution_count": 10,
   "metadata": {},
   "outputs": [
    {
     "data": {
      "text/html": [
       "<div>\n",
       "<style scoped>\n",
       "    .dataframe tbody tr th:only-of-type {\n",
       "        vertical-align: middle;\n",
       "    }\n",
       "\n",
       "    .dataframe tbody tr th {\n",
       "        vertical-align: top;\n",
       "    }\n",
       "\n",
       "    .dataframe thead th {\n",
       "        text-align: right;\n",
       "    }\n",
       "</style>\n",
       "<table border=\"1\" class=\"dataframe\">\n",
       "  <thead>\n",
       "    <tr style=\"text-align: right;\">\n",
       "      <th></th>\n",
       "      <th>t_alcohol</th>\n",
       "      <th>alc_result</th>\n",
       "      <th>urine_test</th>\n",
       "      <th>refuse_reason</th>\n",
       "      <th>other_reason</th>\n",
       "      <th>urine_temp</th>\n",
       "      <th>supervised</th>\n",
       "      <th>t_Amphetamines</th>\n",
       "      <th>t_Benzodiazapines</th>\n",
       "      <th>t_Methadone</th>\n",
       "      <th>t_Oxycodone</th>\n",
       "      <th>t_Cocaine</th>\n",
       "      <th>t_Methamphetamine</th>\n",
       "      <th>t_Opiate300</th>\n",
       "      <th>t_Cannabinoids</th>\n",
       "      <th>t_Propoxyphene</th>\n",
       "    </tr>\n",
       "  </thead>\n",
       "  <tbody>\n",
       "    <tr>\n",
       "      <th>0</th>\n",
       "      <td>1.0</td>\n",
       "      <td>0.0</td>\n",
       "      <td>1.0</td>\n",
       "      <td>NaN</td>\n",
       "      <td>NaN</td>\n",
       "      <td>1.0</td>\n",
       "      <td>0.0</td>\n",
       "      <td>0.0</td>\n",
       "      <td>0.0</td>\n",
       "      <td>0.0</td>\n",
       "      <td>0.0</td>\n",
       "      <td>0.0</td>\n",
       "      <td>0.0</td>\n",
       "      <td>1.0</td>\n",
       "      <td>0.0</td>\n",
       "      <td>0.0</td>\n",
       "    </tr>\n",
       "  </tbody>\n",
       "</table>\n",
       "</div>"
      ],
      "text/plain": [
       "   t_alcohol  alc_result  urine_test  refuse_reason other_reason  urine_temp  \\\n",
       "0        1.0         0.0         1.0            NaN          NaN         1.0   \n",
       "\n",
       "   supervised  t_Amphetamines  t_Benzodiazapines  t_Methadone  t_Oxycodone  \\\n",
       "0         0.0             0.0                0.0          0.0          0.0   \n",
       "\n",
       "   t_Cocaine  t_Methamphetamine  t_Opiate300  t_Cannabinoids  t_Propoxyphene  \n",
       "0        0.0                0.0          1.0             0.0             0.0  "
      ]
     },
     "execution_count": 10,
     "metadata": {},
     "output_type": "execute_result"
    }
   ],
   "source": [
    "uds = uds.reindex(columns=['t_alcohol','alc_result','urine_test','refuse_reason','other_reason','urine_temp','supervised','t_Amphetamines','t_Benzodiazapines', 't_Methadone','t_Oxycodone','t_Cocaine','t_Methamphetamine','t_Opiate300','t_Cannabinoids','t_Propoxyphene'])\n",
    "\n",
    "uds.head(1)"
   ]
  },
  {
   "cell_type": "code",
   "execution_count": 11,
   "metadata": {},
   "outputs": [],
   "source": [
    "uds.to_csv('../clean_data/urine_drug_screen.csv', index=False)"
   ]
  },
  {
   "cell_type": "code",
   "execution_count": null,
   "metadata": {},
   "outputs": [],
   "source": []
  }
 ],
 "metadata": {
  "kernelspec": {
   "display_name": "labs",
   "language": "python",
   "name": "python3"
  },
  "language_info": {
   "codemirror_mode": {
    "name": "ipython",
    "version": 3
   },
   "file_extension": ".py",
   "mimetype": "text/x-python",
   "name": "python",
   "nbconvert_exporter": "python",
   "pygments_lexer": "ipython3",
   "version": "3.9.16"
  },
  "orig_nbformat": 4
 },
 "nbformat": 4,
 "nbformat_minor": 2
}
