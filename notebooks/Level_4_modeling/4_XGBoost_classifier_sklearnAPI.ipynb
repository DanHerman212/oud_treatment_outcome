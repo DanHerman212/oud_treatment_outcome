{
 "cells": [
  {
   "cell_type": "code",
   "execution_count": 1,
   "metadata": {},
   "outputs": [],
   "source": [
    "# Data processing\n",
    "import pandas as pd\n",
    "import numpy as np\n",
    "\n",
    "# Model and performance evaluation\n",
    "from sklearn.model_selection import train_test_split\n",
    "from xgboost import XGBClassifier\n",
    "from sklearn.metrics import precision_recall_fscore_support as score \n",
    "from sklearn.metrics import confusion_matrix, classification_report, ConfusionMatrixDisplay\n",
    "\n",
    "# Hyperparameter tuning\n",
    "from sklearn.model_selection import StratifiedKFold, cross_val_score, GridSearchCV, RandomizedSearchCV\n",
    "# from hyperopt import tpe, STATUS_OK, Trials, hp, fmin, STATUS_OK, space_eval\n",
    "\n",
    "pd.set_option('display.max_columns', None)\n",
    "pd.set_option('display.max_rows', None)"
   ]
  },
  {
   "cell_type": "code",
   "execution_count": 2,
   "metadata": {},
   "outputs": [],
   "source": [
    "# import the data\n",
    "data = pd.read_csv('/Users/danherman/Desktop/oud_treatment_outcome/data/clean_data/sep6.csv')"
   ]
  },
  {
   "cell_type": "code",
   "execution_count": 3,
   "metadata": {},
   "outputs": [],
   "source": [
    "# set the feature and target variable\n",
    "X = data.drop(columns='outcome')\n",
    "y = data.outcome\n",
    "\n",
    "# train test split\n",
    "X_train, X_test, y_train, y_test = train_test_split(X, y, test_size = 0.3)"
   ]
  },
  {
   "cell_type": "markdown",
   "metadata": {},
   "source": [
    "###  Before executing grid search alogrithms, a benchmark model has to be fitted"
   ]
  },
  {
   "cell_type": "code",
   "execution_count": 4,
   "metadata": {},
   "outputs": [
    {
     "data": {
      "text/plain": [
       "{'objective': 'binary:logistic',\n",
       " 'use_label_encoder': None,\n",
       " 'base_score': None,\n",
       " 'booster': None,\n",
       " 'callbacks': None,\n",
       " 'colsample_bylevel': None,\n",
       " 'colsample_bynode': None,\n",
       " 'colsample_bytree': None,\n",
       " 'early_stopping_rounds': None,\n",
       " 'enable_categorical': False,\n",
       " 'eval_metric': None,\n",
       " 'feature_types': None,\n",
       " 'gamma': None,\n",
       " 'gpu_id': None,\n",
       " 'grow_policy': None,\n",
       " 'importance_type': None,\n",
       " 'interaction_constraints': None,\n",
       " 'learning_rate': None,\n",
       " 'max_bin': None,\n",
       " 'max_cat_threshold': None,\n",
       " 'max_cat_to_onehot': None,\n",
       " 'max_delta_step': None,\n",
       " 'max_depth': None,\n",
       " 'max_leaves': None,\n",
       " 'min_child_weight': None,\n",
       " 'missing': nan,\n",
       " 'monotone_constraints': None,\n",
       " 'n_estimators': 100,\n",
       " 'n_jobs': None,\n",
       " 'num_parallel_tree': None,\n",
       " 'predictor': None,\n",
       " 'random_state': None,\n",
       " 'reg_alpha': None,\n",
       " 'reg_lambda': None,\n",
       " 'sampling_method': None,\n",
       " 'scale_pos_weight': None,\n",
       " 'subsample': None,\n",
       " 'tree_method': None,\n",
       " 'validate_parameters': None,\n",
       " 'verbosity': None}"
      ]
     },
     "execution_count": 4,
     "metadata": {},
     "output_type": "execute_result"
    }
   ],
   "source": [
    "# Initiate XGBoost Classifier\n",
    "xgbc0 = XGBClassifier()\n",
    "\n",
    "# Print default setting\n",
    "xgbc0.get_params()"
   ]
  },
  {
   "cell_type": "code",
   "execution_count": 5,
   "metadata": {},
   "outputs": [],
   "source": [
    "# Train the model\n",
    "xgbc0 = XGBClassifier(seed=0).fit(X_train,y_train)\n",
    "\n",
    "# Make prediction\n",
    "xgbc0_predict = xgbc0.predict(X_test)\n",
    "\n",
    "# Get predicted probability\n",
    "xgbc0_predict_prob = xgbc0.predict_proba(X_test)[:,1]"
   ]
  },
  {
   "cell_type": "code",
   "execution_count": 7,
   "metadata": {},
   "outputs": [
    {
     "name": "stdout",
     "output_type": "stream",
     "text": [
      "The recall value for the baseline xgboost model is 0.7623\n"
     ]
    }
   ],
   "source": [
    "# Get performance metrics\n",
    "precision, recall, fscore, support = score(y_test, xgbc0_predict)\n",
    "\n",
    "# Print result\n",
    "print(f'The recall value for the baseline xgboost model is {recall[1]:.4f}')"
   ]
  },
  {
   "cell_type": "code",
   "execution_count": 8,
   "metadata": {},
   "outputs": [
    {
     "data": {
      "image/png": "[encoded data removed]",
      "text/plain": [
       "<Figure size 640x480 with 2 Axes>"
      ]
     },
     "metadata": {},
     "output_type": "display_data"
    }
   ],
   "source": [
    "# show confusion matrix display\n",
    "confusion_matrix = confusion_matrix(y_test, xgbc0_predict)\n",
    "disp = ConfusionMatrixDisplay(confusion_matrix=confusion_matrix, display_labels=['No', 'Yes'])\n",
    "disp.plot();"
   ]
  },
  {
   "cell_type": "markdown",
   "metadata": {},
   "source": [
    "### We wil now take a brute force approach to grid search to find ideal params to optimize the model\n",
    "We will keep the grid search space relatively small to finish in a reasonable timeframe "
   ]
  },
  {
   "cell_type": "code",
   "execution_count": 9,
   "metadata": {},
   "outputs": [],
   "source": [
    "# Define the search space\n",
    "param_grid = { \n",
    "    # Percentage of columns to be randomly samples for each tree.\n",
    "    \"colsample_bytree\": [ 0.3, 0.5 , 0.8 ],\n",
    "    # reg_alpha provides l1 regularization to the weight, higher values result in more conservative models\n",
    "    \"reg_alpha\": [0, 0.5, 1, 5],\n",
    "    # reg_lambda provides l2 regularization to the weight, higher values result in more conservative models\n",
    "    \"reg_lambda\": [0, 0.5, 1, 5]\n",
    "    }\n",
    "# Set up score\n",
    "scoring = ['recall']\n",
    "# Set up the k-fold cross-validation\n",
    "kfold = StratifiedKFold(n_splits=3, shuffle=True, random_state=0)"
   ]
  },
  {
   "cell_type": "code",
   "execution_count": 10,
   "metadata": {},
   "outputs": [
    {
     "name": "stdout",
     "output_type": "stream",
     "text": [
      "Fitting 3 folds for each of 48 candidates, totalling 144 fits\n",
      "[CV 2/3] END colsample_bytree=0.3, reg_alpha=0, reg_lambda=0; recall: (test=0.787) total time=   2.5s\n",
      "[CV 2/3] END colsample_bytree=0.3, reg_alpha=0, reg_lambda=0.5; recall: (test=0.831) total time=   2.4s\n",
      "[CV 1/3] END colsample_bytree=0.3, reg_alpha=0, reg_lambda=0.5; recall: (test=0.798) total time=   2.4s\n",
      "[CV 1/3] END colsample_bytree=0.3, reg_alpha=0, reg_lambda=1; recall: (test=0.809) total time=   2.4s\n",
      "[CV 3/3] END colsample_bytree=0.3, reg_alpha=0, reg_lambda=0.5; recall: (test=0.753) total time=   2.4s\n",
      "[CV 2/3] END colsample_bytree=0.3, reg_alpha=0, reg_lambda=1; recall: (test=0.865) total time=   2.5s\n",
      "[CV 1/3] END colsample_bytree=0.3, reg_alpha=0, reg_lambda=0; recall: (test=0.798) total time=   2.6s\n",
      "[CV 3/3] END colsample_bytree=0.3, reg_alpha=0, reg_lambda=0; recall: (test=0.742) total time=   2.7s\n",
      "[CV 1/3] END colsample_bytree=0.3, reg_alpha=0, reg_lambda=5; recall: (test=0.843) total time=   2.2s\n",
      "[CV 2/3] END colsample_bytree=0.3, reg_alpha=0, reg_lambda=5; recall: (test=0.865) total time=   2.3s\n",
      "[CV 1/3] END colsample_bytree=0.3, reg_alpha=0.5, reg_lambda=0; recall: (test=0.820) total time=   2.3s\n",
      "[CV 3/3] END colsample_bytree=0.3, reg_alpha=0, reg_lambda=5; recall: (test=0.888) total time=   2.3s\n",
      "[CV 3/3] END colsample_bytree=0.3, reg_alpha=0, reg_lambda=1; recall: (test=0.798) total time=   2.3s\n",
      "[CV 2/3] END colsample_bytree=0.3, reg_alpha=0.5, reg_lambda=0; recall: (test=0.843) total time=   2.3s\n",
      "[CV 3/3] END colsample_bytree=0.3, reg_alpha=0.5, reg_lambda=0; recall: (test=0.843) total time=   2.3s\n",
      "[CV 1/3] END colsample_bytree=0.3, reg_alpha=0.5, reg_lambda=0.5; recall: (test=0.831) total time=   2.3s\n",
      "[CV 2/3] END colsample_bytree=0.3, reg_alpha=0.5, reg_lambda=0.5; recall: (test=0.854) total time=   2.3s\n",
      "[CV 3/3] END colsample_bytree=0.3, reg_alpha=0.5, reg_lambda=1; recall: (test=0.865) total time=   2.2s\n",
      "[CV 3/3] END colsample_bytree=0.3, reg_alpha=0.5, reg_lambda=0.5; recall: (test=0.798) total time=   2.3s\n",
      "[CV 1/3] END colsample_bytree=0.3, reg_alpha=0.5, reg_lambda=1; recall: (test=0.820) total time=   2.3s\n",
      "[CV 2/3] END colsample_bytree=0.3, reg_alpha=0.5, reg_lambda=1; recall: (test=0.865) total time=   2.3s\n",
      "[CV 3/3] END colsample_bytree=0.3, reg_alpha=0.5, reg_lambda=5; recall: (test=0.876) total time=   2.2s\n",
      "[CV 1/3] END colsample_bytree=0.3, reg_alpha=0.5, reg_lambda=5; recall: (test=0.865) total time=   2.4s\n",
      "[CV 2/3] END colsample_bytree=0.3, reg_alpha=0.5, reg_lambda=5; recall: (test=0.876) total time=   2.3s\n",
      "[CV 1/3] END colsample_bytree=0.3, reg_alpha=1, reg_lambda=0; recall: (test=0.865) total time=   2.1s\n",
      "[CV 2/3] END colsample_bytree=0.3, reg_alpha=1, reg_lambda=0; recall: (test=0.854) total time=   2.2s\n",
      "[CV 2/3] END colsample_bytree=0.3, reg_alpha=1, reg_lambda=0.5; recall: (test=0.854) total time=   2.2s\n",
      "[CV 1/3] END colsample_bytree=0.3, reg_alpha=1, reg_lambda=0.5; recall: (test=0.865) total time=   2.2s\n",
      "[CV 3/3] END colsample_bytree=0.3, reg_alpha=1, reg_lambda=0; recall: (test=0.854) total time=   2.3s\n",
      "[CV 3/3] END colsample_bytree=0.3, reg_alpha=1, reg_lambda=0.5; recall: (test=0.865) total time=   2.2s\n",
      "[CV 1/3] END colsample_bytree=0.3, reg_alpha=1, reg_lambda=1; recall: (test=0.876) total time=   2.2s\n",
      "[CV 2/3] END colsample_bytree=0.3, reg_alpha=1, reg_lambda=1; recall: (test=0.854) total time=   2.3s\n",
      "[CV 1/3] END colsample_bytree=0.3, reg_alpha=5, reg_lambda=0; recall: (test=0.899) total time=   1.5s\n",
      "[CV 3/3] END colsample_bytree=0.3, reg_alpha=5, reg_lambda=0; recall: (test=0.888) total time=   1.4s\n",
      "[CV 2/3] END colsample_bytree=0.3, reg_alpha=5, reg_lambda=0; recall: (test=0.899) total time=   1.5s\n",
      "[CV 1/3] END colsample_bytree=0.3, reg_alpha=5, reg_lambda=0.5; recall: (test=0.899) total time=   1.5s\n",
      "[CV 3/3] END colsample_bytree=0.3, reg_alpha=1, reg_lambda=5; recall: (test=0.899) total time=   2.2s\n",
      "[CV 2/3] END colsample_bytree=0.3, reg_alpha=1, reg_lambda=5; recall: (test=0.876) total time=   2.2s\n",
      "[CV 1/3] END colsample_bytree=0.3, reg_alpha=1, reg_lambda=5; recall: (test=0.876) total time=   2.2s\n",
      "[CV 3/3] END colsample_bytree=0.3, reg_alpha=1, reg_lambda=1; recall: (test=0.876) total time=   2.4s\n",
      "[CV 2/3] END colsample_bytree=0.3, reg_alpha=5, reg_lambda=0.5; recall: (test=0.899) total time=   1.6s\n",
      "[CV 3/3] END colsample_bytree=0.3, reg_alpha=5, reg_lambda=0.5; recall: (test=0.899) total time=   1.6s\n",
      "[CV 1/3] END colsample_bytree=0.3, reg_alpha=5, reg_lambda=1; recall: (test=0.899) total time=   1.6s\n",
      "[CV 2/3] END colsample_bytree=0.3, reg_alpha=5, reg_lambda=1; recall: (test=0.831) total time=   1.5s\n",
      "[CV 3/3] END colsample_bytree=0.3, reg_alpha=5, reg_lambda=1; recall: (test=0.888) total time=   1.4s\n",
      "[CV 2/3] END colsample_bytree=0.3, reg_alpha=5, reg_lambda=5; recall: (test=0.831) total time=   1.6s\n",
      "[CV 3/3] END colsample_bytree=0.3, reg_alpha=5, reg_lambda=5; recall: (test=0.899) total time=   1.6s\n",
      "[CV 1/3] END colsample_bytree=0.3, reg_alpha=5, reg_lambda=5; recall: (test=0.899) total time=   1.6s\n",
      "[CV 2/3] END colsample_bytree=0.5, reg_alpha=0, reg_lambda=0; recall: (test=0.753) total time=   4.0s\n",
      "[CV 1/3] END colsample_bytree=0.5, reg_alpha=0, reg_lambda=0.5; recall: (test=0.809) total time=   3.9s\n",
      "[CV 1/3] END colsample_bytree=0.5, reg_alpha=0, reg_lambda=0; recall: (test=0.787) total time=   4.2s\n",
      "[CV 3/3] END colsample_bytree=0.5, reg_alpha=0, reg_lambda=0; recall: (test=0.775) total time=   4.1s\n",
      "[CV 2/3] END colsample_bytree=0.5, reg_alpha=0, reg_lambda=0.5; recall: (test=0.753) total time=   3.8s\n",
      "[CV 2/3] END colsample_bytree=0.5, reg_alpha=0, reg_lambda=1; recall: (test=0.775) total time=   3.6s\n",
      "[CV 1/3] END colsample_bytree=0.5, reg_alpha=0, reg_lambda=1; recall: (test=0.809) total time=   3.7s\n",
      "[CV 3/3] END colsample_bytree=0.5, reg_alpha=0, reg_lambda=0.5; recall: (test=0.742) total time=   3.8s\n",
      "[CV 1/3] END colsample_bytree=0.5, reg_alpha=0, reg_lambda=5; recall: (test=0.820) total time=   3.4s\n",
      "[CV 3/3] END colsample_bytree=0.5, reg_alpha=0, reg_lambda=5; recall: (test=0.787) total time=   3.3s\n",
      "[CV 3/3] END colsample_bytree=0.5, reg_alpha=0, reg_lambda=1; recall: (test=0.742) total time=   3.7s\n",
      "[CV 2/3] END colsample_bytree=0.5, reg_alpha=0.5, reg_lambda=0; recall: (test=0.775) total time=   3.5s\n",
      "[CV 2/3] END colsample_bytree=0.5, reg_alpha=0, reg_lambda=5; recall: (test=0.831) total time=   3.6s\n",
      "[CV 1/3] END colsample_bytree=0.5, reg_alpha=0.5, reg_lambda=0; recall: (test=0.809) total time=   3.6s\n",
      "[CV 1/3] END colsample_bytree=0.5, reg_alpha=0.5, reg_lambda=0.5; recall: (test=0.809) total time=   3.6s\n",
      "[CV 3/3] END colsample_bytree=0.5, reg_alpha=0.5, reg_lambda=0; recall: (test=0.753) total time=   3.7s\n",
      "[CV 2/3] END colsample_bytree=0.5, reg_alpha=0.5, reg_lambda=0.5; recall: (test=0.831) total time=   3.7s\n",
      "[CV 3/3] END colsample_bytree=0.5, reg_alpha=0.5, reg_lambda=0.5; recall: (test=0.764) total time=   3.7s\n",
      "[CV 1/3] END colsample_bytree=0.5, reg_alpha=0.5, reg_lambda=5; recall: (test=0.843) total time=   3.3s\n",
      "[CV 1/3] END colsample_bytree=0.5, reg_alpha=0.5, reg_lambda=1; recall: (test=0.809) total time=   3.7s\n",
      "[CV 3/3] END colsample_bytree=0.5, reg_alpha=0.5, reg_lambda=5; recall: (test=0.787) total time=   3.4s\n",
      "[CV 3/3] END colsample_bytree=0.5, reg_alpha=0.5, reg_lambda=1; recall: (test=0.764) total time=   3.6s\n",
      "[CV 2/3] END colsample_bytree=0.5, reg_alpha=0.5, reg_lambda=5; recall: (test=0.876) total time=   3.4s\n",
      "[CV 2/3] END colsample_bytree=0.5, reg_alpha=0.5, reg_lambda=1; recall: (test=0.831) total time=   3.7s\n",
      "[CV 1/3] END colsample_bytree=0.5, reg_alpha=1, reg_lambda=0; recall: (test=0.831) total time=   2.9s\n",
      "[CV 3/3] END colsample_bytree=0.5, reg_alpha=1, reg_lambda=0; recall: (test=0.809) total time=   2.9s\n",
      "[CV 2/3] END colsample_bytree=0.5, reg_alpha=1, reg_lambda=0.5; recall: (test=0.865) total time=   2.8s\n",
      "[CV 2/3] END colsample_bytree=0.5, reg_alpha=1, reg_lambda=0; recall: (test=0.831) total time=   3.1s\n",
      "[CV 1/3] END colsample_bytree=0.5, reg_alpha=1, reg_lambda=0.5; recall: (test=0.854) total time=   3.1s\n",
      "[CV 2/3] END colsample_bytree=0.5, reg_alpha=1, reg_lambda=1; recall: (test=0.876) total time=   3.2s\n",
      "[CV 3/3] END colsample_bytree=0.5, reg_alpha=1, reg_lambda=0.5; recall: (test=0.730) total time=   3.3s\n",
      "[CV 1/3] END colsample_bytree=0.5, reg_alpha=1, reg_lambda=1; recall: (test=0.854) total time=   3.5s\n",
      "[CV 1/3] END colsample_bytree=0.5, reg_alpha=5, reg_lambda=0; recall: (test=0.899) total time=   2.0s\n",
      "[CV 2/3] END colsample_bytree=0.5, reg_alpha=5, reg_lambda=0; recall: (test=0.876) total time=   2.0s\n",
      "[CV 3/3] END colsample_bytree=0.5, reg_alpha=5, reg_lambda=0; recall: (test=0.899) total time=   2.0s\n",
      "[CV 1/3] END colsample_bytree=0.5, reg_alpha=5, reg_lambda=0.5; recall: (test=0.899) total time=   2.1s\n",
      "[CV 1/3] END colsample_bytree=0.5, reg_alpha=1, reg_lambda=5; recall: (test=0.876) total time=   3.2s\n",
      "[CV 3/3] END colsample_bytree=0.5, reg_alpha=1, reg_lambda=1; recall: (test=0.775) total time=   3.3s\n",
      "[CV 3/3] END colsample_bytree=0.5, reg_alpha=1, reg_lambda=5; recall: (test=0.798) total time=   3.3s\n",
      "[CV 2/3] END colsample_bytree=0.5, reg_alpha=1, reg_lambda=5; recall: (test=0.865) total time=   3.3s\n",
      "[CV 2/3] END colsample_bytree=0.5, reg_alpha=5, reg_lambda=0.5; recall: (test=0.831) total time=   2.0s\n",
      "[CV 3/3] END colsample_bytree=0.5, reg_alpha=5, reg_lambda=0.5; recall: (test=0.888) total time=   1.9s\n",
      "[CV 1/3] END colsample_bytree=0.5, reg_alpha=5, reg_lambda=1; recall: (test=0.899) total time=   2.2s\n",
      "[CV 2/3] END colsample_bytree=0.5, reg_alpha=5, reg_lambda=1; recall: (test=0.876) total time=   2.1s\n",
      "[CV 3/3] END colsample_bytree=0.5, reg_alpha=5, reg_lambda=1; recall: (test=0.899) total time=   2.1s\n",
      "[CV 1/3] END colsample_bytree=0.5, reg_alpha=5, reg_lambda=5; recall: (test=0.865) total time=   2.3s\n",
      "[CV 3/3] END colsample_bytree=0.5, reg_alpha=5, reg_lambda=5; recall: (test=0.888) total time=   2.2s\n",
      "[CV 2/3] END colsample_bytree=0.5, reg_alpha=5, reg_lambda=5; recall: (test=0.831) total time=   2.3s\n",
      "[CV 1/3] END colsample_bytree=0.8, reg_alpha=0, reg_lambda=0; recall: (test=0.787) total time=   5.8s\n",
      "[CV 2/3] END colsample_bytree=0.8, reg_alpha=0, reg_lambda=0; recall: (test=0.753) total time=   6.0s\n",
      "[CV 1/3] END colsample_bytree=0.8, reg_alpha=0, reg_lambda=0.5; recall: (test=0.798) total time=   5.6s\n",
      "[CV 3/3] END colsample_bytree=0.8, reg_alpha=0, reg_lambda=0; recall: (test=0.708) total time=   6.0s\n",
      "[CV 2/3] END colsample_bytree=0.8, reg_alpha=0, reg_lambda=0.5; recall: (test=0.764) total time=   5.6s\n",
      "[CV 1/3] END colsample_bytree=0.8, reg_alpha=0, reg_lambda=1; recall: (test=0.764) total time=   5.7s\n",
      "[CV 3/3] END colsample_bytree=0.8, reg_alpha=0, reg_lambda=0.5; recall: (test=0.674) total time=   5.7s\n",
      "[CV 2/3] END colsample_bytree=0.8, reg_alpha=0, reg_lambda=1; recall: (test=0.753) total time=   5.7s\n",
      "[CV 1/3] END colsample_bytree=0.8, reg_alpha=0, reg_lambda=5; recall: (test=0.831) total time=   5.2s\n",
      "[CV 3/3] END colsample_bytree=0.8, reg_alpha=0, reg_lambda=1; recall: (test=0.742) total time=   5.7s\n",
      "[CV 3/3] END colsample_bytree=0.8, reg_alpha=0, reg_lambda=5; recall: (test=0.685) total time=   5.2s\n",
      "[CV 2/3] END colsample_bytree=0.8, reg_alpha=0, reg_lambda=5; recall: (test=0.831) total time=   5.3s\n",
      "[CV 2/3] END colsample_bytree=0.8, reg_alpha=0.5, reg_lambda=0; recall: (test=0.798) total time=   4.9s\n",
      "[CV 1/3] END colsample_bytree=0.8, reg_alpha=0.5, reg_lambda=0; recall: (test=0.753) total time=   5.7s\n",
      "[CV 3/3] END colsample_bytree=0.8, reg_alpha=0.5, reg_lambda=0; recall: (test=0.708) total time=   5.6s\n",
      "[CV 1/3] END colsample_bytree=0.8, reg_alpha=0.5, reg_lambda=0.5; recall: (test=0.798) total time=   5.6s\n",
      "[CV 2/3] END colsample_bytree=0.8, reg_alpha=0.5, reg_lambda=0.5; recall: (test=0.787) total time=   5.5s\n",
      "[CV 3/3] END colsample_bytree=0.8, reg_alpha=0.5, reg_lambda=0.5; recall: (test=0.730) total time=   5.4s\n",
      "[CV 1/3] END colsample_bytree=0.8, reg_alpha=0.5, reg_lambda=1; recall: (test=0.809) total time=   5.5s\n",
      "[CV 2/3] END colsample_bytree=0.8, reg_alpha=0.5, reg_lambda=1; recall: (test=0.798) total time=   5.4s\n",
      "[CV 3/3] END colsample_bytree=0.8, reg_alpha=0.5, reg_lambda=1; recall: (test=0.775) total time=   5.3s\n",
      "[CV 1/3] END colsample_bytree=0.8, reg_alpha=0.5, reg_lambda=5; recall: (test=0.865) total time=   5.1s\n",
      "[CV 3/3] END colsample_bytree=0.8, reg_alpha=0.5, reg_lambda=5; recall: (test=0.742) total time=   4.9s\n",
      "[CV 2/3] END colsample_bytree=0.8, reg_alpha=0.5, reg_lambda=5; recall: (test=0.820) total time=   5.1s\n",
      "[CV 2/3] END colsample_bytree=0.8, reg_alpha=1, reg_lambda=0; recall: (test=0.831) total time=   3.2s\n",
      "[CV 1/3] END colsample_bytree=0.8, reg_alpha=1, reg_lambda=0; recall: (test=0.876) total time=   3.5s\n",
      "[CV 2/3] END colsample_bytree=0.8, reg_alpha=1, reg_lambda=0.5; recall: (test=0.843) total time=   3.3s\n",
      "[CV 1/3] END colsample_bytree=0.8, reg_alpha=1, reg_lambda=0.5; recall: (test=0.865) total time=   3.8s\n",
      "[CV 3/3] END colsample_bytree=0.8, reg_alpha=1, reg_lambda=0; recall: (test=0.742) total time=   4.1s\n",
      "[CV 2/3] END colsample_bytree=0.8, reg_alpha=1, reg_lambda=1; recall: (test=0.831) total time=   4.6s\n",
      "[CV 1/3] END colsample_bytree=0.8, reg_alpha=1, reg_lambda=1; recall: (test=0.865) total time=   4.8s\n",
      "[CV 3/3] END colsample_bytree=0.8, reg_alpha=1, reg_lambda=0.5; recall: (test=0.730) total time=   5.1s\n",
      "[CV 1/3] END colsample_bytree=0.8, reg_alpha=5, reg_lambda=0; recall: (test=0.888) total time=   2.5s\n",
      "[CV 2/3] END colsample_bytree=0.8, reg_alpha=5, reg_lambda=0; recall: (test=0.910) total time=   2.4s\n",
      "[CV 3/3] END colsample_bytree=0.8, reg_alpha=5, reg_lambda=0; recall: (test=0.888) total time=   2.4s\n",
      "[CV 1/3] END colsample_bytree=0.8, reg_alpha=5, reg_lambda=0.5; recall: (test=0.888) total time=   2.6s\n",
      "[CV 3/3] END colsample_bytree=0.8, reg_alpha=1, reg_lambda=1; recall: (test=0.742) total time=   5.2s\n",
      "[CV 1/3] END colsample_bytree=0.8, reg_alpha=1, reg_lambda=5; recall: (test=0.865) total time=   5.1s\n",
      "[CV 2/3] END colsample_bytree=0.8, reg_alpha=1, reg_lambda=5; recall: (test=0.843) total time=   5.0s\n",
      "[CV 2/3] END colsample_bytree=0.8, reg_alpha=5, reg_lambda=0.5; recall: (test=0.899) total time=   2.3s\n",
      "[CV 3/3] END colsample_bytree=0.8, reg_alpha=1, reg_lambda=5; recall: (test=0.798) total time=   5.1s\n",
      "[CV 3/3] END colsample_bytree=0.8, reg_alpha=5, reg_lambda=0.5; recall: (test=0.865) total time=   2.4s\n",
      "[CV 1/3] END colsample_bytree=0.8, reg_alpha=5, reg_lambda=1; recall: (test=0.888) total time=   2.5s\n",
      "[CV 2/3] END colsample_bytree=0.8, reg_alpha=5, reg_lambda=1; recall: (test=0.888) total time=   2.3s\n",
      "[CV 3/3] END colsample_bytree=0.8, reg_alpha=5, reg_lambda=1; recall: (test=0.865) total time=   2.3s\n",
      "[CV 2/3] END colsample_bytree=0.8, reg_alpha=5, reg_lambda=5; recall: (test=0.876) total time=   2.5s\n",
      "[CV 1/3] END colsample_bytree=0.8, reg_alpha=5, reg_lambda=5; recall: (test=0.888) total time=   2.9s\n",
      "[CV 3/3] END colsample_bytree=0.8, reg_alpha=5, reg_lambda=5; recall: (test=0.899) total time=   2.4s\n"
     ]
    }
   ],
   "source": [
    "# Define grid search\n",
    "grid_search = GridSearchCV(estimator=xgbc0, \n",
    "                           param_grid=param_grid, \n",
    "                           scoring=scoring, \n",
    "                           refit='recall', \n",
    "                           n_jobs=8, \n",
    "                           cv=kfold, \n",
    "                           verbose=5)\n",
    "\n",
    "# Fit grid search\n",
    "grid_result = grid_search.fit(X_train, y_train)\n"
   ]
  },
  {
   "cell_type": "code",
   "execution_count": 11,
   "metadata": {},
   "outputs": [
    {
     "name": "stdout",
     "output_type": "stream",
     "text": [
      "The best score is 0.8989\n",
      "The best score standard deviation is 0.0\n",
      "The best hyperparameters are {'colsample_bytree': 0.3, 'reg_alpha': 5, 'reg_lambda': 0.5}\n"
     ]
    }
   ],
   "source": [
    "# Print grid search summary\n",
    "grid_result\n",
    "\n",
    "# Print the best score and the corresponding hyperparameters\n",
    "print(f'The best score is {grid_result.best_score_:.4f}')\n",
    "print('The best score standard deviation is', round(grid_result.cv_results_['std_test_recall'][grid_result.best_index_], 4))\n",
    "print(f'The best hyperparameters are {grid_result.best_params_}')"
   ]
  },
  {
   "cell_type": "code",
   "execution_count": 12,
   "metadata": {},
   "outputs": [
    {
     "name": "stdout",
     "output_type": "stream",
     "text": [
      "The recall value for the xgboost grid search is 0.8033\n"
     ]
    }
   ],
   "source": [
    "# Make prediction using the best model\n",
    "grid_predict = grid_search.predict(X_test)\n",
    "\n",
    "# Get predicted probabilities\n",
    "grid_predict_prob = grid_search.predict_proba(X_test)[:,1]\n",
    "\n",
    "# Get performance metrics\n",
    "precision, recall, fscore, support = score(y_test, grid_predict)\n",
    "\n",
    "# Print result\n",
    "print(f'The recall value for the xgboost grid search is {recall[1]:.4f}')"
   ]
  },
  {
   "cell_type": "markdown",
   "metadata": {},
   "source": [
    "Model improvemen of 10% accuracy after gridsearch param tuning"
   ]
  },
  {
   "cell_type": "markdown",
   "metadata": {},
   "source": [
    "### Random Search for XGBoost\n",
    "In step 7, we are using a random search for XGBoost hyperparameter tuning. Since random search randomly picks a fixed number of hyperparameter combinations, we can afford to try more hyperparameters and more values. Therefore, we added three more parameters to the search space."
   ]
  },
  {
   "cell_type": "code",
   "execution_count": 13,
   "metadata": {},
   "outputs": [],
   "source": [
    "# Define the search space\n",
    "param_grid = { \n",
    "    # Learning rate shrinks the weights to make the boosting process more conservative\n",
    "    \"learning_rate\": [0.0001,0.001, 0.01, 0.1, 1] ,\n",
    "    # Maximum depth of the tree, increasing it increases the model complexity.\n",
    "    \"max_depth\": range(3,21,3),\n",
    "    # Gamma specifies the minimum loss reduction required to make a split.\n",
    "    \"gamma\": [i/10.0 for i in range(0,5)],\n",
    "    # Percentage of columns to be randomly samples for each tree.\n",
    "    \"colsample_bytree\": [i/10.0 for i in range(3,10)],\n",
    "    # reg_alpha provides l1 regularization to the weight, higher values result in more conservative models\n",
    "    \"reg_alpha\": [1e-5, 1e-2, 0.1, 1, 10, 100],\n",
    "    # reg_lambda provides l2 regularization to the weight, higher values result in more conservative models\n",
    "    \"reg_lambda\": [1e-5, 1e-2, 0.1, 1, 10, 100]}\n",
    "# Set up score\n",
    "scoring = ['recall']\n",
    "# Set up the k-fold cross-validation\n",
    "kfold = StratifiedKFold(n_splits=3, shuffle=True, random_state=0)"
   ]
  },
  {
   "cell_type": "code",
   "execution_count": 14,
   "metadata": {},
   "outputs": [
    {
     "name": "stdout",
     "output_type": "stream",
     "text": [
      "Fitting 3 folds for each of 48 candidates, totalling 144 fits\n",
      "[CV 3/3] END colsample_bytree=0.4, gamma=0.2, learning_rate=0.001, max_depth=6, reg_alpha=0.1, reg_lambda=100; recall: (test=0.000) total time=   1.3s\n",
      "[CV 2/3] END colsample_bytree=0.4, gamma=0.2, learning_rate=0.001, max_depth=6, reg_alpha=0.1, reg_lambda=100; recall: (test=0.000) total time=   1.3s\n",
      "[CV 1/3] END colsample_bytree=0.4, gamma=0.2, learning_rate=0.001, max_depth=6, reg_alpha=0.1, reg_lambda=100; recall: (test=0.000) total time=   1.4s\n",
      "[CV 2/3] END colsample_bytree=0.9, gamma=0.1, learning_rate=0.0001, max_depth=3, reg_alpha=100, reg_lambda=1e-05; recall: (test=0.000) total time=   2.4s\n",
      "[CV 3/3] END colsample_bytree=0.9, gamma=0.1, learning_rate=0.0001, max_depth=3, reg_alpha=100, reg_lambda=1e-05; recall: (test=0.000) total time=   2.5s\n",
      "[CV 1/3] END colsample_bytree=0.9, gamma=0.1, learning_rate=0.0001, max_depth=3, reg_alpha=100, reg_lambda=1e-05; recall: (test=0.000) total time=   2.8s\n",
      "[CV 2/3] END colsample_bytree=0.5, gamma=0.4, learning_rate=1, max_depth=18, reg_alpha=10, reg_lambda=10; recall: (test=0.798) total time=   3.1s\n",
      "[CV 2/3] END colsample_bytree=0.7, gamma=0.1, learning_rate=0.01, max_depth=18, reg_alpha=10, reg_lambda=100; recall: (test=0.000) total time=   3.1s\n",
      "[CV 1/3] END colsample_bytree=0.7, gamma=0.1, learning_rate=0.01, max_depth=18, reg_alpha=10, reg_lambda=100; recall: (test=0.000) total time=   3.2s\n",
      "[CV 1/3] END colsample_bytree=0.5, gamma=0.4, learning_rate=0.001, max_depth=9, reg_alpha=10, reg_lambda=10; recall: (test=0.000) total time=   2.1s\n",
      "[CV 2/3] END colsample_bytree=0.5, gamma=0.4, learning_rate=0.001, max_depth=9, reg_alpha=10, reg_lambda=10; recall: (test=0.000) total time=   2.0s\n",
      "[CV 3/3] END colsample_bytree=0.5, gamma=0.4, learning_rate=0.001, max_depth=9, reg_alpha=10, reg_lambda=10; recall: (test=0.000) total time=   1.8s\n",
      "[CV 1/3] END colsample_bytree=0.5, gamma=0.4, learning_rate=1, max_depth=18, reg_alpha=10, reg_lambda=10; recall: (test=0.933) total time=   5.0s\n",
      "[CV 3/3] END colsample_bytree=0.7, gamma=0.1, learning_rate=0.01, max_depth=18, reg_alpha=10, reg_lambda=100; recall: (test=0.000) total time=   3.2s\n",
      "[CV 3/3] END colsample_bytree=0.5, gamma=0.4, learning_rate=1, max_depth=18, reg_alpha=10, reg_lambda=10; recall: (test=0.831) total time=   4.9s\n",
      "[CV 1/3] END colsample_bytree=0.4, gamma=0.0, learning_rate=0.1, max_depth=6, reg_alpha=1, reg_lambda=0.1; recall: (test=0.865) total time=   2.7s\n",
      "[CV 2/3] END colsample_bytree=0.4, gamma=0.0, learning_rate=0.1, max_depth=6, reg_alpha=1, reg_lambda=0.1; recall: (test=0.876) total time=   2.7s\n",
      "[CV 3/3] END colsample_bytree=0.4, gamma=0.0, learning_rate=0.1, max_depth=6, reg_alpha=1, reg_lambda=0.1; recall: (test=0.865) total time=   2.9s\n",
      "[CV 1/3] END colsample_bytree=0.7, gamma=0.3, learning_rate=0.01, max_depth=12, reg_alpha=10, reg_lambda=0.01; recall: (test=0.472) total time=   3.3s\n",
      "[CV 2/3] END colsample_bytree=0.7, gamma=0.3, learning_rate=0.01, max_depth=12, reg_alpha=10, reg_lambda=0.01; recall: (test=0.258) total time=   3.2s\n",
      "[CV 3/3] END colsample_bytree=0.7, gamma=0.3, learning_rate=0.01, max_depth=12, reg_alpha=10, reg_lambda=0.01; recall: (test=0.315) total time=   3.4s\n",
      "[CV 1/3] END colsample_bytree=0.5, gamma=0.3, learning_rate=1, max_depth=3, reg_alpha=1e-05, reg_lambda=1; recall: (test=0.843) total time=   2.2s\n",
      "[CV 2/3] END colsample_bytree=0.5, gamma=0.3, learning_rate=1, max_depth=3, reg_alpha=1e-05, reg_lambda=1; recall: (test=0.753) total time=   2.3s\n",
      "[CV 1/3] END colsample_bytree=0.7, gamma=0.0, learning_rate=0.01, max_depth=6, reg_alpha=0.01, reg_lambda=1; recall: (test=0.629) total time=   3.7s\n",
      "[CV 2/3] END colsample_bytree=0.7, gamma=0.0, learning_rate=0.01, max_depth=6, reg_alpha=0.01, reg_lambda=1; recall: (test=0.483) total time=   3.7s\n",
      "[CV 1/3] END colsample_bytree=0.7, gamma=0.2, learning_rate=0.0001, max_depth=15, reg_alpha=0.1, reg_lambda=0.1; recall: (test=0.427) total time=   5.8s\n",
      "[CV 3/3] END colsample_bytree=0.7, gamma=0.0, learning_rate=0.01, max_depth=6, reg_alpha=0.01, reg_lambda=1; recall: (test=0.438) total time=   3.5s\n",
      "[CV 2/3] END colsample_bytree=0.7, gamma=0.2, learning_rate=0.0001, max_depth=15, reg_alpha=0.1, reg_lambda=0.1; recall: (test=0.427) total time=   5.9s\n",
      "[CV 3/3] END colsample_bytree=0.5, gamma=0.3, learning_rate=1, max_depth=3, reg_alpha=1e-05, reg_lambda=1; recall: (test=0.685) total time=   2.2s\n",
      "[CV 3/3] END colsample_bytree=0.7, gamma=0.2, learning_rate=0.0001, max_depth=15, reg_alpha=0.1, reg_lambda=0.1; recall: (test=0.404) total time=   5.8s\n",
      "[CV 1/3] END colsample_bytree=0.7, gamma=0.2, learning_rate=0.1, max_depth=3, reg_alpha=0.1, reg_lambda=1e-05; recall: (test=0.899) total time=   2.6s\n",
      "[CV 2/3] END colsample_bytree=0.7, gamma=0.2, learning_rate=0.1, max_depth=3, reg_alpha=0.1, reg_lambda=1e-05; recall: (test=0.910) total time=   2.5s\n",
      "[CV 3/3] END colsample_bytree=0.7, gamma=0.2, learning_rate=0.1, max_depth=3, reg_alpha=0.1, reg_lambda=1e-05; recall: (test=0.921) total time=   2.5s\n",
      "[CV 1/3] END colsample_bytree=0.8, gamma=0.3, learning_rate=0.0001, max_depth=12, reg_alpha=0.01, reg_lambda=0.1; recall: (test=0.674) total time=   6.5s\n",
      "[CV 1/3] END colsample_bytree=0.7, gamma=0.1, learning_rate=0.0001, max_depth=18, reg_alpha=1e-05, reg_lambda=0.01; recall: (test=0.427) total time=   9.0s\n",
      "[CV 2/3] END colsample_bytree=0.8, gamma=0.3, learning_rate=0.0001, max_depth=12, reg_alpha=0.01, reg_lambda=0.1; recall: (test=0.652) total time=   6.7s\n",
      "[CV 3/3] END colsample_bytree=0.7, gamma=0.1, learning_rate=0.0001, max_depth=18, reg_alpha=1e-05, reg_lambda=0.01; recall: (test=0.438) total time=   8.9s\n",
      "[CV 2/3] END colsample_bytree=0.7, gamma=0.1, learning_rate=0.0001, max_depth=18, reg_alpha=1e-05, reg_lambda=0.01; recall: (test=0.427) total time=   9.1s\n",
      "[CV 2/3] END colsample_bytree=0.9, gamma=0.0, learning_rate=0.01, max_depth=15, reg_alpha=1, reg_lambda=1; recall: (test=0.876) total time=   5.6s\n",
      "[CV 1/3] END colsample_bytree=0.9, gamma=0.0, learning_rate=0.01, max_depth=15, reg_alpha=1, reg_lambda=1; recall: (test=0.798) total time=   6.0s\n",
      "[CV 3/3] END colsample_bytree=0.8, gamma=0.3, learning_rate=0.0001, max_depth=12, reg_alpha=0.01, reg_lambda=0.1; recall: (test=0.562) total time=   6.6s\n",
      "[CV 2/3] END colsample_bytree=0.3, gamma=0.3, learning_rate=0.01, max_depth=9, reg_alpha=1, reg_lambda=10; recall: (test=0.000) total time=   1.1s\n",
      "[CV 1/3] END colsample_bytree=0.3, gamma=0.3, learning_rate=0.01, max_depth=9, reg_alpha=1, reg_lambda=10; recall: (test=0.000) total time=   1.3s\n",
      "[CV 3/3] END colsample_bytree=0.3, gamma=0.3, learning_rate=0.01, max_depth=9, reg_alpha=1, reg_lambda=10; recall: (test=0.000) total time=   1.0s\n",
      "[CV 3/3] END colsample_bytree=0.5, gamma=0.3, learning_rate=0.1, max_depth=12, reg_alpha=100, reg_lambda=1; recall: (test=0.000) total time=   2.1s\n",
      "[CV 2/3] END colsample_bytree=0.5, gamma=0.3, learning_rate=0.1, max_depth=12, reg_alpha=100, reg_lambda=1; recall: (test=0.000) total time=   2.2s\n",
      "[CV 1/3] END colsample_bytree=0.5, gamma=0.3, learning_rate=0.1, max_depth=12, reg_alpha=100, reg_lambda=1; recall: (test=0.000) total time=   2.3s\n",
      "[CV 1/3] END colsample_bytree=0.5, gamma=0.0, learning_rate=0.001, max_depth=15, reg_alpha=0.1, reg_lambda=10; recall: (test=0.000) total time=   2.0s\n",
      "[CV 3/3] END colsample_bytree=0.5, gamma=0.0, learning_rate=0.001, max_depth=15, reg_alpha=0.1, reg_lambda=10; recall: (test=0.000) total time=   1.9s\n",
      "[CV 2/3] END colsample_bytree=0.5, gamma=0.0, learning_rate=0.001, max_depth=15, reg_alpha=0.1, reg_lambda=10; recall: (test=0.000) total time=   2.0s\n",
      "[CV 3/3] END colsample_bytree=0.9, gamma=0.0, learning_rate=0.01, max_depth=15, reg_alpha=1, reg_lambda=1; recall: (test=0.843) total time=   5.8s\n",
      "[CV 1/3] END colsample_bytree=0.5, gamma=0.1, learning_rate=0.01, max_depth=9, reg_alpha=0.01, reg_lambda=1e-05; recall: (test=0.034) total time=   4.8s\n",
      "[CV 2/3] END colsample_bytree=0.5, gamma=0.1, learning_rate=0.01, max_depth=9, reg_alpha=0.01, reg_lambda=1e-05; recall: (test=0.056) total time=   4.6s\n",
      "[CV 3/3] END colsample_bytree=0.5, gamma=0.1, learning_rate=0.01, max_depth=9, reg_alpha=0.01, reg_lambda=1e-05; recall: (test=0.079) total time=   4.7s\n",
      "[CV 1/3] END colsample_bytree=0.7, gamma=0.4, learning_rate=0.1, max_depth=15, reg_alpha=0.1, reg_lambda=10; recall: (test=0.876) total time=   5.4s\n",
      "[CV 1/3] END colsample_bytree=0.5, gamma=0.3, learning_rate=0.0001, max_depth=12, reg_alpha=10, reg_lambda=10; recall: (test=0.000) total time=   1.9s\n",
      "[CV 2/3] END colsample_bytree=0.5, gamma=0.3, learning_rate=0.0001, max_depth=12, reg_alpha=10, reg_lambda=10; recall: (test=0.000) total time=   1.8s\n",
      "[CV 3/3] END colsample_bytree=0.5, gamma=0.3, learning_rate=0.0001, max_depth=12, reg_alpha=10, reg_lambda=10; recall: (test=0.000) total time=   1.8s\n",
      "[CV 2/3] END colsample_bytree=0.7, gamma=0.4, learning_rate=0.1, max_depth=15, reg_alpha=0.1, reg_lambda=10; recall: (test=0.865) total time=   5.8s\n",
      "[CV 1/3] END colsample_bytree=0.3, gamma=0.4, learning_rate=0.001, max_depth=6, reg_alpha=0.01, reg_lambda=1e-05; recall: (test=0.000) total time=   2.4s\n",
      "[CV 2/3] END colsample_bytree=0.3, gamma=0.4, learning_rate=0.001, max_depth=6, reg_alpha=0.01, reg_lambda=1e-05; recall: (test=0.000) total time=   2.4s\n",
      "[CV 3/3] END colsample_bytree=0.7, gamma=0.4, learning_rate=0.1, max_depth=15, reg_alpha=0.1, reg_lambda=10; recall: (test=0.865) total time=   5.8s\n",
      "[CV 3/3] END colsample_bytree=0.3, gamma=0.4, learning_rate=0.001, max_depth=6, reg_alpha=0.01, reg_lambda=1e-05; recall: (test=0.000) total time=   2.4s\n",
      "[CV 1/3] END colsample_bytree=0.6, gamma=0.2, learning_rate=0.01, max_depth=15, reg_alpha=1e-05, reg_lambda=1e-05; recall: (test=0.449) total time=  10.2s\n",
      "[CV 2/3] END colsample_bytree=0.6, gamma=0.2, learning_rate=0.01, max_depth=15, reg_alpha=1e-05, reg_lambda=1e-05; recall: (test=0.438) total time=  10.1s\n",
      "[CV 3/3] END colsample_bytree=0.6, gamma=0.2, learning_rate=0.01, max_depth=15, reg_alpha=1e-05, reg_lambda=1e-05; recall: (test=0.393) total time=  10.5s\n",
      "[CV 1/3] END colsample_bytree=0.3, gamma=0.2, learning_rate=0.0001, max_depth=12, reg_alpha=0.01, reg_lambda=0.1; recall: (test=0.000) total time=   3.7s\n",
      "[CV 3/3] END colsample_bytree=0.3, gamma=0.2, learning_rate=0.0001, max_depth=12, reg_alpha=0.01, reg_lambda=0.1; recall: (test=0.000) total time=   3.5s\n",
      "[CV 2/3] END colsample_bytree=0.3, gamma=0.2, learning_rate=0.0001, max_depth=12, reg_alpha=0.01, reg_lambda=0.1; recall: (test=0.000) total time=   3.7s\n",
      "[CV 1/3] END colsample_bytree=0.6, gamma=0.0, learning_rate=0.01, max_depth=9, reg_alpha=1, reg_lambda=0.01; recall: (test=0.337) total time=   3.3s\n",
      "[CV 1/3] END colsample_bytree=0.6, gamma=0.2, learning_rate=0.001, max_depth=12, reg_alpha=0.01, reg_lambda=0.1; recall: (test=0.124) total time=   5.8s\n",
      "[CV 2/3] END colsample_bytree=0.6, gamma=0.0, learning_rate=0.01, max_depth=9, reg_alpha=1, reg_lambda=0.01; recall: (test=0.371) total time=   3.6s\n",
      "[CV 3/3] END colsample_bytree=0.6, gamma=0.2, learning_rate=0.001, max_depth=12, reg_alpha=0.01, reg_lambda=0.1; recall: (test=0.225) total time=   5.7s\n",
      "[CV 2/3] END colsample_bytree=0.6, gamma=0.2, learning_rate=0.001, max_depth=12, reg_alpha=0.01, reg_lambda=0.1; recall: (test=0.135) total time=   5.9s\n",
      "[CV 1/3] END colsample_bytree=0.4, gamma=0.2, learning_rate=1, max_depth=15, reg_alpha=100, reg_lambda=100; recall: (test=0.000) total time=   1.1s\n",
      "[CV 3/3] END colsample_bytree=0.5, gamma=0.2, learning_rate=0.0001, max_depth=6, reg_alpha=0.01, reg_lambda=100; recall: (test=0.000) total time=   1.7s\n",
      "[CV 2/3] END colsample_bytree=0.5, gamma=0.2, learning_rate=0.0001, max_depth=6, reg_alpha=0.01, reg_lambda=100; recall: (test=0.000) total time=   1.7s\n",
      "[CV 1/3] END colsample_bytree=0.5, gamma=0.2, learning_rate=0.0001, max_depth=6, reg_alpha=0.01, reg_lambda=100; recall: (test=0.000) total time=   1.9s\n",
      "[CV 2/3] END colsample_bytree=0.4, gamma=0.2, learning_rate=1, max_depth=15, reg_alpha=100, reg_lambda=100; recall: (test=0.000) total time=   1.0s\n",
      "[CV 3/3] END colsample_bytree=0.4, gamma=0.2, learning_rate=1, max_depth=15, reg_alpha=100, reg_lambda=100; recall: (test=0.000) total time=   1.2s\n",
      "[CV 3/3] END colsample_bytree=0.6, gamma=0.0, learning_rate=0.01, max_depth=9, reg_alpha=1, reg_lambda=0.01; recall: (test=0.337) total time=   3.1s\n",
      "[CV 1/3] END colsample_bytree=0.7, gamma=0.4, learning_rate=0.1, max_depth=12, reg_alpha=100, reg_lambda=10; recall: (test=0.000) total time=   3.0s\n",
      "[CV 2/3] END colsample_bytree=0.7, gamma=0.4, learning_rate=0.1, max_depth=12, reg_alpha=100, reg_lambda=10; recall: (test=0.000) total time=   2.9s\n",
      "[CV 1/3] END colsample_bytree=0.4, gamma=0.2, learning_rate=0.0001, max_depth=12, reg_alpha=0.1, reg_lambda=0.01; recall: (test=0.000) total time=   4.6s\n",
      "[CV 3/3] END colsample_bytree=0.4, gamma=0.2, learning_rate=0.0001, max_depth=12, reg_alpha=0.1, reg_lambda=0.01; recall: (test=0.000) total time=   4.1s\n",
      "[CV 2/3] END colsample_bytree=0.4, gamma=0.2, learning_rate=0.0001, max_depth=12, reg_alpha=0.1, reg_lambda=0.01; recall: (test=0.000) total time=   4.7s\n",
      "[CV 1/3] END colsample_bytree=0.8, gamma=0.0, learning_rate=0.1, max_depth=15, reg_alpha=1, reg_lambda=1; recall: (test=0.854) total time=   6.0s\n",
      "[CV 2/3] END colsample_bytree=0.8, gamma=0.0, learning_rate=0.1, max_depth=15, reg_alpha=1, reg_lambda=1; recall: (test=0.854) total time=   6.1s\n",
      "[CV 3/3] END colsample_bytree=0.7, gamma=0.4, learning_rate=0.1, max_depth=12, reg_alpha=100, reg_lambda=10; recall: (test=0.000) total time=   3.0s\n",
      "[CV 3/3] END colsample_bytree=0.8, gamma=0.0, learning_rate=0.1, max_depth=15, reg_alpha=1, reg_lambda=1; recall: (test=0.764) total time=   6.4s\n",
      "[CV 1/3] END colsample_bytree=0.9, gamma=0.2, learning_rate=0.1, max_depth=3, reg_alpha=1, reg_lambda=1e-05; recall: (test=0.899) total time=   3.0s\n",
      "[CV 2/3] END colsample_bytree=0.9, gamma=0.2, learning_rate=0.1, max_depth=3, reg_alpha=1, reg_lambda=1e-05; recall: (test=0.921) total time=   3.0s\n",
      "[CV 3/3] END colsample_bytree=0.9, gamma=0.2, learning_rate=0.1, max_depth=3, reg_alpha=1, reg_lambda=1e-05; recall: (test=0.921) total time=   3.0s\n",
      "[CV 1/3] END colsample_bytree=0.7, gamma=0.0, learning_rate=0.01, max_depth=3, reg_alpha=1, reg_lambda=1e-05; recall: (test=0.112) total time=   2.6s\n",
      "[CV 2/3] END colsample_bytree=0.3, gamma=0.3, learning_rate=0.0001, max_depth=12, reg_alpha=0.01, reg_lambda=100; recall: (test=0.000) total time=   1.1s\n",
      "[CV 3/3] END colsample_bytree=0.3, gamma=0.3, learning_rate=0.0001, max_depth=12, reg_alpha=0.01, reg_lambda=100; recall: (test=0.000) total time=   1.1s\n",
      "[CV 1/3] END colsample_bytree=0.3, gamma=0.3, learning_rate=0.0001, max_depth=12, reg_alpha=0.01, reg_lambda=100; recall: (test=0.000) total time=   1.3s\n",
      "[CV 2/3] END colsample_bytree=0.7, gamma=0.0, learning_rate=0.01, max_depth=3, reg_alpha=1, reg_lambda=1e-05; recall: (test=0.034) total time=   2.6s\n",
      "[CV 3/3] END colsample_bytree=0.7, gamma=0.0, learning_rate=0.01, max_depth=3, reg_alpha=1, reg_lambda=1e-05; recall: (test=0.101) total time=   2.7s\n",
      "[CV 2/3] END colsample_bytree=0.5, gamma=0.1, learning_rate=1, max_depth=18, reg_alpha=100, reg_lambda=100; recall: (test=0.000) total time=   1.4s\n",
      "[CV 1/3] END colsample_bytree=0.5, gamma=0.1, learning_rate=1, max_depth=18, reg_alpha=100, reg_lambda=100; recall: (test=0.000) total time=   1.5s\n",
      "[CV 3/3] END colsample_bytree=0.5, gamma=0.1, learning_rate=1, max_depth=18, reg_alpha=100, reg_lambda=100; recall: (test=0.000) total time=   1.5s\n",
      "[CV 1/3] END colsample_bytree=0.8, gamma=0.2, learning_rate=0.001, max_depth=3, reg_alpha=1, reg_lambda=10; recall: (test=0.000) total time=   2.6s\n",
      "[CV 2/3] END colsample_bytree=0.8, gamma=0.2, learning_rate=0.001, max_depth=3, reg_alpha=1, reg_lambda=10; recall: (test=0.000) total time=   2.5s\n",
      "[CV 1/3] END colsample_bytree=0.5, gamma=0.1, learning_rate=0.0001, max_depth=15, reg_alpha=0.01, reg_lambda=0.1; recall: (test=0.000) total time=   6.0s\n",
      "[CV 3/3] END colsample_bytree=0.5, gamma=0.1, learning_rate=0.0001, max_depth=15, reg_alpha=0.01, reg_lambda=0.1; recall: (test=0.000) total time=   5.7s\n",
      "[CV 2/3] END colsample_bytree=0.5, gamma=0.1, learning_rate=0.0001, max_depth=15, reg_alpha=0.01, reg_lambda=0.1; recall: (test=0.000) total time=   6.1s\n",
      "[CV 3/3] END colsample_bytree=0.8, gamma=0.2, learning_rate=0.001, max_depth=3, reg_alpha=1, reg_lambda=10; recall: (test=0.000) total time=   2.4s\n",
      "[CV 1/3] END colsample_bytree=0.7, gamma=0.1, learning_rate=1, max_depth=18, reg_alpha=100, reg_lambda=0.01; recall: (test=0.000) total time=   1.9s\n",
      "[CV 2/3] END colsample_bytree=0.7, gamma=0.1, learning_rate=1, max_depth=18, reg_alpha=100, reg_lambda=0.01; recall: (test=0.000) total time=   1.9s\n",
      "[CV 1/3] END colsample_bytree=0.9, gamma=0.4, learning_rate=0.001, max_depth=15, reg_alpha=1, reg_lambda=100; recall: (test=0.820) total time=   5.1s\n",
      "[CV 1/3] END colsample_bytree=0.8, gamma=0.2, learning_rate=0.01, max_depth=15, reg_alpha=0.01, reg_lambda=1e-05; recall: (test=0.730) total time=   8.2s\n",
      "[CV 3/3] END colsample_bytree=0.7, gamma=0.1, learning_rate=1, max_depth=18, reg_alpha=100, reg_lambda=0.01; recall: (test=0.000) total time=   1.8s\n",
      "[CV 2/3] END colsample_bytree=0.8, gamma=0.2, learning_rate=0.01, max_depth=15, reg_alpha=0.01, reg_lambda=1e-05; recall: (test=0.730) total time=   8.3s\n",
      "[CV 3/3] END colsample_bytree=0.8, gamma=0.2, learning_rate=0.01, max_depth=15, reg_alpha=0.01, reg_lambda=1e-05; recall: (test=0.573) total time=   8.3s\n",
      "[CV 3/3] END colsample_bytree=0.9, gamma=0.4, learning_rate=0.001, max_depth=15, reg_alpha=1, reg_lambda=100; recall: (test=0.831) total time=   4.8s\n",
      "[CV 2/3] END colsample_bytree=0.9, gamma=0.4, learning_rate=0.001, max_depth=15, reg_alpha=1, reg_lambda=100; recall: (test=0.764) total time=   4.9s\n",
      "[CV 1/3] END colsample_bytree=0.3, gamma=0.2, learning_rate=0.0001, max_depth=6, reg_alpha=0.1, reg_lambda=0.01; recall: (test=0.000) total time=   2.3s\n",
      "[CV 3/3] END colsample_bytree=0.3, gamma=0.2, learning_rate=0.0001, max_depth=6, reg_alpha=0.1, reg_lambda=0.01; recall: (test=0.000) total time=   2.4s\n",
      "[CV 2/3] END colsample_bytree=0.3, gamma=0.2, learning_rate=0.0001, max_depth=6, reg_alpha=0.1, reg_lambda=0.01; recall: (test=0.000) total time=   2.4s\n",
      "[CV 1/3] END colsample_bytree=0.8, gamma=0.4, learning_rate=0.1, max_depth=18, reg_alpha=10, reg_lambda=100; recall: (test=0.899) total time=   5.8s\n",
      "[CV 3/3] END colsample_bytree=0.8, gamma=0.4, learning_rate=0.1, max_depth=18, reg_alpha=10, reg_lambda=100; recall: (test=0.933) total time=   5.2s\n",
      "[CV 2/3] END colsample_bytree=0.8, gamma=0.4, learning_rate=0.1, max_depth=18, reg_alpha=10, reg_lambda=100; recall: (test=0.899) total time=   5.9s\n",
      "[CV 2/3] END colsample_bytree=0.3, gamma=0.1, learning_rate=0.1, max_depth=3, reg_alpha=1, reg_lambda=10; recall: (test=0.685) total time=   1.5s\n",
      "[CV 1/3] END colsample_bytree=0.3, gamma=0.1, learning_rate=0.1, max_depth=3, reg_alpha=1, reg_lambda=10; recall: (test=0.809) total time=   1.7s\n",
      "[CV 1/3] END colsample_bytree=0.8, gamma=0.0, learning_rate=0.1, max_depth=18, reg_alpha=0.1, reg_lambda=0.01; recall: (test=0.764) total time=   8.8s\n",
      "[CV 2/3] END colsample_bytree=0.4, gamma=0.2, learning_rate=0.001, max_depth=15, reg_alpha=1e-05, reg_lambda=0.01; recall: (test=0.000) total time=   6.6s\n",
      "[CV 1/3] END colsample_bytree=0.4, gamma=0.2, learning_rate=0.001, max_depth=15, reg_alpha=1e-05, reg_lambda=0.01; recall: (test=0.000) total time=   6.7s\n",
      "[CV 2/3] END colsample_bytree=0.8, gamma=0.0, learning_rate=0.1, max_depth=18, reg_alpha=0.1, reg_lambda=0.01; recall: (test=0.742) total time=   8.8s\n",
      "[CV 3/3] END colsample_bytree=0.8, gamma=0.0, learning_rate=0.1, max_depth=18, reg_alpha=0.1, reg_lambda=0.01; recall: (test=0.730) total time=   8.8s\n",
      "[CV 3/3] END colsample_bytree=0.3, gamma=0.1, learning_rate=0.1, max_depth=3, reg_alpha=1, reg_lambda=10; recall: (test=0.719) total time=   1.4s\n",
      "[CV 1/3] END colsample_bytree=0.6, gamma=0.4, learning_rate=0.001, max_depth=3, reg_alpha=1, reg_lambda=10; recall: (test=0.000) total time=   2.0s\n",
      "[CV 3/3] END colsample_bytree=0.6, gamma=0.4, learning_rate=0.001, max_depth=3, reg_alpha=1, reg_lambda=10; recall: (test=0.000) total time=   1.7s\n",
      "[CV 2/3] END colsample_bytree=0.6, gamma=0.4, learning_rate=0.001, max_depth=3, reg_alpha=1, reg_lambda=10; recall: (test=0.000) total time=   1.8s\n",
      "[CV 1/3] END colsample_bytree=0.6, gamma=0.4, learning_rate=0.01, max_depth=18, reg_alpha=1, reg_lambda=10; recall: (test=0.000) total time=   3.0s\n",
      "[CV 2/3] END colsample_bytree=0.6, gamma=0.4, learning_rate=0.01, max_depth=18, reg_alpha=1, reg_lambda=10; recall: (test=0.000) total time=   2.8s\n",
      "[CV 3/3] END colsample_bytree=0.4, gamma=0.2, learning_rate=0.001, max_depth=15, reg_alpha=1e-05, reg_lambda=0.01; recall: (test=0.000) total time=   6.7s\n",
      "[CV 3/3] END colsample_bytree=0.6, gamma=0.4, learning_rate=0.01, max_depth=18, reg_alpha=1, reg_lambda=10; recall: (test=0.000) total time=   2.7s\n",
      "[CV 1/3] END colsample_bytree=0.3, gamma=0.0, learning_rate=0.001, max_depth=9, reg_alpha=0.01, reg_lambda=0.1; recall: (test=0.000) total time=   3.2s\n",
      "[CV 2/3] END colsample_bytree=0.3, gamma=0.0, learning_rate=0.001, max_depth=9, reg_alpha=0.01, reg_lambda=0.1; recall: (test=0.000) total time=   2.9s\n",
      "[CV 3/3] END colsample_bytree=0.3, gamma=0.0, learning_rate=0.001, max_depth=9, reg_alpha=0.01, reg_lambda=0.1; recall: (test=0.000) total time=   2.8s\n",
      "[CV 1/3] END colsample_bytree=0.7, gamma=0.4, learning_rate=1, max_depth=18, reg_alpha=0.1, reg_lambda=0.01; recall: (test=0.764) total time=   8.3s\n",
      "[CV 3/3] END colsample_bytree=0.7, gamma=0.4, learning_rate=1, max_depth=18, reg_alpha=0.1, reg_lambda=0.01; recall: (test=0.685) total time=   8.6s\n",
      "[CV 2/3] END colsample_bytree=0.7, gamma=0.4, learning_rate=1, max_depth=18, reg_alpha=0.1, reg_lambda=0.01; recall: (test=0.719) total time=   8.8s\n"
     ]
    }
   ],
   "source": [
    "# Define random search\n",
    "random_search = RandomizedSearchCV(estimator=xgbc0, \n",
    "                           param_distributions=param_grid, \n",
    "                           n_iter=48,\n",
    "                           scoring=scoring, \n",
    "                           refit='recall', \n",
    "                           n_jobs=8, \n",
    "                           cv=kfold, \n",
    "                           verbose=5)\n",
    "# Fit grid search\n",
    "random_result = random_search.fit(X_train, y_train)\n",
    "\n",
    "\n"
   ]
  },
  {
   "cell_type": "code",
   "execution_count": 15,
   "metadata": {},
   "outputs": [
    {
     "name": "stdout",
     "output_type": "stream",
     "text": [
      "The best score is 0.9139\n",
      "The best score standard deviation is 0.0106\n",
      "The best hyperparameters are {'reg_lambda': 1e-05, 'reg_alpha': 1, 'max_depth': 3, 'learning_rate': 0.1, 'gamma': 0.2, 'colsample_bytree': 0.9}\n"
     ]
    }
   ],
   "source": [
    "# Print grid search summary\n",
    "random_result\n",
    "# Print the best score and the corresponding hyperparameters\n",
    "print(f'The best score is {random_result.best_score_:.4f}')\n",
    "print('The best score standard deviation is', round(random_result.cv_results_['std_test_recall'][random_result.best_index_], 4))\n",
    "print(f'The best hyperparameters are {random_result.best_params_}')"
   ]
  },
  {
   "cell_type": "code",
   "execution_count": 22,
   "metadata": {},
   "outputs": [
    {
     "name": "stdout",
     "output_type": "stream",
     "text": [
      "The recall value for the xgboost random search is 0.8279\n"
     ]
    }
   ],
   "source": [
    "# Make prediction using the best model\n",
    "random_predict = random_search.predict(X_test)\n",
    "\n",
    "# Get predicted probabilities\n",
    "random_predict_prob = random_search.predict_proba(X_test)[:,1]\n",
    "\n",
    "# Get performance metrics\n",
    "precision, recall, fscore, support = score(y_test, random_predict)\n",
    "\n",
    "# Print result\n",
    "print(f'The recall value for the xgboost random search is {recall[1]:.4f}')"
   ]
  },
  {
   "cell_type": "code",
   "execution_count": 23,
   "metadata": {},
   "outputs": [
    {
     "name": "stdout",
     "output_type": "stream",
     "text": [
      "The recall value for the xgboost optimization is 0.8115\n"
     ]
    }
   ],
   "source": [
    "# Initiate XGBoost Classifier\n",
    "xgbc1 = XGBClassifier(\n",
    "    colsample_bytree=0.8,\n",
    "    gamma=0.0,\n",
    "    learning_rate=0.1,\n",
    "    max_depth=3,\n",
    "    reg_alpha=0.1,\n",
    "    reg_lambda=1e-05,\n",
    "    seed=0\n",
    ").fit(X_train,y_train)\n",
    "\n",
    "# Make prediction\n",
    "xgbc1_predict = xgbc1.predict(X_test)\n",
    "\n",
    "# Get predicted probability\n",
    "xgbc1_predict_prob = xgbc1.predict_proba(X_test)[:,1]\n",
    "\n",
    "# Get performance metrics\n",
    "precision, recall, fscore, support = score(y_test, xgbc1_predict)\n",
    "\n",
    "# Print result\n",
    "print(f'The recall value for the xgboost optimization is {recall[1]:.4f}')"
   ]
  },
  {
   "cell_type": "code",
   "execution_count": 31,
   "metadata": {},
   "outputs": [
    {
     "data": {
      "image/png": "[encoded data removed]",
      "text/plain": [
       "<Figure size 640x480 with 2 Axes>"
      ]
     },
     "metadata": {},
     "output_type": "display_data"
    }
   ],
   "source": [
    "# show confusion matrix display (rebind new object)\n",
    "from sklearn.metrics import confusion_matrix, ConfusionMatrixDisplay\n",
    "cm = confusion_matrix(y_test, xgbc1_predict)\n",
    "disp = ConfusionMatrixDisplay(confusion_matrix=cm, display_labels=['No', 'Yes'])\n",
    "disp.plot();\n"
   ]
  },
  {
   "cell_type": "code",
   "execution_count": null,
   "metadata": {},
   "outputs": [],
   "source": []
  }
 ],
 "metadata": {
  "kernelspec": {
   "display_name": "labs",
   "language": "python",
   "name": "python3"
  },
  "language_info": {
   "codemirror_mode": {
    "name": "ipython",
    "version": 3
   },
   "file_extension": ".py",
   "mimetype": "text/x-python",
   "name": "python",
   "nbconvert_exporter": "python",
   "pygments_lexer": "ipython3",
   "version": "3.9.16"
  },
  "orig_nbformat": 4
 },
 "nbformat": 4,
 "nbformat_minor": 2
}
