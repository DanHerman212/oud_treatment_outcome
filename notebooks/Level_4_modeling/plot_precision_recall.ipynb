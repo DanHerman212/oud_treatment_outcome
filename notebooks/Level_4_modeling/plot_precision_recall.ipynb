{
  "cells": [
    {
      "cell_type": "markdown",
      "metadata": {},
      "source": [
        "\n",
        "# Precision-Recall\n",
        "\n",
        "Example of Precision-Recall metric to evaluate classifier output quality.\n",
        "\n",
        "Precision-Recall is a useful measure of success of prediction when the\n",
        "classes are very imbalanced. In information retrieval, precision is a\n",
        "measure of result relevancy, while recall is a measure of how many truly\n",
        "relevant results are returned.\n",
        "\n",
        "The precision-recall curve shows the tradeoff between precision and\n",
        "recall for different threshold. A high area under the curve represents\n",
        "both high recall and high precision, where high precision relates to a\n",
        "low false positive rate, and high recall relates to a low false negative\n",
        "rate. High scores for both show that the classifier is returning accurate\n",
        "results (high precision), as well as returning a majority of all positive\n",
        "results (high recall).\n",
        "\n",
        "A system with high recall but low precision returns many results, but most of\n",
        "its predicted labels are incorrect when compared to the training labels. A\n",
        "system with high precision but low recall is just the opposite, returning very\n",
        "few results, but most of its predicted labels are correct when compared to the\n",
        "training labels. An ideal system with high precision and high recall will\n",
        "return many results, with all results labeled correctly.\n",
        "\n",
        "Precision ($P$) is defined as the number of true positives ($T_p$)\n",
        "over the number of true positives plus the number of false positives\n",
        "($F_p$).\n",
        "\n",
        "$P = \\frac{T_p}{T_p+F_p}$\n",
        "\n",
        "Recall ($R$) is defined as the number of true positives ($T_p$)\n",
        "over the number of true positives plus the number of false negatives\n",
        "($F_n$).\n",
        "\n",
        "$R = \\frac{T_p}{T_p + F_n}$\n",
        "\n",
        "These quantities are also related to the ($F_1$) score, which is defined\n",
        "as the harmonic mean of precision and recall.\n",
        "\n",
        "$F1 = 2\\frac{P \\times R}{P+R}$\n",
        "\n",
        "Note that the precision may not decrease with recall. The\n",
        "definition of precision ($\\frac{T_p}{T_p + F_p}$) shows that lowering\n",
        "the threshold of a classifier may increase the denominator, by increasing the\n",
        "number of results returned. If the threshold was previously set too high, the\n",
        "new results may all be true positives, which will increase precision. If the\n",
        "previous threshold was about right or too low, further lowering the threshold\n",
        "will introduce false positives, decreasing precision.\n",
        "\n",
        "Recall is defined as $\\frac{T_p}{T_p+F_n}$, where $T_p+F_n$ does\n",
        "not depend on the classifier threshold. This means that lowering the classifier\n",
        "threshold may increase recall, by increasing the number of true positive\n",
        "results. It is also possible that lowering the threshold may leave recall\n",
        "unchanged, while the precision fluctuates.\n",
        "\n",
        "The relationship between recall and precision can be observed in the\n",
        "stairstep area of the plot - at the edges of these steps a small change\n",
        "in the threshold considerably reduces precision, with only a minor gain in\n",
        "recall.\n",
        "\n",
        "**Average precision** (AP) summarizes such a plot as the weighted mean of\n",
        "precisions achieved at each threshold, with the increase in recall from the\n",
        "previous threshold used as the weight:\n",
        "\n",
        "$\\text{AP} = \\sum_n (R_n - R_{n-1}) P_n$\n",
        "\n",
        "where $P_n$ and $R_n$ are the precision and recall at the\n",
        "nth threshold. A pair $(R_k, P_k)$ is referred to as an\n",
        "*operating point*.\n",
        "\n",
        "AP and the trapezoidal area under the operating points\n",
        "(:func:`sklearn.metrics.auc`) are common ways to summarize a precision-recall\n",
        "curve that lead to different results. Read more in the\n",
        "`User Guide <precision_recall_f_measure_metrics>`.\n",
        "\n",
        "Precision-recall curves are typically used in binary classification to study\n",
        "the output of a classifier. In order to extend the precision-recall curve and\n",
        "average precision to multi-class or multi-label classification, it is necessary\n",
        "to binarize the output. One curve can be drawn per label, but one can also draw\n",
        "a precision-recall curve by considering each element of the label indicator\n",
        "matrix as a binary prediction (micro-averaging).\n",
        "\n",
        "<div class=\"alert alert-info\"><h4>Note</h4><p>See also :func:`sklearn.metrics.average_precision_score`,\n",
        "             :func:`sklearn.metrics.recall_score`,\n",
        "             :func:`sklearn.metrics.precision_score`,\n",
        "             :func:`sklearn.metrics.f1_score`</p></div>\n"
      ]
    },
    {
      "cell_type": "markdown",
      "metadata": {},
      "source": [
        "## In binary classification settings\n",
        "\n",
        "### Dataset and model\n",
        "\n",
        "We will use a Linear SVC classifier to differentiate two types of irises.\n",
        "\n"
      ]
    },
    {
      "cell_type": "code",
      "execution_count": null,
      "metadata": {
        "collapsed": false
      },
      "outputs": [],
      "source": [
        "import numpy as np\n",
        "\n",
        "from sklearn.datasets import load_iris\n",
        "from sklearn.model_selection import train_test_split\n",
        "\n",
        "X, y = load_iris(return_X_y=True)\n",
        "\n",
        "# Add noisy features\n",
        "random_state = np.random.RandomState(0)\n",
        "n_samples, n_features = X.shape\n",
        "X = np.concatenate([X, random_state.randn(n_samples, 200 * n_features)], axis=1)\n",
        "\n",
        "# Limit to the two first classes, and split into training and test\n",
        "X_train, X_test, y_train, y_test = train_test_split(\n",
        "    X[y < 2], y[y < 2], test_size=0.5, random_state=random_state\n",
        ")"
      ]
    },
    {
      "cell_type": "markdown",
      "metadata": {},
      "source": [
        "Linear SVC will expect each feature to have a similar range of values. Thus,\n",
        "we will first scale the data using a\n",
        ":class:`~sklearn.preprocessing.StandardScaler`.\n",
        "\n"
      ]
    },
    {
      "cell_type": "code",
      "execution_count": null,
      "metadata": {
        "collapsed": false
      },
      "outputs": [],
      "source": [
        "from sklearn.pipeline import make_pipeline\n",
        "from sklearn.preprocessing import StandardScaler\n",
        "from sklearn.svm import LinearSVC\n",
        "\n",
        "classifier = make_pipeline(\n",
        "    StandardScaler(), LinearSVC(random_state=random_state, dual=\"auto\")\n",
        ")\n",
        "classifier.fit(X_train, y_train)"
      ]
    },
    {
      "cell_type": "markdown",
      "metadata": {},
      "source": [
        "### Plot the Precision-Recall curve\n",
        "\n",
        "To plot the precision-recall curve, you should use\n",
        ":class:`~sklearn.metrics.PrecisionRecallDisplay`. Indeed, there is two\n",
        "methods available depending if you already computed the predictions of the\n",
        "classifier or not.\n",
        "\n",
        "Let's first plot the precision-recall curve without the classifier\n",
        "predictions. We use\n",
        ":func:`~sklearn.metrics.PrecisionRecallDisplay.from_estimator` that\n",
        "computes the predictions for us before plotting the curve.\n",
        "\n"
      ]
    },
    {
      "cell_type": "code",
      "execution_count": null,
      "metadata": {
        "collapsed": false
      },
      "outputs": [],
      "source": [
        "from sklearn.metrics import PrecisionRecallDisplay\n",
        "\n",
        "display = PrecisionRecallDisplay.from_estimator(\n",
        "    classifier, X_test, y_test, name=\"LinearSVC\", plot_chance_level=True\n",
        ")\n",
        "_ = display.ax_.set_title(\"2-class Precision-Recall curve\")"
      ]
    },
    {
      "cell_type": "markdown",
      "metadata": {},
      "source": [
        "If we already got the estimated probabilities or scores for\n",
        "our model, then we can use\n",
        ":func:`~sklearn.metrics.PrecisionRecallDisplay.from_predictions`.\n",
        "\n"
      ]
    },
    {
      "cell_type": "code",
      "execution_count": null,
      "metadata": {
        "collapsed": false
      },
      "outputs": [],
      "source": [
        "y_score = classifier.decision_function(X_test)\n",
        "\n",
        "display = PrecisionRecallDisplay.from_predictions(\n",
        "    y_test, y_score, name=\"LinearSVC\", plot_chance_level=True\n",
        ")\n",
        "_ = display.ax_.set_title(\"2-class Precision-Recall curve\")"
      ]
    },
    {
      "cell_type": "markdown",
      "metadata": {},
      "source": [
        "## In multi-label settings\n",
        "\n",
        "The precision-recall curve does not support the multilabel setting. However,\n",
        "one can decide how to handle this case. We show such an example below.\n",
        "\n",
        "### Create multi-label data, fit, and predict\n",
        "\n",
        "We create a multi-label dataset, to illustrate the precision-recall in\n",
        "multi-label settings.\n",
        "\n"
      ]
    },
    {
      "cell_type": "code",
      "execution_count": null,
      "metadata": {
        "collapsed": false
      },
      "outputs": [],
      "source": [
        "from sklearn.preprocessing import label_binarize\n",
        "\n",
        "# Use label_binarize to be multi-label like settings\n",
        "Y = label_binarize(y, classes=[0, 1, 2])\n",
        "n_classes = Y.shape[1]\n",
        "\n",
        "# Split into training and test\n",
        "X_train, X_test, Y_train, Y_test = train_test_split(\n",
        "    X, Y, test_size=0.5, random_state=random_state\n",
        ")"
      ]
    },
    {
      "cell_type": "markdown",
      "metadata": {},
      "source": [
        "We use :class:`~sklearn.multiclass.OneVsRestClassifier` for multi-label\n",
        "prediction.\n",
        "\n"
      ]
    },
    {
      "cell_type": "code",
      "execution_count": null,
      "metadata": {
        "collapsed": false
      },
      "outputs": [],
      "source": [
        "from sklearn.multiclass import OneVsRestClassifier\n",
        "\n",
        "classifier = OneVsRestClassifier(\n",
        "    make_pipeline(StandardScaler(), LinearSVC(random_state=random_state, dual=\"auto\"))\n",
        ")\n",
        "classifier.fit(X_train, Y_train)\n",
        "y_score = classifier.decision_function(X_test)"
      ]
    },
    {
      "cell_type": "markdown",
      "metadata": {},
      "source": [
        "### The average precision score in multi-label settings\n",
        "\n"
      ]
    },
    {
      "cell_type": "code",
      "execution_count": null,
      "metadata": {
        "collapsed": false
      },
      "outputs": [],
      "source": [
        "from sklearn.metrics import average_precision_score, precision_recall_curve\n",
        "\n",
        "# For each class\n",
        "precision = dict()\n",
        "recall = dict()\n",
        "average_precision = dict()\n",
        "for i in range(n_classes):\n",
        "    precision[i], recall[i], _ = precision_recall_curve(Y_test[:, i], y_score[:, i])\n",
        "    average_precision[i] = average_precision_score(Y_test[:, i], y_score[:, i])\n",
        "\n",
        "# A \"micro-average\": quantifying score on all classes jointly\n",
        "precision[\"micro\"], recall[\"micro\"], _ = precision_recall_curve(\n",
        "    Y_test.ravel(), y_score.ravel()\n",
        ")\n",
        "average_precision[\"micro\"] = average_precision_score(Y_test, y_score, average=\"micro\")"
      ]
    },
    {
      "cell_type": "markdown",
      "metadata": {},
      "source": [
        "### Plot the micro-averaged Precision-Recall curve\n",
        "\n"
      ]
    },
    {
      "cell_type": "code",
      "execution_count": null,
      "metadata": {
        "collapsed": false
      },
      "outputs": [],
      "source": [
        "from collections import Counter\n",
        "\n",
        "display = PrecisionRecallDisplay(\n",
        "    recall=recall[\"micro\"],\n",
        "    precision=precision[\"micro\"],\n",
        "    average_precision=average_precision[\"micro\"],\n",
        "    prevalence_pos_label=Counter(Y_test.ravel())[1] / Y_test.size,\n",
        ")\n",
        "display.plot(plot_chance_level=True)\n",
        "_ = display.ax_.set_title(\"Micro-averaged over all classes\")"
      ]
    },
    {
      "cell_type": "markdown",
      "metadata": {},
      "source": [
        "### Plot Precision-Recall curve for each class and iso-f1 curves\n",
        "\n"
      ]
    },
    {
      "cell_type": "code",
      "execution_count": null,
      "metadata": {
        "collapsed": false
      },
      "outputs": [],
      "source": [
        "from itertools import cycle\n",
        "\n",
        "import matplotlib.pyplot as plt\n",
        "\n",
        "# setup plot details\n",
        "colors = cycle([\"navy\", \"turquoise\", \"darkorange\", \"cornflowerblue\", \"teal\"])\n",
        "\n",
        "_, ax = plt.subplots(figsize=(7, 8))\n",
        "\n",
        "f_scores = np.linspace(0.2, 0.8, num=4)\n",
        "lines, labels = [], []\n",
        "for f_score in f_scores:\n",
        "    x = np.linspace(0.01, 1)\n",
        "    y = f_score * x / (2 * x - f_score)\n",
        "    (l,) = plt.plot(x[y >= 0], y[y >= 0], color=\"gray\", alpha=0.2)\n",
        "    plt.annotate(\"f1={0:0.1f}\".format(f_score), xy=(0.9, y[45] + 0.02))\n",
        "\n",
        "display = PrecisionRecallDisplay(\n",
        "    recall=recall[\"micro\"],\n",
        "    precision=precision[\"micro\"],\n",
        "    average_precision=average_precision[\"micro\"],\n",
        ")\n",
        "display.plot(ax=ax, name=\"Micro-average precision-recall\", color=\"gold\")\n",
        "\n",
        "for i, color in zip(range(n_classes), colors):\n",
        "    display = PrecisionRecallDisplay(\n",
        "        recall=recall[i],\n",
        "        precision=precision[i],\n",
        "        average_precision=average_precision[i],\n",
        "    )\n",
        "    display.plot(ax=ax, name=f\"Precision-recall for class {i}\", color=color)\n",
        "\n",
        "# add the legend for the iso-f1 curves\n",
        "handles, labels = display.ax_.get_legend_handles_labels()\n",
        "handles.extend([l])\n",
        "labels.extend([\"iso-f1 curves\"])\n",
        "# set the legend and the axes\n",
        "ax.set_xlim([0.0, 1.0])\n",
        "ax.set_ylim([0.0, 1.05])\n",
        "ax.legend(handles=handles, labels=labels, loc=\"best\")\n",
        "ax.set_title(\"Extension of Precision-Recall curve to multi-class\")\n",
        "\n",
        "plt.show()"
      ]
    }
  ],
  "metadata": {
    "kernelspec": {
      "display_name": "Python 3",
      "language": "python",
      "name": "python3"
    },
    "language_info": {
      "codemirror_mode": {
        "name": "ipython",
        "version": 3
      },
      "file_extension": ".py",
      "mimetype": "text/x-python",
      "name": "python",
      "nbconvert_exporter": "python",
      "pygments_lexer": "ipython3",
      "version": "3.9.16"
    }
  },
  "nbformat": 4,
  "nbformat_minor": 0
}
