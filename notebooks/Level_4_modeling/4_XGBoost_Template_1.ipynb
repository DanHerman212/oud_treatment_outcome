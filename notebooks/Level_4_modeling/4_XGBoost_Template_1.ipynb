{
 "cells": [
  {
   "cell_type": "code",
   "execution_count": 1,
   "metadata": {},
   "outputs": [],
   "source": [
    "# import libraries\n",
    "import pandas as pd\n",
    "import xgboost as xgb\n",
    "import numpy as np"
   ]
  },
  {
   "cell_type": "code",
   "execution_count": 2,
   "metadata": {},
   "outputs": [],
   "source": [
    "data = pd.read_csv('/Users/danherman/Desktop/oud_treatment_outcome/data/clean_data/final.csv')"
   ]
  },
  {
   "cell_type": "code",
   "execution_count": 4,
   "metadata": {},
   "outputs": [
    {
     "data": {
      "text/html": [
       "<div>\n",
       "<style scoped>\n",
       "    .dataframe tbody tr th:only-of-type {\n",
       "        vertical-align: middle;\n",
       "    }\n",
       "\n",
       "    .dataframe tbody tr th {\n",
       "        vertical-align: top;\n",
       "    }\n",
       "\n",
       "    .dataframe thead th {\n",
       "        text-align: right;\n",
       "    }\n",
       "</style>\n",
       "<table border=\"1\" class=\"dataframe\">\n",
       "  <thead>\n",
       "    <tr style=\"text-align: right;\">\n",
       "      <th></th>\n",
       "      <th>patdeid</th>\n",
       "      <th>sru_alcohol</th>\n",
       "      <th>sru_cannabis</th>\n",
       "      <th>sru_cocaine</th>\n",
       "      <th>sru_amphetamine</th>\n",
       "      <th>sru_methamphetamine</th>\n",
       "      <th>sru_opiates</th>\n",
       "      <th>sru_benzodiazepines</th>\n",
       "      <th>sru_propoxyphene</th>\n",
       "      <th>sru_methadone</th>\n",
       "      <th>...</th>\n",
       "      <th>total_dose_245.0</th>\n",
       "      <th>total_dose_250.0</th>\n",
       "      <th>total_dose_255.0</th>\n",
       "      <th>total_dose_265.0</th>\n",
       "      <th>total_dose_270.0</th>\n",
       "      <th>total_dose_300.0</th>\n",
       "      <th>total_dose_360.0</th>\n",
       "      <th>total_dose_390.0</th>\n",
       "      <th>admin_location_1.0</th>\n",
       "      <th>admin_location_2.0</th>\n",
       "    </tr>\n",
       "  </thead>\n",
       "  <tbody>\n",
       "    <tr>\n",
       "      <th>0</th>\n",
       "      <td>1</td>\n",
       "      <td>0.0</td>\n",
       "      <td>0.0</td>\n",
       "      <td>0.0</td>\n",
       "      <td>0.0</td>\n",
       "      <td>0.0</td>\n",
       "      <td>1.0</td>\n",
       "      <td>0.0</td>\n",
       "      <td>0.0</td>\n",
       "      <td>0.0</td>\n",
       "      <td>...</td>\n",
       "      <td>0.0</td>\n",
       "      <td>0.0</td>\n",
       "      <td>0.0</td>\n",
       "      <td>0.0</td>\n",
       "      <td>0.0</td>\n",
       "      <td>0.0</td>\n",
       "      <td>0.0</td>\n",
       "      <td>0.0</td>\n",
       "      <td>1.0</td>\n",
       "      <td>0.0</td>\n",
       "    </tr>\n",
       "    <tr>\n",
       "      <th>1</th>\n",
       "      <td>1</td>\n",
       "      <td>0.0</td>\n",
       "      <td>0.0</td>\n",
       "      <td>0.0</td>\n",
       "      <td>0.0</td>\n",
       "      <td>0.0</td>\n",
       "      <td>0.0</td>\n",
       "      <td>0.0</td>\n",
       "      <td>0.0</td>\n",
       "      <td>0.0</td>\n",
       "      <td>...</td>\n",
       "      <td>0.0</td>\n",
       "      <td>0.0</td>\n",
       "      <td>0.0</td>\n",
       "      <td>0.0</td>\n",
       "      <td>0.0</td>\n",
       "      <td>0.0</td>\n",
       "      <td>0.0</td>\n",
       "      <td>0.0</td>\n",
       "      <td>1.0</td>\n",
       "      <td>0.0</td>\n",
       "    </tr>\n",
       "    <tr>\n",
       "      <th>2</th>\n",
       "      <td>1</td>\n",
       "      <td>0.0</td>\n",
       "      <td>0.0</td>\n",
       "      <td>0.0</td>\n",
       "      <td>0.0</td>\n",
       "      <td>0.0</td>\n",
       "      <td>0.0</td>\n",
       "      <td>0.0</td>\n",
       "      <td>0.0</td>\n",
       "      <td>0.0</td>\n",
       "      <td>...</td>\n",
       "      <td>0.0</td>\n",
       "      <td>0.0</td>\n",
       "      <td>0.0</td>\n",
       "      <td>0.0</td>\n",
       "      <td>0.0</td>\n",
       "      <td>0.0</td>\n",
       "      <td>0.0</td>\n",
       "      <td>0.0</td>\n",
       "      <td>1.0</td>\n",
       "      <td>0.0</td>\n",
       "    </tr>\n",
       "    <tr>\n",
       "      <th>3</th>\n",
       "      <td>1</td>\n",
       "      <td>0.0</td>\n",
       "      <td>0.0</td>\n",
       "      <td>0.0</td>\n",
       "      <td>0.0</td>\n",
       "      <td>0.0</td>\n",
       "      <td>0.0</td>\n",
       "      <td>0.0</td>\n",
       "      <td>0.0</td>\n",
       "      <td>0.0</td>\n",
       "      <td>...</td>\n",
       "      <td>0.0</td>\n",
       "      <td>0.0</td>\n",
       "      <td>0.0</td>\n",
       "      <td>0.0</td>\n",
       "      <td>0.0</td>\n",
       "      <td>0.0</td>\n",
       "      <td>0.0</td>\n",
       "      <td>0.0</td>\n",
       "      <td>1.0</td>\n",
       "      <td>0.0</td>\n",
       "    </tr>\n",
       "    <tr>\n",
       "      <th>4</th>\n",
       "      <td>1</td>\n",
       "      <td>0.0</td>\n",
       "      <td>0.0</td>\n",
       "      <td>0.0</td>\n",
       "      <td>0.0</td>\n",
       "      <td>1.0</td>\n",
       "      <td>0.0</td>\n",
       "      <td>0.0</td>\n",
       "      <td>0.0</td>\n",
       "      <td>0.0</td>\n",
       "      <td>...</td>\n",
       "      <td>0.0</td>\n",
       "      <td>0.0</td>\n",
       "      <td>0.0</td>\n",
       "      <td>0.0</td>\n",
       "      <td>0.0</td>\n",
       "      <td>0.0</td>\n",
       "      <td>0.0</td>\n",
       "      <td>0.0</td>\n",
       "      <td>1.0</td>\n",
       "      <td>0.0</td>\n",
       "    </tr>\n",
       "  </tbody>\n",
       "</table>\n",
       "<p>5 rows × 211 columns</p>\n",
       "</div>"
      ],
      "text/plain": [
       "   patdeid  sru_alcohol  sru_cannabis  sru_cocaine  sru_amphetamine  \\\n",
       "0        1          0.0           0.0          0.0              0.0   \n",
       "1        1          0.0           0.0          0.0              0.0   \n",
       "2        1          0.0           0.0          0.0              0.0   \n",
       "3        1          0.0           0.0          0.0              0.0   \n",
       "4        1          0.0           0.0          0.0              0.0   \n",
       "\n",
       "   sru_methamphetamine  sru_opiates  sru_benzodiazepines  sru_propoxyphene  \\\n",
       "0                  0.0          1.0                  0.0               0.0   \n",
       "1                  0.0          0.0                  0.0               0.0   \n",
       "2                  0.0          0.0                  0.0               0.0   \n",
       "3                  0.0          0.0                  0.0               0.0   \n",
       "4                  1.0          0.0                  0.0               0.0   \n",
       "\n",
       "   sru_methadone  ...  total_dose_245.0  total_dose_250.0  total_dose_255.0  \\\n",
       "0            0.0  ...               0.0               0.0               0.0   \n",
       "1            0.0  ...               0.0               0.0               0.0   \n",
       "2            0.0  ...               0.0               0.0               0.0   \n",
       "3            0.0  ...               0.0               0.0               0.0   \n",
       "4            0.0  ...               0.0               0.0               0.0   \n",
       "\n",
       "   total_dose_265.0  total_dose_270.0  total_dose_300.0  total_dose_360.0  \\\n",
       "0               0.0               0.0               0.0               0.0   \n",
       "1               0.0               0.0               0.0               0.0   \n",
       "2               0.0               0.0               0.0               0.0   \n",
       "3               0.0               0.0               0.0               0.0   \n",
       "4               0.0               0.0               0.0               0.0   \n",
       "\n",
       "   total_dose_390.0  admin_location_1.0  admin_location_2.0  \n",
       "0               0.0                 1.0                 0.0  \n",
       "1               0.0                 1.0                 0.0  \n",
       "2               0.0                 1.0                 0.0  \n",
       "3               0.0                 1.0                 0.0  \n",
       "4               0.0                 1.0                 0.0  \n",
       "\n",
       "[5 rows x 211 columns]"
      ]
     },
     "execution_count": 4,
     "metadata": {},
     "output_type": "execute_result"
    }
   ],
   "source": [
    "data.head()"
   ]
  },
  {
   "cell_type": "code",
   "execution_count": null,
   "metadata": {},
   "outputs": [],
   "source": [
    "# isolate x and y variables\n",
    "y = data.drop(columns='outcome') \n",
    "X = data.outcome"
   ]
  },
  {
   "cell_type": "code",
   "execution_count": null,
   "metadata": {},
   "outputs": [],
   "source": [
    "# split data into train and test sets\n",
    "from sklearn.model_selection import train_test_split\n",
    "\n",
    "X_train, X_test, y_train, y_test = train_test_split(X, y, test_size = 0.22)"
   ]
  },
  {
   "cell_type": "code",
   "execution_count": null,
   "metadata": {},
   "outputs": [],
   "source": [
    "# show target mean\n",
    "\n",
    "display(np.mean(y_train))\n",
    "display(np.mean(y_test))\n"
   ]
  },
  {
   "cell_type": "code",
   "execution_count": null,
   "metadata": {},
   "outputs": [],
   "source": [
    "# create xgboost matrix\n",
    "train = xgb.DMatrix(X_train, label = y_train)\n",
    "test = xgb.DMatrix(X_test, label = y_test)"
   ]
  },
  {
   "cell_type": "code",
   "execution_count": null,
   "metadata": {},
   "outputs": [],
   "source": [
    "# show target mean\n",
    "\n",
    "display(np.mean(y_train))\n",
    "display(np.mean(y_test))\n"
   ]
  },
  {
   "cell_type": "code",
   "execution_count": null,
   "metadata": {},
   "outputs": [],
   "source": [
    "# create xgboost matrix\n",
    "train = xgb.DMatrix(X_train, label = y_train)\n",
    "test = xgb.DMatrix(X_test, label = y_test)"
   ]
  },
  {
   "cell_type": "code",
   "execution_count": null,
   "metadata": {},
   "outputs": [],
   "source": [
    "# set the parameters for xgboost\n",
    "parameters1 = {'learning_rate':0.3,\n",
    "                'max_depth': 2,\n",
    "                'colsample_bytree': 1,\n",
    "                'subsample': 1,\n",
    "                'min_child_weight': 1,\n",
    "                'gamma': 0,\n",
    "                'random_state': 1502,\n",
    "                'eval_metric': 'auc',\n",
    "                'objective': 'binary:logistic'}\n"
   ]
  },
  {
   "cell_type": "code",
   "execution_count": null,
   "metadata": {},
   "outputs": [],
   "source": [
    "# run XGBoost\n",
    "model = xgb.train(params=parameters1,\n",
    "                  dtrain=train,\n",
    "                  num_boost_round=200,\n",
    "                  evals = [(test, 'yes')],\n",
    "                  verbose_eval=50)\n",
    "                  "
   ]
  },
  {
   "cell_type": "code",
   "execution_count": null,
   "metadata": {},
   "outputs": [],
   "source": [
    "# predictions\n",
    "predictions1 = model.predict(test)\n",
    "predictions1 = np.where(predictions1 > 0.5, 1, 0)"
   ]
  },
  {
   "cell_type": "code",
   "execution_count": null,
   "metadata": {},
   "outputs": [],
   "source": [
    "# confusion matrix\n",
    "from sklearn.metrics import confusion_matrix, classification_report, ConfusionMatrixDisplay"
   ]
  },
  {
   "cell_type": "code",
   "execution_count": null,
   "metadata": {},
   "outputs": [],
   "source": [
    "# show confusion matrix display\n",
    "confusion_matrix1 = confusion_matrix(y_test, predictions1)\n",
    "disp = ConfusionMatrixDisplay(confusion_matrix=confusion_matrix1, display_labels=['No', 'Yes'])\n",
    "disp.plot();"
   ]
  },
  {
   "cell_type": "code",
   "execution_count": null,
   "metadata": {},
   "outputs": [],
   "source": [
    "report1 = classification_report(y_test, predictions1)\n",
    "print(report1)"
   ]
  },
  {
   "cell_type": "code",
   "execution_count": null,
   "metadata": {},
   "outputs": [],
   "source": [
    "# isolate categorical variables\n",
    "\n",
    "cat = data.select_dtypes(exclude=\"number\")"
   ]
  },
  {
   "cell_type": "code",
   "execution_count": null,
   "metadata": {},
   "outputs": [],
   "source": [
    "# transform categorical variables\n",
    "\n",
    "dummies = pd.get_dummies(cat, drop_first=True, dtype=int)"
   ]
  },
  {
   "cell_type": "code",
   "execution_count": null,
   "metadata": {},
   "outputs": [],
   "source": [
    "# joining numerical and categorical variables\n",
    "final_dataset = pd.concat([X, dummies], axis=1)"
   ]
  },
  {
   "cell_type": "code",
   "execution_count": null,
   "metadata": {},
   "outputs": [],
   "source": [
    "feature_columns = list(final_dataset.columns.values)\n",
    "feature_columns = feature_columns[:-1]"
   ]
  },
  {
   "cell_type": "code",
   "execution_count": null,
   "metadata": {},
   "outputs": [],
   "source": [
    "# isolate x and y variables part 2\n",
    "y = final_dataset.iloc[:, -1].values\n",
    "X = final_dataset.iloc[:, :-1].values"
   ]
  },
  {
   "cell_type": "code",
   "execution_count": null,
   "metadata": {},
   "outputs": [],
   "source": [
    "# split data into train and test sets\n",
    "\n",
    "X_train, X_test, y_train, y_test = train_test_split(X, y, test_size = 0.2, random_state = 1502)"
   ]
  },
  {
   "cell_type": "code",
   "execution_count": null,
   "metadata": {},
   "outputs": [],
   "source": [
    "# create xgboost matrix\n",
    "train = xgb.DMatrix(X_train, label = y_train, feature_names = feature_columns)\n",
    "test = xgb.DMatrix(X_test, label = y_test, feature_names = feature_columns)"
   ]
  },
  {
   "cell_type": "code",
   "execution_count": null,
   "metadata": {},
   "outputs": [],
   "source": [
    "# set the parameters for xgboost part 2\n",
    "parameters2 = {'learning_rate':0.3,\n",
    "                'max_depth': 2,\n",
    "                'colsample_bytree': 1,\n",
    "                'subsample': 1,\n",
    "                'min_child_weight': 1,\n",
    "                'gamma': 0,\n",
    "                'random_state': 1502,\n",
    "                'eval_metric': 'auc',\n",
    "                'objective': 'binary:logistic'}\n"
   ]
  },
  {
   "cell_type": "code",
   "execution_count": null,
   "metadata": {},
   "outputs": [],
   "source": [
    "# run XGBoost\n",
    "model2 = xgb.train(params=parameters2,\n",
    "                  dtrain=train,\n",
    "                  num_boost_round=200,\n",
    "                  evals = [(test, 'yes')],\n",
    "                  verbose_eval=50)\n",
    "                  "
   ]
  },
  {
   "cell_type": "code",
   "execution_count": null,
   "metadata": {},
   "outputs": [],
   "source": [
    "# predictions\n",
    "predictions2 = model2.predict(test)\n",
    "predictions2 = np.where(predictions2 > 0.5, 1, 0)"
   ]
  },
  {
   "cell_type": "code",
   "execution_count": null,
   "metadata": {},
   "outputs": [],
   "source": [
    "# show confusion matrix display\n",
    "confusion_matrix2 = confusion_matrix(y_test, predictions2)\n",
    "disp = ConfusionMatrixDisplay(confusion_matrix=confusion_matrix2, display_labels=['No', 'Yes'])\n",
    "disp.plot();"
   ]
  },
  {
   "cell_type": "code",
   "execution_count": null,
   "metadata": {},
   "outputs": [],
   "source": [
    "report2 = classification_report(y_test, predictions2)\n",
    "print(report2)"
   ]
  },
  {
   "cell_type": "code",
   "execution_count": null,
   "metadata": {},
   "outputs": [],
   "source": [
    "# setting the cross validation parameters\n",
    "from sklearn.model_selection import KFold\n",
    "\n",
    "tune_control = KFold(n_splits=5, shuffle=True, random_state=1502).split(X = X_train, y = y_train)"
   ]
  },
  {
   "cell_type": "code",
   "execution_count": null,
   "metadata": {},
   "outputs": [],
   "source": [
    "# set parameter tuning\n",
    "tune_grid = {'learning_rate':[0.05,0.3],\n",
    "                'max_depth':range(2,9,2),\n",
    "                'colsample_bytree': [0.5,1],\n",
    "                'subsample': [1],\n",
    "                'min_child_weight':[1],\n",
    "                'gamma': [0],\n",
    "                'random_state': [1502],\n",
    "                'n_estimators':range(200, 2000, 200),\n",
    "                'booster':['gbtree']\n",
    "                }"
   ]
  },
  {
   "cell_type": "code",
   "execution_count": null,
   "metadata": {},
   "outputs": [],
   "source": [
    "# state we are doing a classification problem\n",
    "from xgboost import XGBClassifier\n",
    "classifier = XGBClassifier(objective='binary:logistic')"
   ]
  },
  {
   "cell_type": "code",
   "execution_count": null,
   "metadata": {},
   "outputs": [],
   "source": [
    "# cross validation assembly\n",
    "from sklearn.model_selection import GridSearchCV\n",
    "\n",
    "grid_search = GridSearchCV(estimator = classifier,  \n",
    "                            param_grid = tune_grid, \n",
    "                            scoring = 'roc_auc',\n",
    "                            n_jobs = 8,\n",
    "                            cv = tune_control,\n",
    "                            verbose = 5)"
   ]
  },
  {
   "cell_type": "code",
   "execution_count": null,
   "metadata": {},
   "outputs": [],
   "source": [
    "# setting evaluation parameters\n",
    "evaluation_parameters = {'early_stopping_rounds':100,\n",
    "                        'eval_metric':'auc',\n",
    "                        'eval_set':[(X_test, y_test)]}  "
   ]
  },
  {
   "cell_type": "code",
   "execution_count": null,
   "metadata": {},
   "outputs": [],
   "source": [
    "# hyperparameter tuning and cross validation\n",
    "tune_model = grid_search.fit(X=X_train, y=y_train, **evaluation_parameters)\n",
    "\n",
    "grid_search.best_params_, grid_search.best_score_"
   ]
  }
 ],
 "metadata": {
  "kernelspec": {
   "display_name": "labs",
   "language": "python",
   "name": "python3"
  },
  "language_info": {
   "codemirror_mode": {
    "name": "ipython",
    "version": 3
   },
   "file_extension": ".py",
   "mimetype": "text/x-python",
   "name": "python",
   "nbconvert_exporter": "python",
   "pygments_lexer": "ipython3",
   "version": "3.9.16"
  },
  "orig_nbformat": 4
 },
 "nbformat": 4,
 "nbformat_minor": 2
}
