{
 "cells": [
  {
   "cell_type": "code",
   "execution_count": 1,
   "metadata": {},
   "outputs": [],
   "source": [
    "import pandas as pd # only pandas required for this notebook"
   ]
  },
  {
   "cell_type": "code",
   "execution_count": 2,
   "metadata": {},
   "outputs": [
    {
     "data": {
      "text/html": [
       "<div>\n",
       "<style scoped>\n",
       "    .dataframe tbody tr th:only-of-type {\n",
       "        vertical-align: middle;\n",
       "    }\n",
       "\n",
       "    .dataframe tbody tr th {\n",
       "        vertical-align: top;\n",
       "    }\n",
       "\n",
       "    .dataframe thead th {\n",
       "        text-align: right;\n",
       "    }\n",
       "</style>\n",
       "<table border=\"1\" class=\"dataframe\">\n",
       "  <thead>\n",
       "    <tr style=\"text-align: right;\">\n",
       "      <th></th>\n",
       "      <th>PATIENTNUMBER</th>\n",
       "      <th>SITE</th>\n",
       "      <th>VISIT</th>\n",
       "      <th>PATIENTID</th>\n",
       "      <th>VISITID</th>\n",
       "      <th>DOS002</th>\n",
       "      <th>DOS002_UNIT</th>\n",
       "      <th>DOS002_NORM</th>\n",
       "      <th>DOS005</th>\n",
       "      <th>DOS005_UNIT</th>\n",
       "      <th>DOS005_NORM</th>\n",
       "      <th>DOS006</th>\n",
       "      <th>DOS006_UNIT</th>\n",
       "      <th>DOS006_NORM</th>\n",
       "      <th>VISITDT</th>\n",
       "      <th>DOS001</th>\n",
       "      <th>DOS001_DT</th>\n",
       "      <th>VISITDT_Dt</th>\n",
       "      <th>patdeid</th>\n",
       "    </tr>\n",
       "  </thead>\n",
       "  <tbody>\n",
       "    <tr>\n",
       "      <th>0</th>\n",
       "      <td>NaN</td>\n",
       "      <td>NaN</td>\n",
       "      <td>WK0</td>\n",
       "      <td>NaN</td>\n",
       "      <td>15034</td>\n",
       "      <td>2.0</td>\n",
       "      <td>NaN</td>\n",
       "      <td>2.0</td>\n",
       "      <td>8.0</td>\n",
       "      <td>NaN</td>\n",
       "      <td>8.0</td>\n",
       "      <td>1.0</td>\n",
       "      <td>NaN</td>\n",
       "      <td>1.0</td>\n",
       "      <td>NaN</td>\n",
       "      <td>NaN</td>\n",
       "      <td>.</td>\n",
       "      <td>0.0</td>\n",
       "      <td>1</td>\n",
       "    </tr>\n",
       "    <tr>\n",
       "      <th>1</th>\n",
       "      <td>NaN</td>\n",
       "      <td>NaN</td>\n",
       "      <td>WK1</td>\n",
       "      <td>NaN</td>\n",
       "      <td>15037</td>\n",
       "      <td>2.0</td>\n",
       "      <td>NaN</td>\n",
       "      <td>2.0</td>\n",
       "      <td>16.0</td>\n",
       "      <td>NaN</td>\n",
       "      <td>16.0</td>\n",
       "      <td>1.0</td>\n",
       "      <td>NaN</td>\n",
       "      <td>1.0</td>\n",
       "      <td>NaN</td>\n",
       "      <td>NaN</td>\n",
       "      <td>.</td>\n",
       "      <td>6.0</td>\n",
       "      <td>1</td>\n",
       "    </tr>\n",
       "    <tr>\n",
       "      <th>2</th>\n",
       "      <td>NaN</td>\n",
       "      <td>NaN</td>\n",
       "      <td>WK1</td>\n",
       "      <td>NaN</td>\n",
       "      <td>15037</td>\n",
       "      <td>2.0</td>\n",
       "      <td>NaN</td>\n",
       "      <td>2.0</td>\n",
       "      <td>24.0</td>\n",
       "      <td>NaN</td>\n",
       "      <td>24.0</td>\n",
       "      <td>1.0</td>\n",
       "      <td>NaN</td>\n",
       "      <td>1.0</td>\n",
       "      <td>NaN</td>\n",
       "      <td>NaN</td>\n",
       "      <td>.</td>\n",
       "      <td>6.0</td>\n",
       "      <td>1</td>\n",
       "    </tr>\n",
       "    <tr>\n",
       "      <th>3</th>\n",
       "      <td>NaN</td>\n",
       "      <td>NaN</td>\n",
       "      <td>WK1</td>\n",
       "      <td>NaN</td>\n",
       "      <td>15037</td>\n",
       "      <td>2.0</td>\n",
       "      <td>NaN</td>\n",
       "      <td>2.0</td>\n",
       "      <td>24.0</td>\n",
       "      <td>NaN</td>\n",
       "      <td>24.0</td>\n",
       "      <td>1.0</td>\n",
       "      <td>NaN</td>\n",
       "      <td>1.0</td>\n",
       "      <td>NaN</td>\n",
       "      <td>NaN</td>\n",
       "      <td>.</td>\n",
       "      <td>6.0</td>\n",
       "      <td>1</td>\n",
       "    </tr>\n",
       "    <tr>\n",
       "      <th>4</th>\n",
       "      <td>NaN</td>\n",
       "      <td>NaN</td>\n",
       "      <td>WK1</td>\n",
       "      <td>NaN</td>\n",
       "      <td>15037</td>\n",
       "      <td>2.0</td>\n",
       "      <td>NaN</td>\n",
       "      <td>2.0</td>\n",
       "      <td>32.0</td>\n",
       "      <td>NaN</td>\n",
       "      <td>32.0</td>\n",
       "      <td>1.0</td>\n",
       "      <td>NaN</td>\n",
       "      <td>1.0</td>\n",
       "      <td>NaN</td>\n",
       "      <td>NaN</td>\n",
       "      <td>.</td>\n",
       "      <td>6.0</td>\n",
       "      <td>1</td>\n",
       "    </tr>\n",
       "  </tbody>\n",
       "</table>\n",
       "</div>"
      ],
      "text/plain": [
       "   PATIENTNUMBER  SITE VISIT  PATIENTID  VISITID  DOS002  DOS002_UNIT  \\\n",
       "0            NaN   NaN   WK0        NaN    15034     2.0          NaN   \n",
       "1            NaN   NaN   WK1        NaN    15037     2.0          NaN   \n",
       "2            NaN   NaN   WK1        NaN    15037     2.0          NaN   \n",
       "3            NaN   NaN   WK1        NaN    15037     2.0          NaN   \n",
       "4            NaN   NaN   WK1        NaN    15037     2.0          NaN   \n",
       "\n",
       "   DOS002_NORM  DOS005  DOS005_UNIT  DOS005_NORM  DOS006  DOS006_UNIT  \\\n",
       "0          2.0     8.0          NaN          8.0     1.0          NaN   \n",
       "1          2.0    16.0          NaN         16.0     1.0          NaN   \n",
       "2          2.0    24.0          NaN         24.0     1.0          NaN   \n",
       "3          2.0    24.0          NaN         24.0     1.0          NaN   \n",
       "4          2.0    32.0          NaN         32.0     1.0          NaN   \n",
       "\n",
       "   DOS006_NORM  VISITDT  DOS001 DOS001_DT  VISITDT_Dt  patdeid  \n",
       "0          1.0      NaN     NaN         .         0.0        1  \n",
       "1          1.0      NaN     NaN         .         6.0        1  \n",
       "2          1.0      NaN     NaN         .         6.0        1  \n",
       "3          1.0      NaN     NaN         .         6.0        1  \n",
       "4          1.0      NaN     NaN         .         6.0        1  "
      ]
     },
     "execution_count": 2,
     "metadata": {},
     "output_type": "execute_result"
    }
   ],
   "source": [
    "# read table for medication doses taken over 24 week period\n",
    "medication_dose = pd.read_csv('../data/T_FRDOS.csv')\n",
    "\n",
    "medication_dose.head()"
   ]
  },
  {
   "cell_type": "code",
   "execution_count": 3,
   "metadata": {},
   "outputs": [
    {
     "data": {
      "text/plain": [
       "Index(['PATIENTNUMBER', 'SITE', 'VISIT', 'PATIENTID', 'VISITID', 'DOS002',\n",
       "       'DOS002_UNIT', 'DOS002_NORM', 'DOS005', 'DOS005_UNIT', 'DOS005_NORM',\n",
       "       'DOS006', 'DOS006_UNIT', 'DOS006_NORM', 'VISITDT', 'DOS001',\n",
       "       'DOS001_DT', 'VISITDT_Dt', 'patdeid'],\n",
       "      dtype='object')"
      ]
     },
     "execution_count": 3,
     "metadata": {},
     "output_type": "execute_result"
    }
   ],
   "source": [
    "# retrieve column names\n",
    "medication_dose.columns"
   ]
  },
  {
   "cell_type": "code",
   "execution_count": 4,
   "metadata": {},
   "outputs": [
    {
     "data": {
      "text/html": [
       "<div>\n",
       "<style scoped>\n",
       "    .dataframe tbody tr th:only-of-type {\n",
       "        vertical-align: middle;\n",
       "    }\n",
       "\n",
       "    .dataframe tbody tr th {\n",
       "        vertical-align: top;\n",
       "    }\n",
       "\n",
       "    .dataframe thead th {\n",
       "        text-align: right;\n",
       "    }\n",
       "</style>\n",
       "<table border=\"1\" class=\"dataframe\">\n",
       "  <thead>\n",
       "    <tr style=\"text-align: right;\">\n",
       "      <th></th>\n",
       "      <th>VISIT</th>\n",
       "      <th>DOS002</th>\n",
       "      <th>DOS005</th>\n",
       "      <th>DOS006</th>\n",
       "      <th>patdeid</th>\n",
       "    </tr>\n",
       "  </thead>\n",
       "  <tbody>\n",
       "    <tr>\n",
       "      <th>0</th>\n",
       "      <td>WK0</td>\n",
       "      <td>2.0</td>\n",
       "      <td>8.0</td>\n",
       "      <td>1.0</td>\n",
       "      <td>1</td>\n",
       "    </tr>\n",
       "    <tr>\n",
       "      <th>1</th>\n",
       "      <td>WK1</td>\n",
       "      <td>2.0</td>\n",
       "      <td>16.0</td>\n",
       "      <td>1.0</td>\n",
       "      <td>1</td>\n",
       "    </tr>\n",
       "    <tr>\n",
       "      <th>2</th>\n",
       "      <td>WK1</td>\n",
       "      <td>2.0</td>\n",
       "      <td>24.0</td>\n",
       "      <td>1.0</td>\n",
       "      <td>1</td>\n",
       "    </tr>\n",
       "    <tr>\n",
       "      <th>3</th>\n",
       "      <td>WK1</td>\n",
       "      <td>2.0</td>\n",
       "      <td>24.0</td>\n",
       "      <td>1.0</td>\n",
       "      <td>1</td>\n",
       "    </tr>\n",
       "    <tr>\n",
       "      <th>4</th>\n",
       "      <td>WK1</td>\n",
       "      <td>2.0</td>\n",
       "      <td>32.0</td>\n",
       "      <td>1.0</td>\n",
       "      <td>1</td>\n",
       "    </tr>\n",
       "  </tbody>\n",
       "</table>\n",
       "</div>"
      ],
      "text/plain": [
       "  VISIT  DOS002  DOS005  DOS006  patdeid\n",
       "0   WK0     2.0     8.0     1.0        1\n",
       "1   WK1     2.0    16.0     1.0        1\n",
       "2   WK1     2.0    24.0     1.0        1\n",
       "3   WK1     2.0    24.0     1.0        1\n",
       "4   WK1     2.0    32.0     1.0        1"
      ]
     },
     "execution_count": 4,
     "metadata": {},
     "output_type": "execute_result"
    }
   ],
   "source": [
    "# drop columns whose data we are not using for this analysis\n",
    "\n",
    "medication_dose = medication_dose.drop(columns=['PATIENTNUMBER','DOS001','SITE', 'PATIENTID', 'VISITID','DOS002_UNIT', 'DOS002_NORM','DOS005_UNIT', 'DOS005_NORM','DOS006_UNIT', 'DOS006_NORM', 'VISITDT','DOS001_DT', 'VISITDT_Dt'], axis=1)\n",
    "\n",
    "medication_dose.head()"
   ]
  },
  {
   "cell_type": "code",
   "execution_count": 5,
   "metadata": {},
   "outputs": [],
   "source": [
    "# rename columns according to documentation for interpretability\n",
    "\n",
    "new_columns = {'DOS002':'medication','DOS005':'total_dose','DOS006':'admin_location'}\n"
   ]
  },
  {
   "cell_type": "code",
   "execution_count": 6,
   "metadata": {},
   "outputs": [
    {
     "data": {
      "text/html": [
       "<div>\n",
       "<style scoped>\n",
       "    .dataframe tbody tr th:only-of-type {\n",
       "        vertical-align: middle;\n",
       "    }\n",
       "\n",
       "    .dataframe tbody tr th {\n",
       "        vertical-align: top;\n",
       "    }\n",
       "\n",
       "    .dataframe thead th {\n",
       "        text-align: right;\n",
       "    }\n",
       "</style>\n",
       "<table border=\"1\" class=\"dataframe\">\n",
       "  <thead>\n",
       "    <tr style=\"text-align: right;\">\n",
       "      <th></th>\n",
       "      <th>VISIT</th>\n",
       "      <th>medication</th>\n",
       "      <th>total_dose</th>\n",
       "      <th>admin_location</th>\n",
       "      <th>patdeid</th>\n",
       "    </tr>\n",
       "  </thead>\n",
       "  <tbody>\n",
       "    <tr>\n",
       "      <th>0</th>\n",
       "      <td>WK0</td>\n",
       "      <td>2.0</td>\n",
       "      <td>8.0</td>\n",
       "      <td>1.0</td>\n",
       "      <td>1</td>\n",
       "    </tr>\n",
       "    <tr>\n",
       "      <th>1</th>\n",
       "      <td>WK1</td>\n",
       "      <td>2.0</td>\n",
       "      <td>16.0</td>\n",
       "      <td>1.0</td>\n",
       "      <td>1</td>\n",
       "    </tr>\n",
       "    <tr>\n",
       "      <th>2</th>\n",
       "      <td>WK1</td>\n",
       "      <td>2.0</td>\n",
       "      <td>24.0</td>\n",
       "      <td>1.0</td>\n",
       "      <td>1</td>\n",
       "    </tr>\n",
       "    <tr>\n",
       "      <th>3</th>\n",
       "      <td>WK1</td>\n",
       "      <td>2.0</td>\n",
       "      <td>24.0</td>\n",
       "      <td>1.0</td>\n",
       "      <td>1</td>\n",
       "    </tr>\n",
       "    <tr>\n",
       "      <th>4</th>\n",
       "      <td>WK1</td>\n",
       "      <td>2.0</td>\n",
       "      <td>32.0</td>\n",
       "      <td>1.0</td>\n",
       "      <td>1</td>\n",
       "    </tr>\n",
       "  </tbody>\n",
       "</table>\n",
       "</div>"
      ],
      "text/plain": [
       "  VISIT  medication  total_dose  admin_location  patdeid\n",
       "0   WK0         2.0         8.0             1.0        1\n",
       "1   WK1         2.0        16.0             1.0        1\n",
       "2   WK1         2.0        24.0             1.0        1\n",
       "3   WK1         2.0        24.0             1.0        1\n",
       "4   WK1         2.0        32.0             1.0        1"
      ]
     },
     "execution_count": 6,
     "metadata": {},
     "output_type": "execute_result"
    }
   ],
   "source": [
    "# renaming columns\n",
    "\n",
    "medication_dose = medication_dose.rename(columns=new_columns)\n",
    "\n",
    "medication_dose.head()"
   ]
  },
  {
   "cell_type": "code",
   "execution_count": 7,
   "metadata": {},
   "outputs": [
    {
     "data": {
      "text/html": [
       "<div>\n",
       "<style scoped>\n",
       "    .dataframe tbody tr th:only-of-type {\n",
       "        vertical-align: middle;\n",
       "    }\n",
       "\n",
       "    .dataframe tbody tr th {\n",
       "        vertical-align: top;\n",
       "    }\n",
       "\n",
       "    .dataframe thead th {\n",
       "        text-align: right;\n",
       "    }\n",
       "</style>\n",
       "<table border=\"1\" class=\"dataframe\">\n",
       "  <thead>\n",
       "    <tr style=\"text-align: right;\">\n",
       "      <th></th>\n",
       "      <th>patdeid</th>\n",
       "      <th>medication</th>\n",
       "      <th>total_dose</th>\n",
       "      <th>admin_location</th>\n",
       "    </tr>\n",
       "  </thead>\n",
       "  <tbody>\n",
       "    <tr>\n",
       "      <th>0</th>\n",
       "      <td>1</td>\n",
       "      <td>2.0</td>\n",
       "      <td>8.0</td>\n",
       "      <td>1.0</td>\n",
       "    </tr>\n",
       "    <tr>\n",
       "      <th>1</th>\n",
       "      <td>1</td>\n",
       "      <td>2.0</td>\n",
       "      <td>16.0</td>\n",
       "      <td>1.0</td>\n",
       "    </tr>\n",
       "    <tr>\n",
       "      <th>2</th>\n",
       "      <td>1</td>\n",
       "      <td>2.0</td>\n",
       "      <td>24.0</td>\n",
       "      <td>1.0</td>\n",
       "    </tr>\n",
       "    <tr>\n",
       "      <th>3</th>\n",
       "      <td>1</td>\n",
       "      <td>2.0</td>\n",
       "      <td>24.0</td>\n",
       "      <td>1.0</td>\n",
       "    </tr>\n",
       "    <tr>\n",
       "      <th>4</th>\n",
       "      <td>1</td>\n",
       "      <td>2.0</td>\n",
       "      <td>32.0</td>\n",
       "      <td>1.0</td>\n",
       "    </tr>\n",
       "  </tbody>\n",
       "</table>\n",
       "</div>"
      ],
      "text/plain": [
       "   patdeid  medication  total_dose  admin_location\n",
       "0        1         2.0         8.0             1.0\n",
       "1        1         2.0        16.0             1.0\n",
       "2        1         2.0        24.0             1.0\n",
       "3        1         2.0        24.0             1.0\n",
       "4        1         2.0        32.0             1.0"
      ]
     },
     "execution_count": 7,
     "metadata": {},
     "output_type": "execute_result"
    }
   ],
   "source": [
    "# reorder columns for easier interpretation\n",
    "\n",
    "medication_dose = medication_dose.reindex(columns=['patdeid','medication','total_dose','admin_location'])\n",
    "\n",
    "medication_dose.head()"
   ]
  },
  {
   "cell_type": "code",
   "execution_count": 8,
   "metadata": {},
   "outputs": [
    {
     "data": {
      "text/plain": [
       "medication\n",
       "2.0    79571\n",
       "1.0    79054\n",
       "Name: count, dtype: int64"
      ]
     },
     "execution_count": 8,
     "metadata": {},
     "output_type": "execute_result"
    }
   ],
   "source": [
    "# check for class inbalance of medication prescribed, 1 = methadone, 2 = buprenorphine\n",
    "\n",
    "medication_dose.medication.value_counts()"
   ]
  },
  {
   "cell_type": "code",
   "execution_count": 12,
   "metadata": {},
   "outputs": [
    {
     "data": {
      "text/plain": [
       "176"
      ]
     },
     "execution_count": 12,
     "metadata": {},
     "output_type": "execute_result"
    }
   ],
   "source": [
    "# unique data points for total_dose column\n",
    "\n",
    "len(medication_dose.total_dose.unique())"
   ]
  },
  {
   "cell_type": "code",
   "execution_count": 10,
   "metadata": {},
   "outputs": [
    {
     "data": {
      "text/plain": [
       "array([  8.,  16.,  24.,  32.,   0.,  nan,  30.,  26.,  28.,  22.,  12.,\n",
       "        40.,  50.,  60.,  65.,  70.,  75.,  80.,  90.,  95., 100.,  85.,\n",
       "        14.,   2.,   4.,  20., 110., 135., 120., 130., 140.,  18.,  10.,\n",
       "         6.,  55.,  98.,  96.,  94.,  92.,  88.,  86.,  35.,  45., 150.,\n",
       "       155., 160., 144.,  63.,  59.,  61.,  57.,  53.,  51.,  47.,  49.,\n",
       "       138., 136., 134., 132., 128., 126., 124.,  56., 105., 115.,  72.,\n",
       "        48.,  58.,  68.,  78., 108., 113., 170., 190., 215., 240., 270.,\n",
       "       300., 330., 360., 390.,  99.,  93.,  91.,  89.,  87.,  84.,  83.,\n",
       "        82.,  81.,  79.,  77.,  76.,  74.,  73.,  71.,  69.,  67.,  66.,\n",
       "        64.,  62.,  54.,  52.,  46.,  44.,  43.,  42.,  41., 125., 145.,\n",
       "       133., 131., 129., 127.,  37.,  36., 102.,  39., 175., 200.,   3.,\n",
       "        15.,  38.,  25.,  23.,  34., 180.,  31.,  19.,  13.,   7.,  17.,\n",
       "        27.,  21.,   9., 117., 114., 111.,  11.,   5., 123.,  33.,  29.,\n",
       "       109., 104., 195., 112., 121., 119., 107., 103.,  97., 165., 185.,\n",
       "       116., 147., 101., 106., 152., 118., 157.,   1., 205., 225., 245.,\n",
       "       265., 397., 264., 396., 210., 230., 153., 250., 122., 235., 255.])"
      ]
     },
     "execution_count": 10,
     "metadata": {},
     "output_type": "execute_result"
    }
   ],
   "source": [
    "# distinct values within total_dose column\n",
    "\n",
    "medication_dose.total_dose.unique()"
   ]
  },
  {
   "cell_type": "code",
   "execution_count": 13,
   "metadata": {},
   "outputs": [
    {
     "data": {
      "text/plain": [
       "(0.0, 397.0)"
      ]
     },
     "execution_count": 13,
     "metadata": {},
     "output_type": "execute_result"
    }
   ],
   "source": [
    "# print range of values for total_dose column\n",
    "medication_dose.total_dose.min(), medication_dose.total_dose.max()"
   ]
  },
  {
   "cell_type": "code",
   "execution_count": 11,
   "metadata": {},
   "outputs": [
    {
     "data": {
      "text/plain": [
       "1315"
      ]
     },
     "execution_count": 11,
     "metadata": {},
     "output_type": "execute_result"
    }
   ],
   "source": [
    "# print length of patdeid column, numbe of patients is consistent with CTN protocol\n",
    "\n",
    "medication_dose.patdeid.nunique()"
   ]
  },
  {
   "cell_type": "code",
   "execution_count": 9,
   "metadata": {},
   "outputs": [
    {
     "data": {
      "text/plain": [
       "admin_location\n",
       "1.0    137214\n",
       "2.0     21333\n",
       "Name: count, dtype: int64"
      ]
     },
     "execution_count": 9,
     "metadata": {},
     "output_type": "execute_result"
    }
   ],
   "source": [
    "# check for distribution of admin location values, 1 = Clinic, 2 = Take Home\n",
    "medication_dose.admin_location.value_counts()"
   ]
  },
  {
   "cell_type": "code",
   "execution_count": 14,
   "metadata": {},
   "outputs": [],
   "source": [
    "# save to CSV, then pass to layer 2 cleaning for merge\n",
    "\n",
    "medication_dose.to_csv('../data/medication_dose.csv', index=False)"
   ]
  }
 ],
 "metadata": {
  "kernelspec": {
   "display_name": "labs",
   "language": "python",
   "name": "python3"
  },
  "language_info": {
   "codemirror_mode": {
    "name": "ipython",
    "version": 3
   },
   "file_extension": ".py",
   "mimetype": "text/x-python",
   "name": "python",
   "nbconvert_exporter": "python",
   "pygments_lexer": "ipython3",
   "version": "3.9.16"
  },
  "orig_nbformat": 4
 },
 "nbformat": 4,
 "nbformat_minor": 2
}
