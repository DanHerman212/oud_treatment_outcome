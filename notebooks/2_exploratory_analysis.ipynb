{
 "cells": [
  {
   "cell_type": "code",
   "execution_count": 2,
   "metadata": {},
   "outputs": [
    {
     "name": "stdout",
     "output_type": "stream",
     "text": [
      "dataframe shape: (1305, 358)\n"
     ]
    }
   ],
   "source": [
    "# import common libraries\n",
    "import pandas as pd # data manipulation and extraction\n",
    "import numpy as np # vector operations\n",
    "import matplotlib.pyplot as plt # plot library\n",
    "import seaborn as sns # enhanced visual plot library\n",
    "import pingouin as pg # statistics package for running tests in dataframes\n",
    "import warnings \n",
    "warnings.filterwarnings('ignore')\n",
    "\n",
    "pd.set_option('display.max_columns', 100)\n",
    "#pd.options.display.float_format = '{:.2f}'.format\n",
    "\n",
    "# Load the data\n",
    "data = pd.read_csv('../notebooks/data/2024-Feb-21_data.csv')\n",
    "\n",
    "print(f'dataframe shape: {data.shape}')"
   ]
  },
  {
   "cell_type": "markdown",
   "metadata": {},
   "source": [
    "## Testing for Significant Difference\n",
    "In this notebook, the theme will be to test the difference between patient groups and learning what may cause someone to respond to treatment.\n",
    "\n",
    "- <u>group1</u> - n=275 patients who responded to treatment, by meeting the predetermined abstinence window<br>\n",
    "\n",
    "- <u>group0</u> - n=471 patients who fail to respond to treatment\n",
    "\n",
    "*Both groups completed 24 weeks of treatment total n=746 patients<br>\n",
    "\n",
    "The following data will be analyzed<br>\n",
    "\n",
    "- <u>Urine Drug Tests</u> - Scheduled once per week for 8 different drug classes once every 24 weeks.  Primary output measure is for positive opioid tests with secondary measure is for positive tests for other drug classes.<br>\n",
    "\n",
    "    <u>group1</u> - n=4805 tests<br>\n",
    "<br>\n",
    "    <u>group0</u> - n=14935 tests<br>\n",
    "<br>\n",
    "- <u>Self Reported Use</u> - Patients filled out surveys once every 4 weeks.  Each survey included instances of drug use for 8 different drug classes over the previous 30 days.  Surveys were collected at week 0 (baseline), then weeks 4, 8, 12, 16, 20 and 24.<br>\n",
    "<br>\n",
    "<u>Medication Doses</u> - Patients were given Methadone or Buprenorphine for treatment.  The distribution of patients is listed as follows:\n",
    "\n",
    "- <u>group1</u> - n=141 methadone and n=134 buprenorphine<br>\n",
    "<br>\n",
    "- <u>group2</u> - n=250 methadone and n=211 buprenophine\n",
    " \n",
    "\n",
    "<br>\n",
    "The definition of response is abstinence within a predetermined window, where the patient shows negative urine test for opioids during the final four weeks of treatment.<br>\n",
    "<br>\n",
    "First we will examine the statistical difference between groups and look for evidence in the data to show that the tests are robust.  The difference in patient data should serve as a risk signal.  Helping providers improve treatment, thus improving patient response. <br>\n",
    "<br>\n"
   ]
  },
  {
   "cell_type": "markdown",
   "metadata": {},
   "source": [
    "## Helper Functions\n",
    "Since the dataset is very wide with over 350 columns, we created a few functions to automate the analysis.\n",
    "- `plot_drug_tests()` - Will take input for `tests` and `surveys` for 8 different `drugclasses` and produce a plot showing the sum of positive tests for each drugclass for each week of treatment.  \n",
    "<br>\n",
    "\n",
    "- `drug_test_df()` - Will take same input as `plot_drug_test()` produces the dataframe for analysis without the plot.  There is option to analyze `meds` for medication doses\n",
    "<br>\n",
    "\n"
   ]
  },
  {
   "cell_type": "code",
   "execution_count": 3,
   "metadata": {},
   "outputs": [],
   "source": [
    "# create function to plot number of positive tests weekly for each drug class\n",
    "def plot_drug_tests(df, type, drugclass, ax=None):\n",
    "    \"\"\"\n",
    "    Plots the sum of drug test results for a specific drug class.\n",
    "\n",
    "    Parameters:\n",
    "    df (DataFrame): The input DataFrame containing the drug test data.\n",
    "    type (str): The type of drug test, either 'test' or 'survey'.\n",
    "    drugclass (str): The drug class to plot the results for.\n",
    "    ax (Axes, optional): The matplotlib Axes object to plot the bar chart on. If not provided, a new Axes object will be created.\n",
    "\n",
    "    Returns:\n",
    "    ax (Axes): The matplotlib Axes object containing the bar chart.\n",
    "\n",
    "    Raises:\n",
    "    AssertionError: If the type is not 'test' or 'survey'.\n",
    "    AssertionError: If the drugclass is not one of 'Propoxyphene', 'Amphetamines', 'Methamphetamine', 'Cannabinoids', 'Benzodiazepines', 'Cocaine'.\n",
    "    \"\"\"\n",
    "\n",
    "    # assert that type is either 'test' or 'survey'\n",
    "    assert type in ['test', 'survey'], 'type must be either \"test\" or \"survey\"'\n",
    "\n",
    "    # assert that drugclass must be include Propoxyphene, Amphetamines,Cannabinoids, Benzodiazepines, Cocaine (not case sensitive)\n",
    "    assert drugclass in ['Opiate300','Propoxyphene', 'Amphetamines', 'Methamphetamine', 'Cannabinoids', 'Benzodiazepines', 'Cocaine'], 'drugclass must be one of \"Propoxyphene\", \"Amphetamines\", \"Methamphetamine\", \"Cannabinoids\", \"Benzodiazepines\", \"Cocaine\" or \"Opiate300\"'\n",
    "\n",
    "    # filter df to total_visits == 26, this filters patients that completed treatment\n",
    "    df = df[df['total_visits'] == 26]\n",
    "\n",
    "    # create dataframe with columns for type and drug class\n",
    "    df = df[[col for col in df.columns if col.startswith(type+'_') and drugclass in col]]\n",
    "\n",
    "    # remove text and leave numbers in column names\n",
    "    df.columns = [col.split('_')[-1] for col in df.columns]\n",
    "\n",
    "    # fill nan values with 0\n",
    "    df = df.fillna(0)\n",
    "\n",
    "    # replace -5.0 with 0.0 \n",
    "    df = df.replace(-5.0, 0.0)\n",
    "\n",
    "    # plot the sum of the columns\n",
    "\n",
    "    # set condition if axis object is not passed\n",
    "    if ax is None:\n",
    "        ax = plt.gca()\n",
    "    sns.barplot(x=df.columns, y=df.sum(), ax=ax, palette='Blues_d')\n",
    "    \n",
    "    # create title\n",
    "    ax.set_title(f' {drugclass} tests', fontsize=15)\n",
    "    \n",
    "    # remove the x axis \n",
    "    ax.set_xticklabels('')\n",
    "\n",
    "    return ax"
   ]
  },
  {
   "cell_type": "code",
   "execution_count": 4,
   "metadata": {},
   "outputs": [],
   "source": [
    "\n",
    "# create function to plot number of positive tests weekly for each drug class\n",
    "def drug_test_df(df, type, drugclass, ax=None):\n",
    "    \"\"\"\n",
    "    Plots the sum of drug test results for a specific drug class.\n",
    "\n",
    "    Parameters:\n",
    "    df (DataFrame): The input DataFrame containing the drug test data.\n",
    "    type (str): The type of drug test, either 'test' or 'survey'.\n",
    "    drugclass (str): The drug class to plot the results for.\n",
    "    ax (Axes, optional): The matplotlib Axes object to plot the bar chart on. If not provided, a new Axes object will be created.\n",
    "\n",
    "    Returns:\n",
    "    ax (Axes): The matplotlib Axes object containing the bar chart.\n",
    "\n",
    "    Raises:\n",
    "    AssertionError: If the type is not 'test' or 'survey'.\n",
    "    AssertionError: If the drugclass is not one of 'Propoxyphene', 'Amphetamines', 'Methamphetamine', 'Cannabinoids', 'Benzodiazepines', 'Cocaine'.\n",
    "    \"\"\"\n",
    "\n",
    "    # assert that type is either 'test' or 'survey'\n",
    "    assert type in ['test', 'survey','meds'], f'{type} not a valid type for reporting'\n",
    "\n",
    "    # assert that drugclass must be include Propoxyphene, Amphetamines,Cannabinoids, Benzodiazepines, Cocaine (not case sensitive)\n",
    "    assert drugclass in ['Opiate300','Propoxyphene', 'Amphetamines', 'Methamphetamine', 'Cannabinoids', 'Benzodiazepines', 'Cocaine', 'cannabis','oxycodone','methadone','amphetamine','crystal','opiates','benzodiazepines','propoxyphene','cannabis','cocaine','oxycodone','methadone','amphetamine','methamphetamine','opiates','benzodiazepines','propoxyphene'],f'{drugclass} not a valid drug class'\n",
    "\n",
    "    # filter df to total_visits == 26, this filters patients that completed treatment\n",
    "    df = df[df['total_visits'] == 26]\n",
    "\n",
    "    # create dataframe with columns for type and drug class\n",
    "    df = df[[col for col in df.columns if col.startswith(type+'_') and drugclass in col]]\n",
    "\n",
    "    # remove text and leave numbers in column names\n",
    "    df.columns = [col.split('_')[-1] for col in df.columns]\n",
    "\n",
    "    # fill nan values with 0\n",
    "    df = df.fillna(0)\n",
    "\n",
    "    # replace -5.0 with 0.0 \n",
    "    df = df.replace(-5.0, 0.0)\n",
    "\n",
    "    # set condition for aggregation by type\n",
    "\n",
    "    if type == 'meds':\n",
    "        df = df.mean()\n",
    "    else:\n",
    "        df = df.sum()\n",
    "\n",
    "    df = pd.DataFrame(df)\n",
    "\n",
    "    df = df.rename(columns={0: f'{drugclass.lower()}'})\n",
    "\n",
    "    return df"
   ]
  },
  {
   "cell_type": "markdown",
   "metadata": {},
   "source": [
    "### Before getting into the analysis, show the cumulative response rate "
   ]
  },
  {
   "cell_type": "code",
   "execution_count": 11,
   "metadata": {},
   "outputs": [],
   "source": [
    "# add appropriate columns for plotting\n",
    "\n",
    "# calculate the cumulative sum of responders\n",
    "cumulative_response = pd.Series(data['responder']).cumsum()\n",
    "\n",
    "# calculate the cumulative sum of non-responders\n",
    "cumulative_non_response = (1 - pd.Series(data['responder'])).cumsum()\n",
    "\n",
    "# calculate the cumulative response rate\n",
    "cumulative_response_rate = cumulative_response / (cumulative_response + cumulative_non_response)"
   ]
  },
  {
   "cell_type": "code",
   "execution_count": 12,
   "metadata": {},
   "outputs": [
    {
     "data": {
      "image/png": "[encoded data removed]",
      "text/plain": [
       "<Figure size 1400x600 with 1 Axes>"
      ]
     },
     "metadata": {},
     "output_type": "display_data"
    }
   ],
   "source": [
    "# plot cumulative response curve\n",
    "fig, ax = plt.subplots(figsize=(14, 6))\n",
    "ax.plot(cumulative_response, label='Cumulative Responders')\n",
    "ax.plot(cumulative_non_response, label='Cumulative Non-Responders')\n",
    "ax.set_xlabel('Number of Patients')\n",
    "ax.set_ylabel('Number of Patients')\n",
    "ax.set_title('Cumulative Response Curve')\n",
    "ax.legend()\n",
    "plt.show()\n"
   ]
  },
  {
   "cell_type": "code",
   "execution_count": 10,
   "metadata": {},
   "outputs": [
    {
     "name": "stdout",
     "output_type": "stream",
     "text": [
      "Number of responders: 277\n",
      "Number of non-responders: 1028\n"
     ]
    }
   ],
   "source": [
    "# responders and non-responders\n",
    "print(f'Number of responders: {cumulative_response.iloc[-1]}')\n",
    "print(f'Number of non-responders: {cumulative_non_response.iloc[-1]}')"
   ]
  },
  {
   "cell_type": "markdown",
   "metadata": {},
   "source": [
    "### At this point, we will segment our data into 2 patient groups"
   ]
  },
  {
   "cell_type": "code",
   "execution_count": null,
   "metadata": {},
   "outputs": [],
   "source": [
    "# filter groups by responder class and total visits, indicating patient completed treatment\n",
    "group1 = data.loc[(data.responder==1)&(data.total_visits==26)]\n",
    "group0 = data.loc[(data.responder==0)&(data.total_visits==26)]"
   ]
  },
  {
   "cell_type": "markdown",
   "metadata": {},
   "source": [
    "## First we will analyze the urine drug tests "
   ]
  },
  {
   "cell_type": "markdown",
   "metadata": {},
   "source": [
    "### Create dataframe for group1"
   ]
  },
  {
   "cell_type": "code",
   "execution_count": null,
   "metadata": {},
   "outputs": [],
   "source": [
    "# create dataframe with number of drug test per drug class by treatment outcome\n",
    "\n",
    "# these are the patients that responded to treatment\n",
    "\n",
    "# create for loop to create a df for each drug class\n",
    "for drug in ['Opiate300','Propoxyphene', 'Amphetamines', 'Methamphetamine', 'Cannabinoids', 'Benzodiazepines', 'Cocaine']:\n",
    " # turn each drug class into a dataframe, with aggregation of drug test results\n",
    " globals()[f'{drug}'] = drug_test_df(group1, 'test', drug)\n",
    "\n",
    "# merge all the dataframes\n",
    "drug_test_r1 = pd.concat([Opiate300, Propoxyphene, Amphetamines, Methamphetamine, Cannabinoids, Benzodiazepines, Cocaine], axis=1)\n",
    "\n",
    "# add '-r1' to the end of each column name\n",
    "drug_test_r1.columns = [f'{col}_r1' for col in drug_test_r1.columns]\n",
    "\n",
    "drug_test_r1"
   ]
  },
  {
   "cell_type": "markdown",
   "metadata": {},
   "source": [
    "### create dataframe for group0"
   ]
  },
  {
   "cell_type": "code",
   "execution_count": null,
   "metadata": {},
   "outputs": [],
   "source": [
    "# create dataframe with number of drug test per drug class by treatment outcome\n",
    "\n",
    "# these are the patients that did not respond to treatment\n",
    "\n",
    "# create for loop to create a df for each drug class\n",
    "for drug in ['Opiate300','Propoxyphene', 'Amphetamines', 'Methamphetamine', 'Cannabinoids', 'Benzodiazepines', 'Cocaine']:\n",
    " # turn each drug class into a dataframe\n",
    " globals()[f'{drug}'] = drug_test_df(group0, 'test', drug)\n",
    "\n",
    "# merge all the dataframes\n",
    "drug_test_r0 = pd.concat([Opiate300, Propoxyphene, Amphetamines, Methamphetamine, Cannabinoids, Benzodiazepines, Cocaine], axis=1)\n",
    "\n",
    "# add '_r1' to the end of each column name\n",
    "drug_test_r0.columns = [f'{col}_r0' for col in drug_test_r0.columns]\n",
    "\n",
    "drug_test_r0\n"
   ]
  },
  {
   "cell_type": "markdown",
   "metadata": {},
   "source": [
    "### Test for evidence of statistical significance, in difference of test results between different patient groups"
   ]
  },
  {
   "cell_type": "code",
   "execution_count": null,
   "metadata": {},
   "outputs": [],
   "source": [
    "# create function to test each drug class for significance between difference in tests between groups\n",
    "def calculate_test_pvalues(group1, group2):\n",
    "    \"\"\"\n",
    "    Calculate test p-values for different drug classes between two groups.\n",
    "\n",
    "    Parameters:\n",
    "    group1 (DataFrame): Dataframe containing the data for group 1.\n",
    "    group2 (DataFrame): Dataframe containing the data for group 2.\n",
    "\n",
    "    Returns:\n",
    "    DataFrame: A dataframe containing the test p-values, significance, confidence intervals, cohen's d, Bayes Factor (BF10), and power for each drug class.\n",
    "    \"\"\"\n",
    "    \n",
    "    pval = []\n",
    "    significance = []\n",
    "    ci = []\n",
    "    cd_list = []  \n",
    "    bf10 = []\n",
    "    power = []\n",
    "\n",
    "    # perform ttest between each drug class\n",
    "    for drug in ['opiate300','propoxyphene', 'amphetamines', 'methamphetamine', 'cannabinoids', 'benzodiazepines', 'cocaine']:\n",
    "        t = pg.ttest(group1[f'{drug}_r1'], group2[f'{drug}_r0'], paired=False)['p-val'][0]\n",
    "        pval.append(t)\n",
    "        if t < 0.05:\n",
    "            significance.append('True')\n",
    "        else:\n",
    "            significance.append('False')\n",
    "        c = pg.ttest(group1[f'{drug}_r1'], group2[f'{drug}_r0'], paired=False)['CI95%'][0].tolist()\n",
    "        c = ', '.join(map(str, c))\n",
    "        ci.append(c)\n",
    "        cd = pg.ttest(group1[f'{drug}_r1'], group2[f'{drug}_r0'], paired=False)['cohen-d'][0]\n",
    "        cd_list.append(cd)  \n",
    "        b = pg.ttest(group1[f'{drug}_r1'], group2[f'{drug}_r0'], paired=False)['BF10'][0]\n",
    "        bf10.append(b)\n",
    "        p = pg.ttest(group1[f'{drug}_r1'], group2[f'{drug}_r0'], paired=False)['power'][0]\n",
    "        power.append(p)\n",
    "\n",
    "    test_pvs = pd.DataFrame(\n",
    "        {'drugClass':['opiate300','propoxyphene', 'amphetamines', 'methamphetamine', 'cannabinoids', 'benzodiazepines', 'cocaine'],\n",
    "         'pvalue':pval,\n",
    "         'significance':significance,\n",
    "         'CI95%':ci,\n",
    "         'cohen-d':cd_list,\n",
    "         'BF10:':bf10,\n",
    "         'power':power})\n",
    "\n",
    "    return test_pvs\n",
    "\n",
    "test_pvs = calculate_test_pvalues(drug_test_r1, drug_test_r0)\n",
    "\n",
    "test_pvs"
   ]
  },
  {
   "cell_type": "markdown",
   "metadata": {},
   "source": [
    "### There are significant differences in all drug classes between different patient groups\n",
    "Now that we've identified significant differences in clinical data, we will inspect those values further.  We expect to establish thresholds for risk with patient groups to help improve treatment outcomes."
   ]
  },
  {
   "cell_type": "markdown",
   "metadata": {},
   "source": [
    "### Now we will inspect the surveys for self reported drug use, from the same patient groups.\n",
    "We will apply the same statistical rigor to see if there are significant differences in surveys from different patient groups"
   ]
  },
  {
   "cell_type": "markdown",
   "metadata": {},
   "source": [
    "### create a dataframe with the sum of survey results from each different "
   ]
  },
  {
   "cell_type": "markdown",
   "metadata": {},
   "source": [
    "### starting with group1"
   ]
  },
  {
   "cell_type": "code",
   "execution_count": null,
   "metadata": {},
   "outputs": [],
   "source": [
    "# create loop to create a df for each drug class for survey data\n",
    "\n",
    "for drug in ['cannabis','cocaine','oxycodone','methadone','amphetamine','crystal','opiates','benzodiazepines','propoxyphene']:\n",
    "    # turn each drug class into a dataframe\n",
    "    globals()[f'{drug}'] = drug_test_df(group1, 'survey', drug)\n",
    "    \n",
    "# merge all the dataframes\n",
    "from functools import reduce\n",
    "\n",
    "drug_survey_r1 = reduce(lambda x, y: pd.merge(x, y, right_index=True,left_index=True), [cannabis, cocaine, oxycodone, methadone, amphetamine, crystal, opiates, benzodiazepines, propoxyphene])\n",
    "\n",
    "# add '-r1' to the end of each column name\n",
    "drug_survey_r1.columns = [f'{col}_r1' for col in drug_survey_r1.columns]\n",
    "\n",
    "drug_survey_r1"
   ]
  },
  {
   "cell_type": "markdown",
   "metadata": {},
   "source": [
    "### now to group0"
   ]
  },
  {
   "cell_type": "code",
   "execution_count": null,
   "metadata": {},
   "outputs": [],
   "source": [
    "# create loop to create a df for each drug class for survey data\n",
    "\n",
    "for drug in ['cannabis','cocaine','oxycodone','methadone','amphetamine','crystal','opiates','benzodiazepines','propoxyphene']:\n",
    "    # turn each drug class into a dataframe\n",
    "    globals()[f'{drug}'] = drug_test_df(group0, 'survey', drug)\n",
    "    \n",
    "# merge all the dataframes\n",
    "from functools import reduce\n",
    "\n",
    "drug_survey_r0 = reduce(lambda x, y: pd.merge(x, y, left_index=True, right_index=True), [cannabis, cocaine, oxycodone, methadone, amphetamine, crystal, opiates, benzodiazepines, propoxyphene])\n",
    "\n",
    "# add '-r1' to the end of each column name\n",
    "drug_survey_r0.columns = [f'{col}_r0' for col in drug_survey_r0.columns]\n",
    "\n",
    "# rename columns\n",
    "drug_survey_r0\n",
    "\n",
    "drug_survey_r0"
   ]
  },
  {
   "cell_type": "code",
   "execution_count": null,
   "metadata": {},
   "outputs": [],
   "source": [
    "def calculate_survey_pvalues(group1, group2):\n",
    "    \n",
    "    tests = []\n",
    "    significance = []\n",
    "    ci = [] \n",
    "    cd_list = []\n",
    "    bf10 = [] \n",
    "    power = []\n",
    "\n",
    "    # perform ttest between each drug class\n",
    "    for drug in ['cannabis','cocaine','oxycodone','methadone','amphetamine','crystal','opiates','benzodiazepines','propoxyphene']:\n",
    "        t = pg.ttest(group1[f'{drug}_r1'], group2[f'{drug}_r0'], paired=False)['p-val'][0]\n",
    "        tests.append(t)\n",
    "        if t < 0.05:\n",
    "            significance.append('True')\n",
    "        else:\n",
    "            significance.append('False')\n",
    "        c = pg.ttest(group1[f'{drug}_r1'], group2[f'{drug}_r0'], paired=False)['CI95%'][0].tolist()\n",
    "        c = ', '.join(map(str, c))\n",
    "        ci.append(c)\n",
    "        cd = pg.ttest(group1[f'{drug}_r1'], group2[f'{drug}_r0'], paired=False)['cohen-d'][0]\n",
    "        cd_list.append(cd)  \n",
    "        b = pg.ttest(group1[f'{drug}_r1'], group2[f'{drug}_r0'], paired=False)['BF10'][0]\n",
    "        bf10.append(b)\n",
    "        p = pg.ttest(group1[f'{drug}_r1'], group2[f'{drug}_r0'], paired=False)['power'][0]\n",
    "        power.append(p)\n",
    "\n",
    "    survey_pvs = pd.DataFrame(\n",
    "        {'drugClass':['cannabis','cocaine','oxycodone','methadone','amphetamine','crystal','opiates','benzodiazepines','propoxyphene'],\n",
    "         'pvalue':tests,\n",
    "         'significance':significance,\n",
    "         'CI95%':ci,\n",
    "         'cohen-d':cd_list,\n",
    "         'BF10:':bf10,\n",
    "         'power':power})\n",
    "\n",
    "    return survey_pvs\n",
    "\n",
    "survey_pvs = calculate_survey_pvalues(drug_survey_r1, drug_survey_r0)\n",
    "\n",
    "survey_pvs"
   ]
  },
  {
   "cell_type": "code",
   "execution_count": null,
   "metadata": {},
   "outputs": [],
   "source": [
    "totalgroup = group1.shape[0] + group0.shape[0]"
   ]
  },
  {
   "cell_type": "code",
   "execution_count": null,
   "metadata": {},
   "outputs": [],
   "source": [
    "# show confidence interval for differenc in mean positive tests for each drug class\n",
    "ci = survey_pvs.loc[:,['CI95%']]\n",
    "\n",
    "# separate the confidence intervals into two columns\n",
    "ci = ci['CI95%'].str.split(', ', expand=True)\n",
    "\n",
    "ci.columns = ['lower', 'upper']\n",
    "\n",
    "ci = ci.astype(float)\n",
    "\n",
    "ci['upp_avg_pos_test'] = ci['lower']/totalgroup\n",
    "ci['low_avg_pos_test'] = ci['upper']/totalgroup\n",
    "\n",
    "# drugclass\n",
    "ci['drugClass'] = survey_pvs['drugClass']\n",
    "\n",
    "# move  drugclass to first column\n",
    "cols = ci.columns.tolist()\n",
    "cols = cols[-1:] + cols[:-1]\n",
    "ci = ci[cols]\n",
    "\n",
    "ci\n"
   ]
  },
  {
   "cell_type": "code",
   "execution_count": null,
   "metadata": {},
   "outputs": [],
   "source": [
    "# show difference in avg weekly positive tests\n",
    "# for each responder group \n",
    "opiates1 = drug_test_df(group1, 'test', 'Opiate300')\n",
    "opiates0 = drug_test_df(group0, 'test', 'Opiate300')\n",
    "\n",
    "opiates = pd.concat([opiates1, opiates0], axis=1)\n",
    "\n",
    "opiates.columns = ['opiates_r1', 'opiates_r0']\n",
    "\n",
    "opiates"
   ]
  },
  {
   "cell_type": "markdown",
   "metadata": {},
   "source": [
    "## Plot Results"
   ]
  },
  {
   "cell_type": "code",
   "execution_count": null,
   "metadata": {},
   "outputs": [],
   "source": [
    "\n",
    "fig, ax = plt.subplots(1, 1, figsize=(10, 5))\n",
    "sns.lineplot(data=opiates, ax=ax, palette='Blues_d')\n",
    "ax.fill_between(opiates.index, opiates['opiates_r1'], opiates['opiates_r0'], color='lightblue', alpha=0.5)\n",
    "ax.set_title('Difference in Positive Opiates tests', fontsize=15)\n",
    "ax.set_xlabel('week of treatment')\n",
    "ax.set_ylabel('positive tests')\n",
    "plt.show()\n",
    "\n"
   ]
  },
  {
   "cell_type": "markdown",
   "metadata": {},
   "source": [
    "## Look at Change in Patterns of Drug Use for All Drug Classes"
   ]
  },
  {
   "cell_type": "markdown",
   "metadata": {},
   "source": [
    "### Start with Responder 1 group\n",
    "- Responder - meets predefined abstinence window - final 4 weeks of treatment"
   ]
  },
  {
   "cell_type": "code",
   "execution_count": null,
   "metadata": {},
   "outputs": [],
   "source": [
    "# lineplot for avg weekly positive tests for each drug class\n",
    "# for each responder group\n",
    "fig, ax = plt.subplots(2, 3, figsize=(15, 8))  \n",
    "for i, drug in enumerate(['Propoxyphene', 'Amphetamines', 'Methamphetamine', 'Cannabinoids', 'Benzodiazepines', 'Cocaine']):\n",
    "    plot_drug_tests(group1, 'test', drug, ax=ax.flatten()[i])\n",
    "plt.tight_layout()\n",
    "plt.show()"
   ]
  },
  {
   "cell_type": "markdown",
   "metadata": {},
   "source": [
    "### Now responder 0 group\n",
    "- Non - responder - Does not meet pre-defined abstinence window"
   ]
  },
  {
   "cell_type": "code",
   "execution_count": null,
   "metadata": {},
   "outputs": [],
   "source": [
    "# lineplot for avg weekly positive tests for each drug class\n",
    "# for each responder group\n",
    "fig, ax = plt.subplots(2, 3, figsize=(15, 8))  \n",
    "for i, drug in enumerate(['Propoxyphene', 'Amphetamines', 'Methamphetamine', 'Cannabinoids', 'Benzodiazepines', 'Cocaine']):\n",
    "    plot_drug_tests(group0, 'test', drug, ax=ax.flatten()[i])\n",
    "plt.tight_layout()\n",
    "plt.show()"
   ]
  },
  {
   "cell_type": "code",
   "execution_count": null,
   "metadata": {},
   "outputs": [],
   "source": [
    "# create 2 plots adjacent\n",
    "fig, ax = plt.subplots(1, 2, figsize=(20, 8))\n",
    "sns.lineplot(data=drug_test_r1, palette='Blues_d', ax=ax[0])\n",
    "sns.lineplot(data=drug_test_r0, palette='Blues_d', ax=ax[1])\n",
    "fig.suptitle('Avg Weekly Positive Drug Tests', fontsize=20)\n",
    "ax[0].set_title('Responder Group 1 - Positive Drug Tests', fontsize=15)\n",
    "ax[1].set_title('Responder Group 0 - Positive Drug Tests', fontsize=15)\n",
    "plt.show()\n"
   ]
  },
  {
   "cell_type": "markdown",
   "metadata": {},
   "source": [
    "### Let's examine how patients do half way through threatment?"
   ]
  },
  {
   "cell_type": "code",
   "execution_count": null,
   "metadata": {},
   "outputs": [],
   "source": [
    "# look at weeks with higher than average positive tests\n",
    "# look at self reported use and medication levels too\n",
    "\n",
    "week12_g1 = group1.agg({'test_Opiate300_12':'sum','meds_methadone_12':np.mean,'survey_opiates_12':np.mean}).to_frame().rename(columns={0:'group1'}).round()\n",
    "\n",
    "week12_g0 = group0.agg({'test_Opiate300_12':'sum','meds_methadone_12':np.mean,'survey_opiates_12':np.mean}).to_frame().rename(columns={0:'group0'}).round()\n",
    "\n",
    "week12 = pd.concat([week12_g1, week12_g0], axis=1)\n",
    "\n",
    "print(f'Rsponder group1 and group 0: Statuss at week 12')\n",
    "week12"
   ]
  },
  {
   "cell_type": "markdown",
   "metadata": {},
   "source": [
    "### Is there a pattern between responder groups, starting early in treatment?"
   ]
  },
  {
   "cell_type": "code",
   "execution_count": null,
   "metadata": {},
   "outputs": [],
   "source": [
    "# average positive tests for the first 12 weeks of treatment\n",
    "opiates.iloc[0:12,:].mean().to_frame().rename(columns={0:'avg_pos_tests'}).round().T"
   ]
  },
  {
   "cell_type": "code",
   "execution_count": null,
   "metadata": {},
   "outputs": [],
   "source": [
    "# averg positive tests for the final 12 weeks of treatment\n",
    "opiates.iloc[12:,:].mean().to_frame().rename(columns={0:'avg_pos_tests'}).round().T"
   ]
  },
  {
   "cell_type": "markdown",
   "metadata": {},
   "source": [
    "### Patient groups seem to be goin in the right direction\n",
    "- Responders who do well the first half of treatment, improve by 83% decrease in positive test for final 24 weeks\n",
    "- While non-responders seem to improve by 11% decrease in positive tests\n",
    "\n",
    "Conclusion: In general, patients who remain in treatment, show decline in positive opioid test by 11% - 83% for the 2nd half of treatment\n"
   ]
  },
  {
   "cell_type": "markdown",
   "metadata": {},
   "source": [
    "## Next we will analyze medication doses"
   ]
  },
  {
   "cell_type": "markdown",
   "metadata": {},
   "source": [
    "### First we will segment the medication doses for methadone into two patient groups"
   ]
  },
  {
   "cell_type": "code",
   "execution_count": null,
   "metadata": {},
   "outputs": [],
   "source": [
    "# create dataframe for med doses for each patient group\n",
    "\n",
    "# responder 1 patient group\n",
    "methadone_g1 = drug_test_df(group1, 'meds', 'methadone').round(2)\n",
    "\n",
    "# responder 0 patient group\n",
    "methadone_g0 = drug_test_df(group0, 'meds', 'methadone').round(2)\n",
    "\n",
    "# combine datasets for analysis\n",
    "diff = pd.concat([methadone_g1, methadone_g0], axis=1)\n",
    "\n",
    "# rename columns    \n",
    "diff.columns = ['responder', 'non_responder']\n",
    "\n",
    "# sample of the data\n",
    "diff"
   ]
  },
  {
   "cell_type": "code",
   "execution_count": null,
   "metadata": {},
   "outputs": [],
   "source": [
    "# test for equal variance\n",
    "pg.homoscedasticity(diff)"
   ]
  },
  {
   "cell_type": "markdown",
   "metadata": {},
   "source": [
    "### Test for significance between the different patient groups"
   ]
  },
  {
   "cell_type": "code",
   "execution_count": null,
   "metadata": {},
   "outputs": [],
   "source": [
    "# set significance level\n",
    "alpha = 0.05\n",
    "\n",
    "ttest = pg.ttest(diff.responder, diff.non_responder, paired=False, alternative='two-sided')\n",
    "\n",
    "display(ttest)\n",
    "\n",
    "if ttest['p-val'][0] < alpha:\n",
    "    print('Reject the null hypothesis')\n",
    "else:\n",
    "    print('Fail to reject the null hypothesis.') \n",
    "    print('\\n')\n",
    "    print('There is no significant difference in methadone doses between the two groups')"
   ]
  },
  {
   "cell_type": "markdown",
   "metadata": {},
   "source": [
    "## Visualize the difference"
   ]
  },
  {
   "cell_type": "code",
   "execution_count": null,
   "metadata": {},
   "outputs": [],
   "source": [
    "fig, ax = plt.subplots(1, 1, figsize=(18, 8))\n",
    "sns.lineplot(data=diff, ax=ax, palette='Blues_d')\n",
    "ax.fill_between(diff.index, diff['responder'], diff['non_responder'], color='lightblue', alpha=0.5)\n",
    "ax.set_title('Methadone Doses', fontsize=15)\n",
    "ax.set_xlabel('week of treatment')\n",
    "ax.set_ylabel('mg')\n",
    "plt.show()\n"
   ]
  }
 ],
 "metadata": {
  "kernelspec": {
   "display_name": "Python 3 (ipykernel)",
   "language": "python",
   "name": "python3"
  },
  "language_info": {
   "codemirror_mode": {
    "name": "ipython",
    "version": 3
   },
   "file_extension": ".py",
   "mimetype": "text/x-python",
   "name": "python",
   "nbconvert_exporter": "python",
   "pygments_lexer": "ipython3",
   "version": "3.9.18"
  }
 },
 "nbformat": 4,
 "nbformat_minor": 4
}
