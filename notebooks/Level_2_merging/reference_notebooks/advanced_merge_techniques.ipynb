{
 "cells": [
  {
   "cell_type": "code",
   "execution_count": null,
   "metadata": {},
   "outputs": [],
   "source": [
    "# set difference; apply to differen column values\n",
    "\n",
    "set(party['School Name']).difference(state['School Name'])"
   ]
  },
  {
   "cell_type": "code",
   "execution_count": null,
   "metadata": {},
   "outputs": [],
   "source": [
    "# evaluating 1 to 1 and 1 to many joins\n",
    "\n",
    "# evaluate 1 to 1, if keys are in both dfs\n",
    "df1[df1['School Name'].isin(df2['School Name'])]\n",
    "\n",
    "# evaluate if key column in df1 is in df2 and use loc chained to value counts to find frequency \n",
    "df1[df1['School Name'].isin(df2['School Name'])].loc[:, 'School Name'].value_counts()\n",
    "\n",
    "# convert back to 1 to 1 by dropping duplicates\n",
    "pd.merge(state, regions.drop_duplicates())"
   ]
  },
  {
   "cell_type": "code",
   "execution_count": null,
   "metadata": {},
   "outputs": [],
   "source": [
    "# check to see if value is in a particular data frame\n",
    "\n",
    "'Randolph-Macon College' in liberal['School Name'].values"
   ]
  },
  {
   "cell_type": "code",
   "execution_count": null,
   "metadata": {},
   "outputs": [],
   "source": [
    "# create a boolean mask to identify those school names that were duplicated; keep first instance and drop the rest, apply boolean mask to .concat() to preview dupes\n",
    "\n",
    "pd.concat(dfs)[pd.concat(dfs).duplicated(subset=['School Name'],keep='first')]\n",
    "\n",
    "# drop duplicates\n",
    "schools = pd.concat(dfs).drop_duplicates(subset='School Name')"
   ]
  },
  {
   "cell_type": "code",
   "execution_count": null,
   "metadata": {},
   "outputs": [],
   "source": [
    "# problems with duplicate indicies\n",
    "\n",
    "# in pandas we could have duplicated indicies - not meaningful to have duplicated index\n",
    "# slices will not work\n",
    "# preference is to have one common index with unique values\n",
    "# common approach is reset index\n",
    "\n",
    "# reset index\n",
    "schools.reset_index(drop=True, inplace=True)\n",
    "\n",
    "# identify duplicate indicies\n",
    "pd.concat(dfs, ignore_index=True).drop_duplicates(subset=['School Name']).index.duplicated().sum()\n",
    "\n",
    "# ignore index\n",
    "pd.concat([ivies2,eng2], ignore_index=True)\n",
    "\n",
    "# verify integrity\n",
    "pd.concat([ivies2,eng2], verify_integrity=True)\n",
    "\n",
    "# multi-index\n",
    "new_df = pd.concat([ivies,eng], keys=['ivyleague_schools','engineering_schools'])\n",
    "\n",
    "# must use .loc with tupel to access multi-index\n",
    "new_df.loc[('ivyleague_schools',3)]\n",
    "\n",
    "# iloc works normal with multi-index\n",
    "new_df.iloc[3]"
   ]
  },
  {
   "cell_type": "code",
   "execution_count": null,
   "metadata": {},
   "outputs": [],
   "source": [
    "# organize dfs for concat \n",
    "eng3 = eng.sort_values(by=['Starting Median Salary'], ascending=False)[:5].reset_index(drop=True)\n",
    "\n",
    "ivies3 = ivies.sort_values(by=['Starting Median Salary'], ascending=False)[:5].reset_index(drop=True)"
   ]
  },
  {
   "cell_type": "code",
   "execution_count": null,
   "metadata": {},
   "outputs": [],
   "source": [
    "# regex pattern to replace $ and , with string\n",
    "\n",
    "dfc.iloc[:, 3].replace('\\$|,','', regex=True).astype(float).mean()"
   ]
  },
  {
   "cell_type": "code",
   "execution_count": null,
   "metadata": {},
   "outputs": [],
   "source": [
    "# another concat use case with multi-index labels\n",
    "\n",
    "lib2 = liberal.sort_values(by=['Mid-Career Median Salary'], ascending=False)\\\n",
    "    .iloc[:3, [0,3]].reset_index(drop=True)\n",
    "\n",
    "state2 = state.sort_values(by=['Mid-Career Median Salary'], ascending=False)\\\n",
    "    .iloc[:3, [0,3]].reset_index(drop=True)"
   ]
  }
 ],
 "metadata": {
  "language_info": {
   "name": "python"
  },
  "orig_nbformat": 4
 },
 "nbformat": 4,
 "nbformat_minor": 2
}
