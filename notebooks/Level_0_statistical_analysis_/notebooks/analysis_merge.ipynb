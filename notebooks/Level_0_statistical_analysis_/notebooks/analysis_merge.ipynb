{
 "cells": [
  {
   "cell_type": "code",
   "execution_count": 1,
   "metadata": {},
   "outputs": [],
   "source": [
    "import pandas as pd\n",
    "import matplotlib.pyplot as plt\n",
    "import seaborn as sns  \n",
    "import functools as ft\n",
    "\n",
    "import warnings\n",
    "warnings.filterwarnings('ignore')\n",
    "\n",
    "# pd.set_option('display.max_columns', None)\n",
    "# pd.set_option('display.max_rows', None)"
   ]
  },
  {
   "cell_type": "code",
   "execution_count": 2,
   "metadata": {},
   "outputs": [],
   "source": [
    "# Import tables for merge\n",
    "\n",
    "# medication doses\n",
    "t1 = pd.read_csv('/Users/danherman/Desktop/oud_treatment_outcome/data/clean_data/feature_engineering_data/medication.csv')\n",
    "\n",
    "# urine drug tests\n",
    "t2 = pd.read_csv('/Users/danherman/Desktop/oud_treatment_outcome/data/clean_data/feature_engineering_data/urine_drug_screen.csv')\n",
    "\n",
    "# self reported drug use\n",
    "t3 = pd.read_csv('/Users/danherman/Desktop/oud_treatment_outcome/data/clean_data/feature_engineering_data/self_reported_use.csv')\n",
    "\n",
    "# abstinence target\n",
    "target = pd.read_csv('/Users/danherman/Desktop/oud_treatment_outcome/data/clean_data/feature_engineering_data/target.csv')\n",
    "\n",
    "# treatment retention target\n",
    "matv = pd.read_csv('/Users/danherman/Desktop/oud_treatment_outcome/data/clean_data/feature_engineering_data/admin_visits.csv')\n",
    "\n",
    "# demographics\n",
    "demo = pd.read_csv('/Users/danherman/Desktop/oud_treatment_outcome/data/clean_data/feature_engineering_data/demo.csv')\n",
    "\n",
    "# serious adverse events\n",
    "sae = pd.read_csv('/Users/danherman/Desktop/oud_treatment_outcome/data/clean_data/feature_engineering_data/sae.csv')"
   ]
  },
  {
   "cell_type": "code",
   "execution_count": 4,
   "metadata": {},
   "outputs": [],
   "source": [
    "dfs = [t1, t2, t3, target, matv, demo]\n",
    "\n",
    "oud = ft.reduce(lambda left,right: pd.merge(left,right,on='patdeid'), dfs)"
   ]
  },
  {
   "cell_type": "code",
   "execution_count": 6,
   "metadata": {},
   "outputs": [],
   "source": [
    "oud = oud.drop(['Unnamed: 0_x', 'Unnamed: 0_y'], axis=1)"
   ]
  },
  {
   "cell_type": "code",
   "execution_count": 7,
   "metadata": {},
   "outputs": [
    {
     "data": {
      "text/plain": [
       "(1237, 537)"
      ]
     },
     "execution_count": 7,
     "metadata": {},
     "output_type": "execute_result"
    }
   ],
   "source": [
    "oud.shape"
   ]
  },
  {
   "cell_type": "code",
   "execution_count": 8,
   "metadata": {},
   "outputs": [],
   "source": [
    "oud.to_csv('/Users/danherman/Desktop/oud_treatment_outcome/notebooks/Level_0_statistical_analysis/oud.csv', index=False)"
   ]
  }
 ],
 "metadata": {
  "kernelspec": {
   "display_name": "Python 3 (ipykernel)",
   "language": "python",
   "name": "python3"
  },
  "language_info": {
   "codemirror_mode": {
    "name": "ipython",
    "version": 3
   },
   "file_extension": ".py",
   "mimetype": "text/x-python",
   "name": "python",
   "nbconvert_exporter": "python",
   "pygments_lexer": "ipython3",
   "version": "3.9.18"
  }
 },
 "nbformat": 4,
 "nbformat_minor": 2
}
