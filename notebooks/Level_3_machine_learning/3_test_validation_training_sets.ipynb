{
 "cells": [
  {
   "cell_type": "code",
   "execution_count": null,
   "metadata": {},
   "outputs": [],
   "source": [
    "import pandas as pd\n",
    "from sklearn.model_selection import train_test_split\n"
   ]
  },
  {
   "cell_type": "code",
   "execution_count": null,
   "metadata": {},
   "outputs": [],
   "source": [
    "train_data_path = 'data/train.csv'\n",
    "test_data_path = 'data/test.csv'\n",
    "\n",
    "def process_data(train_data_path, test_data_path):\n",
    "    # Read the train and test data\n",
    "    train_data = pd.read_csv(train_data_path)\n",
    "    test_data = pd.read_csv(test_data_path)\n",
    "    \n",
    "    # Set X and y variables\n",
    "    X_train = train_data.drop(['outcome'], axis=1)\n",
    "    y_train = train_data['outcome']\n",
    "    \n",
    "    # Split data into training and test sets\n",
    "    X_test = test_data.drop(['outcome'], axis=1)\n",
    "    y_test = test_data['outcome']\n",
    "    \n",
    "    # Perform further processing or analysis on the data\n",
    "    \n",
    "    # Return the processed data\n",
    "    return X_train, X_test, y_train, y_test\n",
    "\n",
    "X_train, X_test, y_train, y_test = process_data(train_data_path, test_data_path)\n"
   ]
  }
 ],
 "metadata": {
  "kernelspec": {
   "display_name": "labs",
   "language": "python",
   "name": "python3"
  },
  "language_info": {
   "codemirror_mode": {
    "name": "ipython",
    "version": 3
   },
   "file_extension": ".py",
   "mimetype": "text/x-python",
   "name": "python",
   "nbconvert_exporter": "python",
   "pygments_lexer": "ipython3",
   "version": "3.9.18"
  },
  "orig_nbformat": 4
 },
 "nbformat": 4,
 "nbformat_minor": 2
}
