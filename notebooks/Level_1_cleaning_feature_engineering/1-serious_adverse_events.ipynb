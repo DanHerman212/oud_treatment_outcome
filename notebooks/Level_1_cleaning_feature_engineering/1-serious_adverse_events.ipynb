{
 "cells": [
  {
   "cell_type": "code",
   "execution_count": 1,
   "metadata": {},
   "outputs": [],
   "source": [
    "import pandas as pd\n",
    "import numpy as np\n",
    "import matplotlib.pyplot as plt\n",
    "\n",
    "pd.set_option('display.max_columns', None)\n",
    "pd.set_option('display.max_rows', None)\n",
    "\n",
    "df = pd.read_csv('/Users/danherman/Desktop/oud_treatment_outcome/data/raw_data_files/SAE.csv')"
   ]
  },
  {
   "cell_type": "code",
   "execution_count": 2,
   "metadata": {},
   "outputs": [
    {
     "data": {
      "text/html": [
       "<div>\n",
       "<style scoped>\n",
       "    .dataframe tbody tr th:only-of-type {\n",
       "        vertical-align: middle;\n",
       "    }\n",
       "\n",
       "    .dataframe tbody tr th {\n",
       "        vertical-align: top;\n",
       "    }\n",
       "\n",
       "    .dataframe thead th {\n",
       "        text-align: right;\n",
       "    }\n",
       "</style>\n",
       "<table border=\"1\" class=\"dataframe\">\n",
       "  <thead>\n",
       "    <tr style=\"text-align: right;\">\n",
       "      <th></th>\n",
       "      <th>patdeid</th>\n",
       "      <th>sae_name</th>\n",
       "      <th>sae_description</th>\n",
       "      <th>sae_severity</th>\n",
       "    </tr>\n",
       "  </thead>\n",
       "  <tbody>\n",
       "    <tr>\n",
       "      <th>0</th>\n",
       "      <td>28.0</td>\n",
       "      <td>SPONTANEOUS ABORTION</td>\n",
       "      <td>CLIENT WAS 9 5/7 WEEKS GESTATIONAL, COMPLAINED...</td>\n",
       "      <td>3.0</td>\n",
       "    </tr>\n",
       "    <tr>\n",
       "      <th>1</th>\n",
       "      <td>76.0</td>\n",
       "      <td>CONCUSSION</td>\n",
       "      <td>SEEN IN EMERGENCY ROOM ON 6/5/08 AFTER SUSTAIN...</td>\n",
       "      <td>3.0</td>\n",
       "    </tr>\n",
       "    <tr>\n",
       "      <th>2</th>\n",
       "      <td>88.0</td>\n",
       "      <td>RUPTURE OF PRE-EXISTING STOMACH ULCER</td>\n",
       "      <td>PPT HAD A RUPTURE OF A PRE-EXISITNG STOMACH UL...</td>\n",
       "      <td>3.0</td>\n",
       "    </tr>\n",
       "    <tr>\n",
       "      <th>3</th>\n",
       "      <td>88.0</td>\n",
       "      <td>LUMBAR FRACTURE</td>\n",
       "      <td>L1 COMPRESSION FRACTURE REQUIRING HOPITALIZATI...</td>\n",
       "      <td>2.0</td>\n",
       "    </tr>\n",
       "    <tr>\n",
       "      <th>4</th>\n",
       "      <td>88.0</td>\n",
       "      <td>STOMACH BLEEDING</td>\n",
       "      <td>PPT WAS HOSPITALIZED FOR STOMACH BLEEDING</td>\n",
       "      <td>3.0</td>\n",
       "    </tr>\n",
       "  </tbody>\n",
       "</table>\n",
       "</div>"
      ],
      "text/plain": [
       "   patdeid                               sae_name  \\\n",
       "0     28.0                   SPONTANEOUS ABORTION   \n",
       "1     76.0                             CONCUSSION   \n",
       "2     88.0  RUPTURE OF PRE-EXISTING STOMACH ULCER   \n",
       "3     88.0                        LUMBAR FRACTURE   \n",
       "4     88.0                       STOMACH BLEEDING   \n",
       "\n",
       "                                     sae_description  sae_severity  \n",
       "0  CLIENT WAS 9 5/7 WEEKS GESTATIONAL, COMPLAINED...           3.0  \n",
       "1  SEEN IN EMERGENCY ROOM ON 6/5/08 AFTER SUSTAIN...           3.0  \n",
       "2  PPT HAD A RUPTURE OF A PRE-EXISITNG STOMACH UL...           3.0  \n",
       "3  L1 COMPRESSION FRACTURE REQUIRING HOPITALIZATI...           2.0  \n",
       "4          PPT WAS HOSPITALIZED FOR STOMACH BLEEDING           3.0  "
      ]
     },
     "execution_count": 2,
     "metadata": {},
     "output_type": "execute_result"
    }
   ],
   "source": [
    "# Drop columns not used for this study\n",
    "df = df.drop(columns=[col for col in df.columns if col not in ['patdeid','SAE002',\n",
    "'SAE003','SAE007']])\n",
    "\n",
    "# rename columns for interpretability\n",
    "df = df.rename(columns={'SAE002':'sae_name','SAE003':'sae_description','SAE007':'sae_severity'})\n",
    "\n",
    "# move 'patdeid' to first position\n",
    "col = df.pop('patdeid')\n",
    "df.insert(0, col.name, col)\n",
    "\n",
    "# observe first 5 rows\n",
    "df[:5]"
   ]
  },
  {
   "cell_type": "code",
   "execution_count": 3,
   "metadata": {},
   "outputs": [
    {
     "data": {
      "text/plain": [
       "sae_severity\n",
       "3.0       48\n",
       "2.0       34\n",
       "4.0       19\n",
       "5.0        4\n",
       "1.0        2\n",
       "1145.0     1\n",
       "1520.0     1\n",
       "1733.0     1\n",
       "Name: count, dtype: int64"
      ]
     },
     "execution_count": 3,
     "metadata": {},
     "output_type": "execute_result"
    }
   ],
   "source": [
    "df.sae_severity.value_counts()"
   ]
  },
  {
   "cell_type": "code",
   "execution_count": 4,
   "metadata": {},
   "outputs": [],
   "source": [
    "df.to_csv('/Users/danherman/Desktop/oud_treatment_outcome/data/clean_data/feature_engineering_data/sae.csv', index=False)"
   ]
  }
 ],
 "metadata": {
  "kernelspec": {
   "display_name": "transformers",
   "language": "python",
   "name": "python3"
  },
  "language_info": {
   "codemirror_mode": {
    "name": "ipython",
    "version": 3
   },
   "file_extension": ".py",
   "mimetype": "text/x-python",
   "name": "python",
   "nbconvert_exporter": "python",
   "pygments_lexer": "ipython3",
   "version": "3.9.18"
  }
 },
 "nbformat": 4,
 "nbformat_minor": 2
}
