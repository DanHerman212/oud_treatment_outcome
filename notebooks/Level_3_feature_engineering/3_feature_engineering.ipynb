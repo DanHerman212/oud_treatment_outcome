{
 "cells": [
  {
   "cell_type": "code",
   "execution_count": null,
   "metadata": {},
   "outputs": [],
   "source": [
    "import pandas as pd\n",
    "import numpy as np\n",
    "import matplotlib.pyplot as plt\n",
    "import seaborn as sns\n",
    "import plotly.express as px\n",
    "\n",
    "\n",
    "pd.set_option('display.max_columns', None)\n",
    "pd.set_option('display.max_rows', None)"
   ]
  },
  {
   "cell_type": "code",
   "execution_count": null,
   "metadata": {},
   "outputs": [],
   "source": [
    "# read in the merged csv\n",
    "\n",
    "f = pd.read_csv('/Users/danherman/Desktop/oud_treatment_outcome/data/clean_data/merged.csv')"
   ]
  },
  {
   "cell_type": "code",
   "execution_count": null,
   "metadata": {},
   "outputs": [],
   "source": [
    "# check out the head of the df\n",
    "\n",
    "f[:25]"
   ]
  },
  {
   "cell_type": "markdown",
   "metadata": {},
   "source": [
    "Before we do anything else, we must create the target variable.  A patient must meet 2 conditions to have reached the desired outcomes, listed as follows:<br>\n",
    "\n",
    "1.  Complete 24 weeks of treatment (this is validated by looking at the final 4 tests)<br>\n",
    "2.  Show 4 consecutive clean urine tests for opiates for visits 21 -24"
   ]
  },
  {
   "cell_type": "code",
   "execution_count": null,
   "metadata": {},
   "outputs": [],
   "source": [
    "# for rows in 'VISIT' column that equal 21,22,23,24 if 't_Opiate300' is 0, then 1, else 0\n",
    "\n",
    "f['w_21'] = np.where((f['VISIT']==21) & (f['t_Opiate300']==0), 1, 0)\n",
    "f['w_22'] = np.where((f['VISIT']==22) & (f['t_Opiate300']==0), 1, 0)\n",
    "f['w_23'] = np.where((f['VISIT']==23) & (f['t_Opiate300']==0), 1, 0)\n",
    "f['w_24'] = np.where((f['VISIT']==24) & (f['t_Opiate300']==0), 1, 0)"
   ]
  },
  {
   "cell_type": "code",
   "execution_count": null,
   "metadata": {},
   "outputs": [],
   "source": [
    "#create new column 'c_tests' which updates value to 1 for clean tests in each of the last 4 weeks of treatement \n",
    "\n",
    "f['c_tests'] = f['w_21'] + f['w_22'] + f['w_23'] + f['w_24']\n",
    "\n",
    "# change c_tests to float\n",
    "f['c_tests'] = f['c_tests'].astype(float)"
   ]
  },
  {
   "cell_type": "code",
   "execution_count": null,
   "metadata": {},
   "outputs": [],
   "source": [
    "f.c_tests.value_counts()"
   ]
  },
  {
   "cell_type": "code",
   "execution_count": null,
   "metadata": {},
   "outputs": [],
   "source": [
    "f[:25]"
   ]
  },
  {
   "cell_type": "code",
   "execution_count": null,
   "metadata": {},
   "outputs": [],
   "source": [
    "# for each unique patient id (patdeid), if sum of c_tests column is equal to 4\n",
    "# then create new column 'outcome' where the value is 1 else 0\n",
    "\n",
    "for i in f['patdeid'].unique():\n",
    "    if f.loc[f['patdeid']==i, 'c_tests'].sum() == 4:\n",
    "        f.loc[f['patdeid']==i, 'outcome'] = 1\n",
    "    else:\n",
    "        f.loc[f['patdeid']==i, 'outcome'] = 0\n"
   ]
  },
  {
   "cell_type": "code",
   "execution_count": null,
   "metadata": {},
   "outputs": [],
   "source": [
    "f[:25]"
   ]
  },
  {
   "cell_type": "code",
   "execution_count": null,
   "metadata": {},
   "outputs": [],
   "source": [
    "# change columns to float \n",
    "\n",
    "for col in f.columns:\n",
    "    if col.startswith('w_'):\n",
    "        f[col] = f[col].astype(float)\n",
    "    "
   ]
  },
  {
   "cell_type": "markdown",
   "metadata": {},
   "source": [
    "Target variable 'outcome' successfully created<br>\n",
    "<br>\n",
    "Next we will need to differentiate between patients that completed 24 weeks of treatment"
   ]
  },
  {
   "cell_type": "code",
   "execution_count": null,
   "metadata": {},
   "outputs": [],
   "source": [
    "# create column 'c_t' (completed treatment) \n",
    "# if VISIT column contains values in range from 21 to 24, then 1, else 0\n",
    "\n",
    "f['c_t'] = np.where(f['VISIT'].isin(range(0,25)), 1.0, 0.0)\n",
    "\n",
    "# change c_t to float\n",
    "f['c_t'] = f['c_t'].astype(float)"
   ]
  },
  {
   "cell_type": "code",
   "execution_count": null,
   "metadata": {},
   "outputs": [],
   "source": [
    "f.c_t.value_counts()"
   ]
  },
  {
   "cell_type": "code",
   "execution_count": null,
   "metadata": {},
   "outputs": [],
   "source": [
    "f[:25]"
   ]
  },
  {
   "cell_type": "code",
   "execution_count": null,
   "metadata": {},
   "outputs": [],
   "source": [
    "# create function that provides random sample from patdeid column, that takes df as input\n",
    "\n",
    "def random_sample(df):\n",
    "    return df.patdeid.sample(1).values[0]"
   ]
  },
  {
   "cell_type": "code",
   "execution_count": null,
   "metadata": {},
   "outputs": [],
   "source": [
    "# create snapshot of patient data for 24 week period, validate that target variable is correct\n",
    "\n",
    "f.loc[f.patdeid==random_sample(f),\n",
    "['patdeid','VISIT','medication','total_dose','t_Opiate300',\n",
    "'w_21','w_22','w_23','w_24','c_tests','outcome','c_t']][:25]"
   ]
  },
  {
   "cell_type": "code",
   "execution_count": null,
   "metadata": {},
   "outputs": [],
   "source": [
    "# look at distribution of outcomes for patients who completed treatment\n",
    "\n",
    "display(f.loc[f.c_t==1.0].outcome.value_counts())\n",
    "display(f.loc[f.c_t==1.0].outcome.value_counts(normalize=True))"
   ]
  },
  {
   "cell_type": "code",
   "execution_count": null,
   "metadata": {},
   "outputs": [],
   "source": [
    "# create pie chart for treatment outcomes\n",
    "\n",
    "f.loc[f.outcome].value_counts().plot(kind='pie',\n",
    "                                              title='Treatment Outcome',\n",
    "                                              figsize=(6,4),\n",
    "                                                autopct='%1.1f%%',\n",
    "                                                labels=['Negative Outcome','Positive Outcome'],\n",
    "                                                colors=['#ff9999','#66b3ff'],\n",
    "                                                textprops={'fontsize': 14}),plt.ylabel('');\n",
    "                                                "
   ]
  },
  {
   "cell_type": "code",
   "execution_count": null,
   "metadata": {},
   "outputs": [],
   "source": [
    "# bar chart for opiate tests for patient population\n",
    "f.groupby('VISIT').agg({'t_Opiate300':'sum'}).plot(kind='bar', \n",
    "                                                   figsize=(20,5), \n",
    "                                                   legend=False,\n",
    "                                                   title='Positive Opiate Tests', \n",
    "                                                   xlabel='Week in Treatment', \n",
    "                                                   ylabel='Number of Positive Tests');"
   ]
  },
  {
   "cell_type": "code",
   "execution_count": null,
   "metadata": {},
   "outputs": [],
   "source": [
    "# lineplot comparing other positive tests to opiates\n",
    "\n",
    "f.groupby('VISIT').agg({'t_alcohol':'sum',\n",
    "                        't_Opiate300':'sum',\n",
    "                        't_Cannabinoids':'sum'}).plot(kind='line', \n",
    "                                                   figsize=(15,5), \n",
    "                                                   legend=True,\n",
    "                                                   title='Positive Opiate vs. Alcohol', \n",
    "                                                   xlabel='Week in Treatment', \n",
    "                                                   ylabel='Number of Positive Tests');"
   ]
  },
  {
   "cell_type": "code",
   "execution_count": null,
   "metadata": {},
   "outputs": [],
   "source": [
    "# every time you run this cell, you will get a random patient sample\n",
    "# this is a snapshot of the patient's data for the 24 week period\n",
    "\n",
    "f.loc[f.patdeid==random_sample(f)].groupby('VISIT').agg({'total_dose':'sum',\n",
    "                                          't_Opiate300':'sum'}).plot(\n",
    "                                            kind='barh', stacked=True, figsize=(6,5),\n",
    "                                            title=(f'Patient {random_sample(f)} - Medication Dose vs. Positive Tests'),\n",
    "                                            legend=False, xlabel='Medication Dose & Opioid Tests',\n",
    "                                            ylabel='Week in Treatment');"
   ]
  },
  {
   "cell_type": "code",
   "execution_count": null,
   "metadata": {},
   "outputs": [],
   "source": [
    "# create 2 plots next to eachother\n",
    "\n",
    "fig, (ax1, ax2) = plt.subplots(1,2, figsize=(20,5))\n",
    "\n",
    "# Patient 1\n",
    "f.loc[f.patdeid==random_sample(f)].groupby('VISIT').agg({'total_dose':'sum',\n",
    "                                          't_Opiate300':'sum'}).plot(\n",
    "                                            kind='barh', stacked=True, \n",
    "                                            title=(f'Patient {random_sample(f)} - Medication Dose vs. Positive Tests'),\n",
    "                                            legend=False, xlabel='Medication Dose & Opioid Tests',\n",
    "                                            ylabel='Week in Treatment',ax=ax1);\n",
    "\n",
    "# Patient 2                                                \n",
    "f.loc[f.patdeid==random_sample(f)].groupby('VISIT').agg({'total_dose':'sum',\n",
    "                                          't_Opiate300':'sum'}).plot(\n",
    "                                            kind='barh', stacked=True, \n",
    "                                            title=(f'Patient {random_sample(f)} - Medication Dose vs. Positive Tests'),\n",
    "                                            legend=False, xlabel='Medication Dose & Opioid Tests',\n",
    "                                            ylabel='Week in Treatment',ax=ax2);\n",
    "\n"
   ]
  },
  {
   "cell_type": "code",
   "execution_count": null,
   "metadata": {},
   "outputs": [],
   "source": [
    "# plot 2 plots next to eachother\n",
    "\n",
    "fig, (ax1, ax2) = plt.subplots(1,2, figsize=(24,6))\n",
    "\n",
    "# remove count from legend align to center\n",
    "\n",
    "f.loc[f.c_t==1.0].outcome.value_counts().plot(kind='pie',\n",
    "                                                title='Treatment Outcome',\n",
    "                                                autopct='%1.1f%%',\n",
    "                                                ylabel='',\n",
    "                                                labels=['Negative Outcome','Positive Outcome'],\n",
    "                                                colors=['#ff9999','#66b3ff'],\n",
    "                                                textprops={'fontsize': 14},\n",
    "                                                ax=ax1);\n",
    "\n",
    "\n",
    "\n",
    "# plot lineplot for positive opiate tests for patients who completed treatment\n",
    "\n",
    "f.groupby('VISIT').agg({'t_Opiate300':'sum'}).plot(kind='bar',  \n",
    "                                                   legend=False,\n",
    "                                                   title='Total Population - Positive Opioid Tests', \n",
    "                                                   xlabel='Week in Treatment', \n",
    "                                                   ylabel='Number of Positive Tests',\n",
    "                                                   ax=ax2);\n"
   ]
  },
  {
   "cell_type": "code",
   "execution_count": null,
   "metadata": {},
   "outputs": [],
   "source": [
    "# save to csv for next step, one hot encoding\n",
    "\n",
    "f.to_csv('/Users/danherman/Desktop/oud_treatment_outcome/data/clean_data/fe.csv', index=False)"
   ]
  }
 ],
 "metadata": {
  "kernelspec": {
   "display_name": "labs",
   "language": "python",
   "name": "python3"
  },
  "language_info": {
   "codemirror_mode": {
    "name": "ipython",
    "version": 3
   },
   "file_extension": ".py",
   "mimetype": "text/x-python",
   "name": "python",
   "nbconvert_exporter": "python",
   "pygments_lexer": "ipython3",
   "version": "3.9.16"
  },
  "orig_nbformat": 4
 },
 "nbformat": 4,
 "nbformat_minor": 2
}
