{
 "cells": [
  {
   "cell_type": "code",
   "execution_count": 1,
   "metadata": {},
   "outputs": [
    {
     "name": "stdout",
     "output_type": "stream",
     "text": [
      "Intel MKL WARNING: Support of Intel(R) Streaming SIMD Extensions 4.2 (Intel(R) SSE4.2) enabled only processors has been deprecated. Intel oneAPI Math Kernel Library 2025.0 will require Intel(R) Advanced Vector Extensions (Intel(R) AVX) instructions.\n",
      "Intel MKL WARNING: Support of Intel(R) Streaming SIMD Extensions 4.2 (Intel(R) SSE4.2) enabled only processors has been deprecated. Intel oneAPI Math Kernel Library 2025.0 will require Intel(R) Advanced Vector Extensions (Intel(R) AVX) instructions.\n"
     ]
    }
   ],
   "source": [
    "import pandas as pd\n",
    "import numpy as np\n",
    "import matplotlib.pyplot as plt\n",
    "\n",
    "# warnings\n",
    "import warnings\n",
    "warnings.filterwarnings('ignore')"
   ]
  },
  {
   "cell_type": "markdown",
   "metadata": {},
   "source": [
    "This next step involves initializing our pipeline. We save the result inside a variable called `classifier`. We are also using the `facebook/bart-large-mnli model`. There are other zero-shot models available."
   ]
  },
  {
   "cell_type": "code",
   "execution_count": 2,
   "metadata": {},
   "outputs": [],
   "source": [
    "from transformers import pipeline\n",
    "classifier = pipeline(\"zero-shot-classification\", model = \"facebook/bart-large-mnli\")"
   ]
  },
  {
   "cell_type": "markdown",
   "metadata": {},
   "source": [
    "We will use this model because it is the most popular, with over one million downloads. \n",
    "<br>\n",
    "The `facebook/bart-large-mnli. model` is also the default model of the `zero-shot-classification` pipeline. So you could also use the following code:\n"
   ]
  },
  {
   "cell_type": "code",
   "execution_count": 3,
   "metadata": {},
   "outputs": [
    {
     "name": "stderr",
     "output_type": "stream",
     "text": [
      "No model was supplied, defaulted to facebook/bart-large-mnli and revision c626438 (https://huggingface.co/facebook/bart-large-mnli).\n",
      "Using a pipeline without specifying a model name and revision in production is not recommended.\n"
     ]
    }
   ],
   "source": [
    "classifier = pipeline('zero-shot-classification')"
   ]
  },
  {
   "cell_type": "markdown",
   "metadata": {},
   "source": [
    "Next, we need a list of input text and candidate labels. We will store these results inside the `input_sequence` and `label_candidate` variables."
   ]
  },
  {
   "cell_type": "code",
   "execution_count": 4,
   "metadata": {},
   "outputs": [],
   "source": [
    "input_sequence = 'Nick Kyrgios devastated after US Open quarterfinal defeat to Karen Khachanov'\n",
    "candidate_labels = ['education','sports', 'tennis' ,'technology', 'politics']"
   ]
  },
  {
   "cell_type": "markdown",
   "metadata": {},
   "source": [
    "Next, we just feed the sentence and labels into our model"
   ]
  },
  {
   "cell_type": "code",
   "execution_count": 5,
   "metadata": {},
   "outputs": [
    {
     "data": {
      "text/plain": [
       "{'sequence': 'Nick Kyrgios devastated after US Open quarterfinal defeat to Karen Khachanov',\n",
       " 'labels': ['sports', 'tennis', 'technology', 'education', 'politics'],\n",
       " 'scores': [0.6065843105316162,\n",
       "  0.36493441462516785,\n",
       "  0.012164142914116383,\n",
       "  0.010968311689794064,\n",
       "  0.005348804406821728]}"
      ]
     },
     "execution_count": 5,
     "metadata": {},
     "output_type": "execute_result"
    }
   ],
   "source": [
    "classifier(input_sequence, candidate_labels)"
   ]
  },
  {
   "cell_type": "code",
   "execution_count": 6,
   "metadata": {},
   "outputs": [],
   "source": [
    "input_sequence = 'CLIENT WAS 9 5/7 WEEKS GESTATIONAL, COMPLAINED OF CRAMPING AND VAGINAL BLEEDING.  DIAGNOSED WITH MISCARRIAGE ON 10/5/07 THEREFORE A D&C WAS PERFORMED'\n",
    "candidate_labels = ['overdose','possible overdose', 'something else']"
   ]
  },
  {
   "cell_type": "code",
   "execution_count": 7,
   "metadata": {},
   "outputs": [
    {
     "data": {
      "text/plain": [
       "{'sequence': 'CLIENT WAS 9 5/7 WEEKS GESTATIONAL, COMPLAINED OF CRAMPING AND VAGINAL BLEEDING.  DIAGNOSED WITH MISCARRIAGE ON 10/5/07 THEREFORE A D&C WAS PERFORMED',\n",
       " 'labels': ['something else', 'possible overdose', 'overdose'],\n",
       " 'scores': [0.45250174403190613, 0.3708648681640625, 0.17663337290287018]}"
      ]
     },
     "execution_count": 7,
     "metadata": {},
     "output_type": "execute_result"
    }
   ],
   "source": [
    "classifier(input_sequence, candidate_labels)"
   ]
  },
  {
   "cell_type": "code",
   "execution_count": 8,
   "metadata": {},
   "outputs": [],
   "source": [
    "input_sequence = 'SEEN IN EMERGENCY ROOM ON 6/5/08 AFTER SUSTAINING HEAD TRAUMA.  DIAGNOSED WITH A CONCUSSION, RELEASED FROM EMERGENCY ROOM PER PATIENT REPORT.  STILL EXPERIENCING POST-CONCUSSION SYNDROME.  DISCHARGE REPORT PENDING.'\n",
    "candidate_labels = ['overdose','possible overdose', 'something else']"
   ]
  },
  {
   "cell_type": "code",
   "execution_count": 9,
   "metadata": {},
   "outputs": [
    {
     "data": {
      "text/plain": [
       "{'sequence': 'SEEN IN EMERGENCY ROOM ON 6/5/08 AFTER SUSTAINING HEAD TRAUMA.  DIAGNOSED WITH A CONCUSSION, RELEASED FROM EMERGENCY ROOM PER PATIENT REPORT.  STILL EXPERIENCING POST-CONCUSSION SYNDROME.  DISCHARGE REPORT PENDING.',\n",
       " 'labels': ['something else', 'possible overdose', 'overdose'],\n",
       " 'scores': [0.47056254744529724, 0.41535791754722595, 0.11407947540283203]}"
      ]
     },
     "execution_count": 9,
     "metadata": {},
     "output_type": "execute_result"
    }
   ],
   "source": [
    "classifier(input_sequence, candidate_labels)"
   ]
  },
  {
   "cell_type": "code",
   "execution_count": null,
   "metadata": {},
   "outputs": [],
   "source": []
  }
 ],
 "metadata": {
  "kernelspec": {
   "display_name": "labs",
   "language": "python",
   "name": "python3"
  },
  "language_info": {
   "codemirror_mode": {
    "name": "ipython",
    "version": 3
   },
   "file_extension": ".py",
   "mimetype": "text/x-python",
   "name": "python",
   "nbconvert_exporter": "python",
   "pygments_lexer": "ipython3",
   "version": "3.9.18"
  },
  "orig_nbformat": 4
 },
 "nbformat": 4,
 "nbformat_minor": 2
}
